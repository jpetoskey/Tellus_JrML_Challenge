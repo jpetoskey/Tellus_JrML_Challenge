{
 "cells": [
  {
   "cell_type": "markdown",
   "metadata": {
    "toc": true
   },
   "source": [
    "<h1>Table of Contents<span class=\"tocSkip\"></span></h1>\n",
    "<div class=\"toc\"><ul class=\"toc-item\"><li><span><a href=\"#Introduction\" data-toc-modified-id=\"Introduction-1\"><span class=\"toc-item-num\">1&nbsp;&nbsp;</span>Introduction</a></span><ul class=\"toc-item\"><li><span><a href=\"#Key-Terms\" data-toc-modified-id=\"Key-Terms-1.1\"><span class=\"toc-item-num\">1.1&nbsp;&nbsp;</span>Key Terms</a></span></li><li><span><a href=\"#Normal-Heart-and-Respiratory-Rates\" data-toc-modified-id=\"Normal-Heart-and-Respiratory-Rates-1.2\"><span class=\"toc-item-num\">1.2&nbsp;&nbsp;</span>Normal Heart and Respiratory Rates</a></span></li><li><span><a href=\"#Sources\" data-toc-modified-id=\"Sources-1.3\"><span class=\"toc-item-num\">1.3&nbsp;&nbsp;</span>Sources</a></span></li></ul></li><li><span><a href=\"#Import-Libraries\" data-toc-modified-id=\"Import-Libraries-2\"><span class=\"toc-item-num\">2&nbsp;&nbsp;</span>Import Libraries</a></span></li><li><span><a href=\"#Import-Data\" data-toc-modified-id=\"Import-Data-3\"><span class=\"toc-item-num\">3&nbsp;&nbsp;</span>Import Data</a></span></li><li><span><a href=\"#Prepare-Data\" data-toc-modified-id=\"Prepare-Data-4\"><span class=\"toc-item-num\">4&nbsp;&nbsp;</span>Prepare Data</a></span><ul class=\"toc-item\"><li><span><a href=\"#Convert-Bool-to-Int\" data-toc-modified-id=\"Convert-Bool-to-Int-4.1\"><span class=\"toc-item-num\">4.1&nbsp;&nbsp;</span>Convert Bool to Int</a></span></li><li><span><a href=\"#Select-In-Room-Data\" data-toc-modified-id=\"Select-In-Room-Data-4.2\"><span class=\"toc-item-num\">4.2&nbsp;&nbsp;</span>Select In-Room Data</a></span></li><li><span><a href=\"#Replace-Invalid-Data\" data-toc-modified-id=\"Replace-Invalid-Data-4.3\"><span class=\"toc-item-num\">4.3&nbsp;&nbsp;</span>Replace Invalid Data</a></span></li></ul></li><li><span><a href=\"#Alert-Indicators\" data-toc-modified-id=\"Alert-Indicators-5\"><span class=\"toc-item-num\">5&nbsp;&nbsp;</span>Alert Indicators</a></span><ul class=\"toc-item\"><li><span><a href=\"#Immediate-Danger-Indicators\" data-toc-modified-id=\"Immediate-Danger-Indicators-5.1\"><span class=\"toc-item-num\">5.1&nbsp;&nbsp;</span>Immediate Danger Indicators</a></span></li><li><span><a href=\"#Recommend-Doctor's-Visit\" data-toc-modified-id=\"Recommend-Doctor's-Visit-5.2\"><span class=\"toc-item-num\">5.2&nbsp;&nbsp;</span>Recommend Doctor's Visit</a></span><ul class=\"toc-item\"><li><span><a href=\"#Define-rolling-function\" data-toc-modified-id=\"Define-rolling-function-5.2.1\"><span class=\"toc-item-num\">5.2.1&nbsp;&nbsp;</span>Define rolling function</a></span></li><li><span><a href=\"#Group-by-User-ID-for-Rolling-Mean\" data-toc-modified-id=\"Group-by-User-ID-for-Rolling-Mean-5.2.2\"><span class=\"toc-item-num\">5.2.2&nbsp;&nbsp;</span>Group by User ID for Rolling Mean</a></span></li></ul></li><li><span><a href=\"#Alert-Features\" data-toc-modified-id=\"Alert-Features-5.3\"><span class=\"toc-item-num\">5.3&nbsp;&nbsp;</span>Alert Features</a></span><ul class=\"toc-item\"><li><span><a href=\"#Non-Emergency-Alert\" data-toc-modified-id=\"Non-Emergency-Alert-5.3.1\"><span class=\"toc-item-num\">5.3.1&nbsp;&nbsp;</span>Non-Emergency Alert</a></span></li><li><span><a href=\"#Emergency-Alert\" data-toc-modified-id=\"Emergency-Alert-5.3.2\"><span class=\"toc-item-num\">5.3.2&nbsp;&nbsp;</span>Emergency Alert</a></span></li><li><span><a href=\"#Doctor's-visit-Alert\" data-toc-modified-id=\"Doctor's-visit-Alert-5.3.3\"><span class=\"toc-item-num\">5.3.3&nbsp;&nbsp;</span>Doctor's visit Alert</a></span></li><li><span><a href=\"#Alert-Compilation-Feature\" data-toc-modified-id=\"Alert-Compilation-Feature-5.3.4\"><span class=\"toc-item-num\">5.3.4&nbsp;&nbsp;</span>Alert Compilation Feature</a></span></li></ul></li></ul></li></ul></div>"
   ]
  },
  {
   "cell_type": "markdown",
   "metadata": {},
   "source": [
    "# Introduction\n",
    "* Utilize heart and respiration rates of patients in a nursing home facility to determine if they need a staff member to check-in.\n",
    "    * Check-ins will be classified by emergency, non-emergency, and doctor's visit."
   ]
  },
  {
   "cell_type": "markdown",
   "metadata": {},
   "source": [
    "## Key Terms\n",
    "* rr = Respiration Rate\n",
    "* hr = Heart Rate\n",
    "* ts = Time Stamp"
   ]
  },
  {
   "cell_type": "markdown",
   "metadata": {
    "ExecuteTime": {
     "end_time": "2022-07-18T21:05:17.033035Z",
     "start_time": "2022-07-18T21:05:17.012417Z"
    }
   },
   "source": [
    "## Normal Heart and Respiratory Rates\n",
    "* Normal range of respiratory rate in geriatric facility 16-25 breaths a minute.\n",
    "* Normal range of Heart Rate:\n",
    "    * 60 years: 80 to 136 beats per minute\n",
    "    * 65 years: 78 to 132 beats per minute\n",
    "    * 70 years: 75 to 128 beats per minute"
   ]
  },
  {
   "cell_type": "markdown",
   "metadata": {},
   "source": [
    "## Sources\n",
    "* [Normal Heart Rate for Elderly Adults](https://www.griswoldhomecare.com/blog/2021/september/normal-heart-rate-for-elderly-adults/)\n",
    "* [Raised respiratory rate in elderly patients: a valuable physical sign](https://www.ncbi.nlm.nih.gov/pmc/articles/PMC1496225/)\n",
    "* [Cardiopulmonary Resuscitation in Adults Over 80: Outcome and the Perception of Appropriateness by Clinicians](https://agsjournals.onlinelibrary.wiley.com/doi/full/10.1111/jgs.16270)"
   ]
  },
  {
   "cell_type": "markdown",
   "metadata": {},
   "source": [
    "# Import Libraries"
   ]
  },
  {
   "cell_type": "code",
   "execution_count": 2,
   "metadata": {
    "ExecuteTime": {
     "end_time": "2022-07-18T21:06:00.534719Z",
     "start_time": "2022-07-18T21:05:57.382057Z"
    }
   },
   "outputs": [],
   "source": [
    "import warnings\n",
    "warnings.filterwarnings('ignore')\n",
    "\n",
    "import pandas as pd\n",
    "import matplotlib.pyplot as plt\n",
    "import matplotlib\n",
    "import pandas as pd \n",
    "import numpy as np"
   ]
  },
  {
   "cell_type": "markdown",
   "metadata": {},
   "source": [
    "# Import Data"
   ]
  },
  {
   "cell_type": "code",
   "execution_count": 3,
   "metadata": {
    "ExecuteTime": {
     "end_time": "2022-07-18T21:06:23.146632Z",
     "start_time": "2022-07-18T21:06:23.008075Z"
    }
   },
   "outputs": [
    {
     "data": {
      "text/html": [
       "<div>\n",
       "<style scoped>\n",
       "    .dataframe tbody tr th:only-of-type {\n",
       "        vertical-align: middle;\n",
       "    }\n",
       "\n",
       "    .dataframe tbody tr th {\n",
       "        vertical-align: top;\n",
       "    }\n",
       "\n",
       "    .dataframe thead th {\n",
       "        text-align: right;\n",
       "    }\n",
       "</style>\n",
       "<table border=\"1\" class=\"dataframe\">\n",
       "  <thead>\n",
       "    <tr style=\"text-align: right;\">\n",
       "      <th></th>\n",
       "      <th>in_room</th>\n",
       "      <th>rr</th>\n",
       "      <th>hr</th>\n",
       "      <th>ts</th>\n",
       "      <th>user_id</th>\n",
       "    </tr>\n",
       "  </thead>\n",
       "  <tbody>\n",
       "    <tr>\n",
       "      <th>0</th>\n",
       "      <td>False</td>\n",
       "      <td>0.0</td>\n",
       "      <td>93.546196</td>\n",
       "      <td>2019-03-20 03:00:00</td>\n",
       "      <td>1</td>\n",
       "    </tr>\n",
       "    <tr>\n",
       "      <th>1</th>\n",
       "      <td>False</td>\n",
       "      <td>0.0</td>\n",
       "      <td>-1.000000</td>\n",
       "      <td>2019-03-20 03:01:00</td>\n",
       "      <td>1</td>\n",
       "    </tr>\n",
       "    <tr>\n",
       "      <th>2</th>\n",
       "      <td>False</td>\n",
       "      <td>0.0</td>\n",
       "      <td>-1.000000</td>\n",
       "      <td>2019-03-20 03:02:00</td>\n",
       "      <td>1</td>\n",
       "    </tr>\n",
       "    <tr>\n",
       "      <th>3</th>\n",
       "      <td>False</td>\n",
       "      <td>0.0</td>\n",
       "      <td>98.374496</td>\n",
       "      <td>2019-03-20 03:03:00</td>\n",
       "      <td>1</td>\n",
       "    </tr>\n",
       "    <tr>\n",
       "      <th>4</th>\n",
       "      <td>False</td>\n",
       "      <td>0.0</td>\n",
       "      <td>94.692595</td>\n",
       "      <td>2019-03-20 03:04:00</td>\n",
       "      <td>1</td>\n",
       "    </tr>\n",
       "    <tr>\n",
       "      <th>...</th>\n",
       "      <td>...</td>\n",
       "      <td>...</td>\n",
       "      <td>...</td>\n",
       "      <td>...</td>\n",
       "      <td>...</td>\n",
       "    </tr>\n",
       "    <tr>\n",
       "      <th>35924</th>\n",
       "      <td>False</td>\n",
       "      <td>0.0</td>\n",
       "      <td>-1.000000</td>\n",
       "      <td>2019-09-17 02:56:00</td>\n",
       "      <td>5</td>\n",
       "    </tr>\n",
       "    <tr>\n",
       "      <th>35925</th>\n",
       "      <td>False</td>\n",
       "      <td>0.0</td>\n",
       "      <td>96.253551</td>\n",
       "      <td>2019-09-17 02:57:00</td>\n",
       "      <td>5</td>\n",
       "    </tr>\n",
       "    <tr>\n",
       "      <th>35926</th>\n",
       "      <td>False</td>\n",
       "      <td>0.0</td>\n",
       "      <td>97.546875</td>\n",
       "      <td>2019-09-17 02:58:00</td>\n",
       "      <td>5</td>\n",
       "    </tr>\n",
       "    <tr>\n",
       "      <th>35927</th>\n",
       "      <td>False</td>\n",
       "      <td>0.0</td>\n",
       "      <td>-1.000000</td>\n",
       "      <td>2019-09-17 02:59:00</td>\n",
       "      <td>5</td>\n",
       "    </tr>\n",
       "    <tr>\n",
       "      <th>35928</th>\n",
       "      <td>False</td>\n",
       "      <td>0.0</td>\n",
       "      <td>95.335478</td>\n",
       "      <td>2019-09-17 03:00:00</td>\n",
       "      <td>5</td>\n",
       "    </tr>\n",
       "  </tbody>\n",
       "</table>\n",
       "<p>35929 rows × 5 columns</p>\n",
       "</div>"
      ],
      "text/plain": [
       "       in_room   rr         hr                   ts  user_id\n",
       "0        False  0.0  93.546196  2019-03-20 03:00:00        1\n",
       "1        False  0.0  -1.000000  2019-03-20 03:01:00        1\n",
       "2        False  0.0  -1.000000  2019-03-20 03:02:00        1\n",
       "3        False  0.0  98.374496  2019-03-20 03:03:00        1\n",
       "4        False  0.0  94.692595  2019-03-20 03:04:00        1\n",
       "...        ...  ...        ...                  ...      ...\n",
       "35924    False  0.0  -1.000000  2019-09-17 02:56:00        5\n",
       "35925    False  0.0  96.253551  2019-09-17 02:57:00        5\n",
       "35926    False  0.0  97.546875  2019-09-17 02:58:00        5\n",
       "35927    False  0.0  -1.000000  2019-09-17 02:59:00        5\n",
       "35928    False  0.0  95.335478  2019-09-17 03:00:00        5\n",
       "\n",
       "[35929 rows x 5 columns]"
      ]
     },
     "execution_count": 3,
     "metadata": {},
     "output_type": "execute_result"
    }
   ],
   "source": [
    "df = pd.read_csv('data/Tellus - ML test data')\n",
    "df"
   ]
  },
  {
   "cell_type": "markdown",
   "metadata": {},
   "source": [
    "# Prepare Data"
   ]
  },
  {
   "cell_type": "code",
   "execution_count": 12,
   "metadata": {
    "ExecuteTime": {
     "end_time": "2022-07-18T21:12:19.374800Z",
     "start_time": "2022-07-18T21:12:19.362242Z"
    }
   },
   "outputs": [],
   "source": [
    "# Copy DataFrame\n",
    "df_present = df.copy()"
   ]
  },
  {
   "cell_type": "markdown",
   "metadata": {},
   "source": [
    "## Convert Bool to Int"
   ]
  },
  {
   "cell_type": "code",
   "execution_count": 13,
   "metadata": {
    "ExecuteTime": {
     "end_time": "2022-07-18T21:12:19.863770Z",
     "start_time": "2022-07-18T21:12:19.854332Z"
    }
   },
   "outputs": [],
   "source": [
    "# Convert bool to int\n",
    "df_present[\"in_room\"] = df_present[\"in_room\"].astype(int)"
   ]
  },
  {
   "cell_type": "markdown",
   "metadata": {},
   "source": [
    "## Select In-Room Data"
   ]
  },
  {
   "cell_type": "code",
   "execution_count": 14,
   "metadata": {
    "ExecuteTime": {
     "end_time": "2022-07-18T21:12:20.279393Z",
     "start_time": "2022-07-18T21:12:20.263770Z"
    }
   },
   "outputs": [],
   "source": [
    "# Select in_room = 1\n",
    "df_present = df_present.loc[df_present['in_room'] == 1]"
   ]
  },
  {
   "cell_type": "markdown",
   "metadata": {},
   "source": [
    "## Replace Invalid Data"
   ]
  },
  {
   "cell_type": "code",
   "execution_count": 15,
   "metadata": {
    "ExecuteTime": {
     "end_time": "2022-07-18T21:12:20.671929Z",
     "start_time": "2022-07-18T21:12:20.660982Z"
    }
   },
   "outputs": [],
   "source": [
    "# Replace invalid values with NaN\n",
    "df_present['hr'] = df_present['hr'].replace(-1, np.NaN)\n",
    "df_present['rr'] = df_present['rr'].replace(0, np.NaN)\n",
    "df_present['rr'] = df_present['rr'].replace(-1, np.NaN)"
   ]
  },
  {
   "cell_type": "markdown",
   "metadata": {},
   "source": [
    "# Alert Indicators"
   ]
  },
  {
   "cell_type": "code",
   "execution_count": 16,
   "metadata": {
    "ExecuteTime": {
     "end_time": "2022-07-18T21:12:21.057607Z",
     "start_time": "2022-07-18T21:12:21.052521Z"
    }
   },
   "outputs": [],
   "source": [
    "# Make copy of df_present\n",
    "df_MA = df_present.copy()"
   ]
  },
  {
   "cell_type": "markdown",
   "metadata": {},
   "source": [
    "## Immediate Danger Indicators\n",
    "* Resuscitation possible in this scenario"
   ]
  },
  {
   "cell_type": "code",
   "execution_count": 17,
   "metadata": {
    "ExecuteTime": {
     "end_time": "2022-07-18T21:12:21.453406Z",
     "start_time": "2022-07-18T21:12:21.439062Z"
    }
   },
   "outputs": [],
   "source": [
    "# 3 Minute moving average for rr and hr\n",
    "df_MA['rr_MA_3_min'] = df_MA['rr'].rolling(window=3,min_periods=3).mean()\n",
    "df_MA['hr_MA_3_min'] = df_MA['hr'].rolling(window=3,min_periods=3).mean()"
   ]
  },
  {
   "cell_type": "markdown",
   "metadata": {},
   "source": [
    "## Recommend Doctor's Visit\n",
    "* Respiratory rate too high or too low over 1 day period.\n",
    "    * Likelihood of respiratory, urinary, or other infection higher than normal."
   ]
  },
  {
   "cell_type": "markdown",
   "metadata": {},
   "source": [
    "### Define rolling function\n",
    "* To allow application with groupby()"
   ]
  },
  {
   "cell_type": "code",
   "execution_count": 18,
   "metadata": {
    "ExecuteTime": {
     "end_time": "2022-07-18T21:12:22.086864Z",
     "start_time": "2022-07-18T21:12:22.081069Z"
    }
   },
   "outputs": [],
   "source": [
    "# Define rolling function\n",
    "def day_rolling(df):\n",
    "    df['rr_MA_1_day'] = df['rr'].rolling(window=1440,min_periods=1000).mean()\n",
    "    return df"
   ]
  },
  {
   "cell_type": "markdown",
   "metadata": {},
   "source": [
    "### Group by User ID for Rolling Mean"
   ]
  },
  {
   "cell_type": "code",
   "execution_count": 20,
   "metadata": {
    "ExecuteTime": {
     "end_time": "2022-07-18T21:12:28.462515Z",
     "start_time": "2022-07-18T21:12:28.399431Z"
    }
   },
   "outputs": [
    {
     "data": {
      "text/html": [
       "<div>\n",
       "<style scoped>\n",
       "    .dataframe tbody tr th:only-of-type {\n",
       "        vertical-align: middle;\n",
       "    }\n",
       "\n",
       "    .dataframe tbody tr th {\n",
       "        vertical-align: top;\n",
       "    }\n",
       "\n",
       "    .dataframe thead th {\n",
       "        text-align: right;\n",
       "    }\n",
       "</style>\n",
       "<table border=\"1\" class=\"dataframe\">\n",
       "  <thead>\n",
       "    <tr style=\"text-align: right;\">\n",
       "      <th></th>\n",
       "      <th>in_room</th>\n",
       "      <th>rr</th>\n",
       "      <th>hr</th>\n",
       "      <th>ts</th>\n",
       "      <th>user_id</th>\n",
       "      <th>rr_MA_3_min</th>\n",
       "      <th>hr_MA_3_min</th>\n",
       "      <th>rr_MA_1_day</th>\n",
       "    </tr>\n",
       "  </thead>\n",
       "  <tbody>\n",
       "    <tr>\n",
       "      <th>314</th>\n",
       "      <td>1</td>\n",
       "      <td>5.252827</td>\n",
       "      <td>92.413238</td>\n",
       "      <td>2019-03-20 08:14:00</td>\n",
       "      <td>1</td>\n",
       "      <td>NaN</td>\n",
       "      <td>NaN</td>\n",
       "      <td>NaN</td>\n",
       "    </tr>\n",
       "    <tr>\n",
       "      <th>315</th>\n",
       "      <td>1</td>\n",
       "      <td>NaN</td>\n",
       "      <td>90.451836</td>\n",
       "      <td>2019-03-20 08:15:00</td>\n",
       "      <td>1</td>\n",
       "      <td>NaN</td>\n",
       "      <td>NaN</td>\n",
       "      <td>NaN</td>\n",
       "    </tr>\n",
       "    <tr>\n",
       "      <th>316</th>\n",
       "      <td>1</td>\n",
       "      <td>NaN</td>\n",
       "      <td>NaN</td>\n",
       "      <td>2019-03-20 08:16:00</td>\n",
       "      <td>1</td>\n",
       "      <td>NaN</td>\n",
       "      <td>NaN</td>\n",
       "      <td>NaN</td>\n",
       "    </tr>\n",
       "    <tr>\n",
       "      <th>318</th>\n",
       "      <td>1</td>\n",
       "      <td>8.180480</td>\n",
       "      <td>NaN</td>\n",
       "      <td>2019-03-20 08:18:00</td>\n",
       "      <td>1</td>\n",
       "      <td>NaN</td>\n",
       "      <td>NaN</td>\n",
       "      <td>NaN</td>\n",
       "    </tr>\n",
       "    <tr>\n",
       "      <th>319</th>\n",
       "      <td>1</td>\n",
       "      <td>18.764710</td>\n",
       "      <td>NaN</td>\n",
       "      <td>2019-03-20 08:19:00</td>\n",
       "      <td>1</td>\n",
       "      <td>NaN</td>\n",
       "      <td>NaN</td>\n",
       "      <td>NaN</td>\n",
       "    </tr>\n",
       "    <tr>\n",
       "      <th>...</th>\n",
       "      <td>...</td>\n",
       "      <td>...</td>\n",
       "      <td>...</td>\n",
       "      <td>...</td>\n",
       "      <td>...</td>\n",
       "      <td>...</td>\n",
       "      <td>...</td>\n",
       "      <td>...</td>\n",
       "    </tr>\n",
       "    <tr>\n",
       "      <th>35875</th>\n",
       "      <td>1</td>\n",
       "      <td>10.667067</td>\n",
       "      <td>73.873197</td>\n",
       "      <td>2019-09-17 02:07:00</td>\n",
       "      <td>5</td>\n",
       "      <td>15.833669</td>\n",
       "      <td>NaN</td>\n",
       "      <td>17.333498</td>\n",
       "    </tr>\n",
       "    <tr>\n",
       "      <th>35876</th>\n",
       "      <td>1</td>\n",
       "      <td>8.311632</td>\n",
       "      <td>63.986545</td>\n",
       "      <td>2019-09-17 02:08:00</td>\n",
       "      <td>5</td>\n",
       "      <td>10.723089</td>\n",
       "      <td>72.111172</td>\n",
       "      <td>17.326064</td>\n",
       "    </tr>\n",
       "    <tr>\n",
       "      <th>35877</th>\n",
       "      <td>1</td>\n",
       "      <td>NaN</td>\n",
       "      <td>NaN</td>\n",
       "      <td>2019-09-17 02:09:00</td>\n",
       "      <td>5</td>\n",
       "      <td>NaN</td>\n",
       "      <td>NaN</td>\n",
       "      <td>17.324765</td>\n",
       "    </tr>\n",
       "    <tr>\n",
       "      <th>35878</th>\n",
       "      <td>1</td>\n",
       "      <td>NaN</td>\n",
       "      <td>NaN</td>\n",
       "      <td>2019-09-17 02:10:00</td>\n",
       "      <td>5</td>\n",
       "      <td>NaN</td>\n",
       "      <td>NaN</td>\n",
       "      <td>17.324017</td>\n",
       "    </tr>\n",
       "    <tr>\n",
       "      <th>35879</th>\n",
       "      <td>1</td>\n",
       "      <td>NaN</td>\n",
       "      <td>93.320312</td>\n",
       "      <td>2019-09-17 02:11:00</td>\n",
       "      <td>5</td>\n",
       "      <td>NaN</td>\n",
       "      <td>NaN</td>\n",
       "      <td>17.322458</td>\n",
       "    </tr>\n",
       "  </tbody>\n",
       "</table>\n",
       "<p>22004 rows × 8 columns</p>\n",
       "</div>"
      ],
      "text/plain": [
       "       in_room         rr         hr                   ts  user_id  \\\n",
       "314          1   5.252827  92.413238  2019-03-20 08:14:00        1   \n",
       "315          1        NaN  90.451836  2019-03-20 08:15:00        1   \n",
       "316          1        NaN        NaN  2019-03-20 08:16:00        1   \n",
       "318          1   8.180480        NaN  2019-03-20 08:18:00        1   \n",
       "319          1  18.764710        NaN  2019-03-20 08:19:00        1   \n",
       "...        ...        ...        ...                  ...      ...   \n",
       "35875        1  10.667067  73.873197  2019-09-17 02:07:00        5   \n",
       "35876        1   8.311632  63.986545  2019-09-17 02:08:00        5   \n",
       "35877        1        NaN        NaN  2019-09-17 02:09:00        5   \n",
       "35878        1        NaN        NaN  2019-09-17 02:10:00        5   \n",
       "35879        1        NaN  93.320312  2019-09-17 02:11:00        5   \n",
       "\n",
       "       rr_MA_3_min  hr_MA_3_min  rr_MA_1_day  \n",
       "314            NaN          NaN          NaN  \n",
       "315            NaN          NaN          NaN  \n",
       "316            NaN          NaN          NaN  \n",
       "318            NaN          NaN          NaN  \n",
       "319            NaN          NaN          NaN  \n",
       "...            ...          ...          ...  \n",
       "35875    15.833669          NaN    17.333498  \n",
       "35876    10.723089    72.111172    17.326064  \n",
       "35877          NaN          NaN    17.324765  \n",
       "35878          NaN          NaN    17.324017  \n",
       "35879          NaN          NaN    17.322458  \n",
       "\n",
       "[22004 rows x 8 columns]"
      ]
     },
     "execution_count": 20,
     "metadata": {},
     "output_type": "execute_result"
    }
   ],
   "source": [
    "# Apply function with groupby \n",
    "df_MA = df_MA.groupby(\"user_id\").apply(day_rolling)\n",
    "df_MA"
   ]
  },
  {
   "cell_type": "markdown",
   "metadata": {},
   "source": [
    "## Alert Features\n",
    "* Yellow: Doctor's visit recommended for potential infection.\n",
    "* Orange: Check-in recommended for abnormal heart or respiratory rate.\n",
    "* Red: Emergency check-in required for simultaneously abnormal heart and respiratory rates."
   ]
  },
  {
   "cell_type": "markdown",
   "metadata": {},
   "source": [
    "### Non-Emergency Alert"
   ]
  },
  {
   "cell_type": "code",
   "execution_count": 21,
   "metadata": {
    "ExecuteTime": {
     "end_time": "2022-07-18T21:13:22.259196Z",
     "start_time": "2022-07-18T21:13:22.238376Z"
    }
   },
   "outputs": [],
   "source": [
    "df_MA_Alert = df_MA.copy()"
   ]
  },
  {
   "cell_type": "code",
   "execution_count": 22,
   "metadata": {
    "ExecuteTime": {
     "end_time": "2022-07-18T21:16:49.170810Z",
     "start_time": "2022-07-18T21:16:49.116742Z"
    }
   },
   "outputs": [],
   "source": [
    "# Create value Orange for conditions outside rr boundaries\n",
    "conditions = [\n",
    "    (df_MA_Alert['rr_MA_3_min'] > 32),\n",
    "    (df_MA_Alert['rr_MA_3_min'] < 12),\n",
    "    ]\n",
    "\n",
    "values = ['Orange', 'Orange']\n",
    "\n",
    "df_MA_Alert['RR_Alert'] = np.select(conditions, values)"
   ]
  },
  {
   "cell_type": "code",
   "execution_count": 23,
   "metadata": {
    "ExecuteTime": {
     "end_time": "2022-07-18T21:16:54.186000Z",
     "start_time": "2022-07-18T21:16:54.172272Z"
    }
   },
   "outputs": [],
   "source": [
    "# Create value Orange for conditions outside hr boundaries\n",
    "conditions = [\n",
    "    (df_MA_Alert['hr_MA_3_min'] > 110),\n",
    "    (df_MA_Alert['hr_MA_3_min'] < 50)\n",
    "    ]\n",
    "\n",
    "values = ['Orange', 'Orange']\n",
    "\n",
    "df_MA_Alert['HR_Alert'] = np.select(conditions, values)"
   ]
  },
  {
   "cell_type": "markdown",
   "metadata": {},
   "source": [
    "### Emergency Alert"
   ]
  },
  {
   "cell_type": "code",
   "execution_count": 24,
   "metadata": {
    "ExecuteTime": {
     "end_time": "2022-07-18T21:17:11.474090Z",
     "start_time": "2022-07-18T21:17:11.457764Z"
    }
   },
   "outputs": [],
   "source": [
    "# Create value Red for conditions when hr and rr are outside boundaries\n",
    "conditions = [\n",
    "    (df_MA_Alert['RR_Alert'] == 'Orange') & (df_MA_Alert['HR_Alert'] == 'Orange'),\n",
    "    ]\n",
    "\n",
    "values = ['Red']\n",
    "\n",
    "df_MA_Alert['Red_Alert'] = np.select(conditions, values)"
   ]
  },
  {
   "cell_type": "markdown",
   "metadata": {},
   "source": [
    "### Doctor's visit Alert"
   ]
  },
  {
   "cell_type": "code",
   "execution_count": 25,
   "metadata": {
    "ExecuteTime": {
     "end_time": "2022-07-18T21:17:38.040204Z",
     "start_time": "2022-07-18T21:17:38.025164Z"
    }
   },
   "outputs": [],
   "source": [
    "conditions = [\n",
    "    (df_MA_Alert['rr_MA_1_day'] > 26),\n",
    "    (df_MA_Alert['rr_MA_1_day'] < 17)\n",
    "    ]\n",
    "\n",
    "values = ['Yellow', 'Yellow']\n",
    "\n",
    "df_MA_Alert['Infection_Alert'] = np.select(conditions, values)"
   ]
  },
  {
   "cell_type": "markdown",
   "metadata": {},
   "source": [
    "### Alert Compilation Feature"
   ]
  },
  {
   "cell_type": "code",
   "execution_count": 26,
   "metadata": {
    "ExecuteTime": {
     "end_time": "2022-07-18T21:17:56.647673Z",
     "start_time": "2022-07-18T21:17:56.611345Z"
    }
   },
   "outputs": [],
   "source": [
    "conditions = [\n",
    "    ((df_MA_Alert['RR_Alert'] == 'Orange') & (df_MA_Alert['HR_Alert'] != 'Orange')),\n",
    "    ((df_MA_Alert['RR_Alert'] != 'Orange') & (df_MA_Alert['HR_Alert'] == 'Orange')),\n",
    "    (df_MA_Alert['Infection_Alert'] == 'Yellow'),\n",
    "    (df_MA_Alert['Red_Alert'] == 'Red')\n",
    "    ]\n",
    "\n",
    "values = ['Orange', 'Orange', 'Yellow', 'Red']\n",
    "\n",
    "df_MA_Alert['Alert'] = np.select(conditions, values)"
   ]
  },
  {
   "cell_type": "code",
   "execution_count": null,
   "metadata": {},
   "outputs": [],
   "source": [
    "df_MA_Alert['Alert'].value_counts()"
   ]
  },
  {
   "cell_type": "code",
   "execution_count": 27,
   "metadata": {
    "ExecuteTime": {
     "end_time": "2022-07-18T21:21:11.152473Z",
     "start_time": "2022-07-18T21:21:11.086281Z"
    }
   },
   "outputs": [
    {
     "data": {
      "text/html": [
       "<div>\n",
       "<style scoped>\n",
       "    .dataframe tbody tr th:only-of-type {\n",
       "        vertical-align: middle;\n",
       "    }\n",
       "\n",
       "    .dataframe tbody tr th {\n",
       "        vertical-align: top;\n",
       "    }\n",
       "\n",
       "    .dataframe thead th {\n",
       "        text-align: right;\n",
       "    }\n",
       "</style>\n",
       "<table border=\"1\" class=\"dataframe\">\n",
       "  <thead>\n",
       "    <tr style=\"text-align: right;\">\n",
       "      <th>Alert</th>\n",
       "      <th>0</th>\n",
       "      <th>Orange</th>\n",
       "      <th>Red</th>\n",
       "      <th>Yellow</th>\n",
       "    </tr>\n",
       "    <tr>\n",
       "      <th>user_id</th>\n",
       "      <th></th>\n",
       "      <th></th>\n",
       "      <th></th>\n",
       "      <th></th>\n",
       "    </tr>\n",
       "  </thead>\n",
       "  <tbody>\n",
       "    <tr>\n",
       "      <th>1</th>\n",
       "      <td>1041</td>\n",
       "      <td>80</td>\n",
       "      <td>26</td>\n",
       "      <td>2047</td>\n",
       "    </tr>\n",
       "    <tr>\n",
       "      <th>2</th>\n",
       "      <td>1117</td>\n",
       "      <td>193</td>\n",
       "      <td>0</td>\n",
       "      <td>3112</td>\n",
       "    </tr>\n",
       "    <tr>\n",
       "      <th>3</th>\n",
       "      <td>1317</td>\n",
       "      <td>193</td>\n",
       "      <td>0</td>\n",
       "      <td>2462</td>\n",
       "    </tr>\n",
       "    <tr>\n",
       "      <th>4</th>\n",
       "      <td>7039</td>\n",
       "      <td>109</td>\n",
       "      <td>12</td>\n",
       "      <td>0</td>\n",
       "    </tr>\n",
       "    <tr>\n",
       "      <th>5</th>\n",
       "      <td>3154</td>\n",
       "      <td>75</td>\n",
       "      <td>27</td>\n",
       "      <td>0</td>\n",
       "    </tr>\n",
       "  </tbody>\n",
       "</table>\n",
       "</div>"
      ],
      "text/plain": [
       "Alert       0  Orange  Red  Yellow\n",
       "user_id                           \n",
       "1        1041      80   26    2047\n",
       "2        1117     193    0    3112\n",
       "3        1317     193    0    2462\n",
       "4        7039     109   12       0\n",
       "5        3154      75   27       0"
      ]
     },
     "execution_count": 27,
     "metadata": {},
     "output_type": "execute_result"
    }
   ],
   "source": [
    "df_z = df_MA_Alert.groupby(['user_id', 'Alert']).size().unstack(fill_value=0)\n",
    "df_z"
   ]
  },
  {
   "cell_type": "code",
   "execution_count": null,
   "metadata": {},
   "outputs": [],
   "source": []
  }
 ],
 "metadata": {
  "kernelspec": {
   "display_name": "Python 3",
   "language": "python",
   "name": "python3"
  },
  "language_info": {
   "codemirror_mode": {
    "name": "ipython",
    "version": 3
   },
   "file_extension": ".py",
   "mimetype": "text/x-python",
   "name": "python",
   "nbconvert_exporter": "python",
   "pygments_lexer": "ipython3",
   "version": "3.8.5"
  },
  "toc": {
   "base_numbering": 1,
   "nav_menu": {},
   "number_sections": true,
   "sideBar": true,
   "skip_h1_title": false,
   "title_cell": "Table of Contents",
   "title_sidebar": "Contents",
   "toc_cell": true,
   "toc_position": {},
   "toc_section_display": true,
   "toc_window_display": false
  }
 },
 "nbformat": 4,
 "nbformat_minor": 4
}
