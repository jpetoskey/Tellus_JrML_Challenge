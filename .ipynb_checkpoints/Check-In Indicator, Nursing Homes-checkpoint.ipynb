{
 "cells": [
  {
   "cell_type": "markdown",
   "metadata": {
    "toc": true
   },
   "source": [
    "<h1>Table of Contents<span class=\"tocSkip\"></span></h1>\n",
    "<div class=\"toc\"><ul class=\"toc-item\"><li><span><a href=\"#Introduction\" data-toc-modified-id=\"Introduction-1\"><span class=\"toc-item-num\">1&nbsp;&nbsp;</span>Introduction</a></span><ul class=\"toc-item\"><li><span><a href=\"#Key-Terms\" data-toc-modified-id=\"Key-Terms-1.1\"><span class=\"toc-item-num\">1.1&nbsp;&nbsp;</span>Key Terms</a></span></li><li><span><a href=\"#Normal-Heart-and-Respiratory-Rates\" data-toc-modified-id=\"Normal-Heart-and-Respiratory-Rates-1.2\"><span class=\"toc-item-num\">1.2&nbsp;&nbsp;</span>Normal Heart and Respiratory Rates</a></span></li><li><span><a href=\"#Sources\" data-toc-modified-id=\"Sources-1.3\"><span class=\"toc-item-num\">1.3&nbsp;&nbsp;</span>Sources</a></span></li></ul></li><li><span><a href=\"#Import-Libraries\" data-toc-modified-id=\"Import-Libraries-2\"><span class=\"toc-item-num\">2&nbsp;&nbsp;</span>Import Libraries</a></span></li><li><span><a href=\"#Import-Data\" data-toc-modified-id=\"Import-Data-3\"><span class=\"toc-item-num\">3&nbsp;&nbsp;</span>Import Data</a></span></li><li><span><a href=\"#Explore-Data\" data-toc-modified-id=\"Explore-Data-4\"><span class=\"toc-item-num\">4&nbsp;&nbsp;</span>Explore Data</a></span><ul class=\"toc-item\"><li><span><a href=\"#Filter-for-patient-to-be-in-the-room\" data-toc-modified-id=\"Filter-for-patient-to-be-in-the-room-4.1\"><span class=\"toc-item-num\">4.1&nbsp;&nbsp;</span>Filter for patient to be in the room</a></span></li><li><span><a href=\"#General-Information\" data-toc-modified-id=\"General-Information-4.2\"><span class=\"toc-item-num\">4.2&nbsp;&nbsp;</span>General Information</a></span><ul class=\"toc-item\"><li><span><a href=\"#Value-Counts\" data-toc-modified-id=\"Value-Counts-4.2.1\"><span class=\"toc-item-num\">4.2.1&nbsp;&nbsp;</span>Value Counts</a></span><ul class=\"toc-item\"><li><span><a href=\"#Heart-Rate\" data-toc-modified-id=\"Heart-Rate-4.2.1.1\"><span class=\"toc-item-num\">4.2.1.1&nbsp;&nbsp;</span>Heart Rate</a></span></li><li><span><a href=\"#Respiration-Rate\" data-toc-modified-id=\"Respiration-Rate-4.2.1.2\"><span class=\"toc-item-num\">4.2.1.2&nbsp;&nbsp;</span>Respiration Rate</a></span></li></ul></li></ul></li><li><span><a href=\"#How-many-patients?\" data-toc-modified-id=\"How-many-patients?-4.3\"><span class=\"toc-item-num\">4.3&nbsp;&nbsp;</span>How many patients?</a></span></li><li><span><a href=\"#What-is-the-distribution-of-data-for-Respiration-and-Heart-Rate?\" data-toc-modified-id=\"What-is-the-distribution-of-data-for-Respiration-and-Heart-Rate?-4.4\"><span class=\"toc-item-num\">4.4&nbsp;&nbsp;</span>What is the distribution of data for Respiration and Heart Rate?</a></span><ul class=\"toc-item\"><li><span><a href=\"#The-mean-is-quite-low-for-hr-and-rr\" data-toc-modified-id=\"The-mean-is-quite-low-for-hr-and-rr-4.4.1\"><span class=\"toc-item-num\">4.4.1&nbsp;&nbsp;</span>The mean is quite low for hr and rr</a></span></li></ul></li><li><span><a href=\"#How-much-time-is-represented?\" data-toc-modified-id=\"How-much-time-is-represented?-4.5\"><span class=\"toc-item-num\">4.5&nbsp;&nbsp;</span>How much time is represented?</a></span></li></ul></li><li><span><a href=\"#Clean-Data\" data-toc-modified-id=\"Clean-Data-5\"><span class=\"toc-item-num\">5&nbsp;&nbsp;</span>Clean Data</a></span><ul class=\"toc-item\"><li><span><a href=\"#Replace-Invalid-Data\" data-toc-modified-id=\"Replace-Invalid-Data-5.1\"><span class=\"toc-item-num\">5.1&nbsp;&nbsp;</span>Replace Invalid Data</a></span></li></ul></li><li><span><a href=\"#Evaluate-Patients\" data-toc-modified-id=\"Evaluate-Patients-6\"><span class=\"toc-item-num\">6&nbsp;&nbsp;</span>Evaluate Patients</a></span><ul class=\"toc-item\"><li><span><a href=\"#Patient-1\" data-toc-modified-id=\"Patient-1-6.1\"><span class=\"toc-item-num\">6.1&nbsp;&nbsp;</span>Patient 1</a></span><ul class=\"toc-item\"><li><span><a href=\"#Plot-HR-and-RR-Patient-1\" data-toc-modified-id=\"Plot-HR-and-RR-Patient-1-6.1.1\"><span class=\"toc-item-num\">6.1.1&nbsp;&nbsp;</span>Plot HR and RR Patient 1</a></span><ul class=\"toc-item\"><li><span><a href=\"#Summary:\" data-toc-modified-id=\"Summary:-6.1.1.1\"><span class=\"toc-item-num\">6.1.1.1&nbsp;&nbsp;</span>Summary:</a></span></li></ul></li><li><span><a href=\"#RR-One-Day\" data-toc-modified-id=\"RR-One-Day-6.1.2\"><span class=\"toc-item-num\">6.1.2&nbsp;&nbsp;</span>RR One Day</a></span></li><li><span><a href=\"#HR-&amp;-RR-One-Day\" data-toc-modified-id=\"HR-&amp;-RR-One-Day-6.1.3\"><span class=\"toc-item-num\">6.1.3&nbsp;&nbsp;</span>HR &amp; RR One Day</a></span></li><li><span><a href=\"#HR-and-RR-5-hours\" data-toc-modified-id=\"HR-and-RR-5-hours-6.1.4\"><span class=\"toc-item-num\">6.1.4&nbsp;&nbsp;</span>HR and RR 5 hours</a></span></li><li><span><a href=\"#Highlight-20-minute-episode\" data-toc-modified-id=\"Highlight-20-minute-episode-6.1.5\"><span class=\"toc-item-num\">6.1.5&nbsp;&nbsp;</span>Highlight 20 minute episode</a></span></li><li><span><a href=\"#Investigate-Limits-of-HR-and-RR\" data-toc-modified-id=\"Investigate-Limits-of-HR-and-RR-6.1.6\"><span class=\"toc-item-num\">6.1.6&nbsp;&nbsp;</span>Investigate Limits of HR and RR</a></span><ul class=\"toc-item\"><li><span><a href=\"#Heart-Rate\" data-toc-modified-id=\"Heart-Rate-6.1.6.1\"><span class=\"toc-item-num\">6.1.6.1&nbsp;&nbsp;</span>Heart Rate</a></span></li><li><span><a href=\"#Respiratory-Rate\" data-toc-modified-id=\"Respiratory-Rate-6.1.6.2\"><span class=\"toc-item-num\">6.1.6.2&nbsp;&nbsp;</span>Respiratory Rate</a></span></li></ul></li><li><span><a href=\"#Mean-Values\" data-toc-modified-id=\"Mean-Values-6.1.7\"><span class=\"toc-item-num\">6.1.7&nbsp;&nbsp;</span>Mean Values</a></span></li><li><span><a href=\"#Summary:\" data-toc-modified-id=\"Summary:-6.1.8\"><span class=\"toc-item-num\">6.1.8&nbsp;&nbsp;</span>Summary:</a></span></li></ul></li><li><span><a href=\"#Patient-2\" data-toc-modified-id=\"Patient-2-6.2\"><span class=\"toc-item-num\">6.2&nbsp;&nbsp;</span>Patient 2</a></span><ul class=\"toc-item\"><li><span><a href=\"#Plot-HR-&amp;-RR-for-Patient-2\" data-toc-modified-id=\"Plot-HR-&amp;-RR-for-Patient-2-6.2.1\"><span class=\"toc-item-num\">6.2.1&nbsp;&nbsp;</span>Plot HR &amp; RR for Patient 2</a></span></li><li><span><a href=\"#Plot-5-Days\" data-toc-modified-id=\"Plot-5-Days-6.2.2\"><span class=\"toc-item-num\">6.2.2&nbsp;&nbsp;</span>Plot 5 Days</a></span></li><li><span><a href=\"#Investigate-Limits-of-HR-and-RR\" data-toc-modified-id=\"Investigate-Limits-of-HR-and-RR-6.2.3\"><span class=\"toc-item-num\">6.2.3&nbsp;&nbsp;</span>Investigate Limits of HR and RR</a></span><ul class=\"toc-item\"><li><span><a href=\"#Heart-Rate\" data-toc-modified-id=\"Heart-Rate-6.2.3.1\"><span class=\"toc-item-num\">6.2.3.1&nbsp;&nbsp;</span>Heart Rate</a></span></li><li><span><a href=\"#Respiratory-Rate\" data-toc-modified-id=\"Respiratory-Rate-6.2.3.2\"><span class=\"toc-item-num\">6.2.3.2&nbsp;&nbsp;</span>Respiratory Rate</a></span></li></ul></li><li><span><a href=\"#Mean-Values\" data-toc-modified-id=\"Mean-Values-6.2.4\"><span class=\"toc-item-num\">6.2.4&nbsp;&nbsp;</span>Mean Values</a></span></li><li><span><a href=\"#Summary:\" data-toc-modified-id=\"Summary:-6.2.5\"><span class=\"toc-item-num\">6.2.5&nbsp;&nbsp;</span>Summary:</a></span></li></ul></li><li><span><a href=\"#Patient-3\" data-toc-modified-id=\"Patient-3-6.3\"><span class=\"toc-item-num\">6.3&nbsp;&nbsp;</span>Patient 3</a></span><ul class=\"toc-item\"><li><span><a href=\"#Plot-HR-&amp;-RR-for-Patient-3\" data-toc-modified-id=\"Plot-HR-&amp;-RR-for-Patient-3-6.3.1\"><span class=\"toc-item-num\">6.3.1&nbsp;&nbsp;</span>Plot HR &amp; RR for Patient 3</a></span><ul class=\"toc-item\"><li><span><a href=\"#Plot-5-Days\" data-toc-modified-id=\"Plot-5-Days-6.3.1.1\"><span class=\"toc-item-num\">6.3.1.1&nbsp;&nbsp;</span>Plot 5 Days</a></span></li></ul></li><li><span><a href=\"#Investigate-Limits-of-HR-and-RR\" data-toc-modified-id=\"Investigate-Limits-of-HR-and-RR-6.3.2\"><span class=\"toc-item-num\">6.3.2&nbsp;&nbsp;</span>Investigate Limits of HR and RR</a></span><ul class=\"toc-item\"><li><span><a href=\"#Heart-Rate\" data-toc-modified-id=\"Heart-Rate-6.3.2.1\"><span class=\"toc-item-num\">6.3.2.1&nbsp;&nbsp;</span>Heart Rate</a></span></li><li><span><a href=\"#Respiratory-Rate\" data-toc-modified-id=\"Respiratory-Rate-6.3.2.2\"><span class=\"toc-item-num\">6.3.2.2&nbsp;&nbsp;</span>Respiratory Rate</a></span></li></ul></li><li><span><a href=\"#Mean-Values\" data-toc-modified-id=\"Mean-Values-6.3.3\"><span class=\"toc-item-num\">6.3.3&nbsp;&nbsp;</span>Mean Values</a></span></li><li><span><a href=\"#Summary:\" data-toc-modified-id=\"Summary:-6.3.4\"><span class=\"toc-item-num\">6.3.4&nbsp;&nbsp;</span>Summary:</a></span></li></ul></li><li><span><a href=\"#Patient-4\" data-toc-modified-id=\"Patient-4-6.4\"><span class=\"toc-item-num\">6.4&nbsp;&nbsp;</span>Patient 4</a></span><ul class=\"toc-item\"><li><span><a href=\"#Plot-HR-&amp;-RR-for-Patient-4\" data-toc-modified-id=\"Plot-HR-&amp;-RR-for-Patient-4-6.4.1\"><span class=\"toc-item-num\">6.4.1&nbsp;&nbsp;</span>Plot HR &amp; RR for Patient 4</a></span><ul class=\"toc-item\"><li><span><a href=\"#Plot-5-Days\" data-toc-modified-id=\"Plot-5-Days-6.4.1.1\"><span class=\"toc-item-num\">6.4.1.1&nbsp;&nbsp;</span>Plot 5 Days</a></span></li></ul></li><li><span><a href=\"#Investigate-Limits-of-HR-and-RR\" data-toc-modified-id=\"Investigate-Limits-of-HR-and-RR-6.4.2\"><span class=\"toc-item-num\">6.4.2&nbsp;&nbsp;</span>Investigate Limits of HR and RR</a></span><ul class=\"toc-item\"><li><span><a href=\"#Heart-Rate\" data-toc-modified-id=\"Heart-Rate-6.4.2.1\"><span class=\"toc-item-num\">6.4.2.1&nbsp;&nbsp;</span>Heart Rate</a></span></li><li><span><a href=\"#Respiratory-Rate\" data-toc-modified-id=\"Respiratory-Rate-6.4.2.2\"><span class=\"toc-item-num\">6.4.2.2&nbsp;&nbsp;</span>Respiratory Rate</a></span></li></ul></li><li><span><a href=\"#Mean-Values\" data-toc-modified-id=\"Mean-Values-6.4.3\"><span class=\"toc-item-num\">6.4.3&nbsp;&nbsp;</span>Mean Values</a></span></li><li><span><a href=\"#Summary:\" data-toc-modified-id=\"Summary:-6.4.4\"><span class=\"toc-item-num\">6.4.4&nbsp;&nbsp;</span>Summary:</a></span></li></ul></li><li><span><a href=\"#Patient-5\" data-toc-modified-id=\"Patient-5-6.5\"><span class=\"toc-item-num\">6.5&nbsp;&nbsp;</span>Patient 5</a></span><ul class=\"toc-item\"><li><span><a href=\"#Plot-HR-&amp;-RR-for-Patient-5\" data-toc-modified-id=\"Plot-HR-&amp;-RR-for-Patient-5-6.5.1\"><span class=\"toc-item-num\">6.5.1&nbsp;&nbsp;</span>Plot HR &amp; RR for Patient 5</a></span><ul class=\"toc-item\"><li><span><a href=\"#Plot-5-Days\" data-toc-modified-id=\"Plot-5-Days-6.5.1.1\"><span class=\"toc-item-num\">6.5.1.1&nbsp;&nbsp;</span>Plot 5 Days</a></span></li></ul></li><li><span><a href=\"#Investigate-Limits-of-HR-and-RR\" data-toc-modified-id=\"Investigate-Limits-of-HR-and-RR-6.5.2\"><span class=\"toc-item-num\">6.5.2&nbsp;&nbsp;</span>Investigate Limits of HR and RR</a></span><ul class=\"toc-item\"><li><span><a href=\"#Heart-Rate\" data-toc-modified-id=\"Heart-Rate-6.5.2.1\"><span class=\"toc-item-num\">6.5.2.1&nbsp;&nbsp;</span>Heart Rate</a></span></li><li><span><a href=\"#Respiratory-Rate\" data-toc-modified-id=\"Respiratory-Rate-6.5.2.2\"><span class=\"toc-item-num\">6.5.2.2&nbsp;&nbsp;</span>Respiratory Rate</a></span></li></ul></li><li><span><a href=\"#Mean-Values\" data-toc-modified-id=\"Mean-Values-6.5.3\"><span class=\"toc-item-num\">6.5.3&nbsp;&nbsp;</span>Mean Values</a></span><ul class=\"toc-item\"><li><span><a href=\"#Summary:\" data-toc-modified-id=\"Summary:-6.5.3.1\"><span class=\"toc-item-num\">6.5.3.1&nbsp;&nbsp;</span>Summary:</a></span></li></ul></li></ul></li></ul></li><li><span><a href=\"#Test-Alert-Options\" data-toc-modified-id=\"Test-Alert-Options-7\"><span class=\"toc-item-num\">7&nbsp;&nbsp;</span>Test Alert Options</a></span><ul class=\"toc-item\"><li><span><a href=\"#Moving-Average-Data-Frame\" data-toc-modified-id=\"Moving-Average-Data-Frame-7.1\"><span class=\"toc-item-num\">7.1&nbsp;&nbsp;</span>Moving Average Data Frame</a></span><ul class=\"toc-item\"><li><span><a href=\"#Immediate-Danger-Indicators\" data-toc-modified-id=\"Immediate-Danger-Indicators-7.1.1\"><span class=\"toc-item-num\">7.1.1&nbsp;&nbsp;</span>Immediate Danger Indicators</a></span></li><li><span><a href=\"#Recommend-Doctor's-Visit\" data-toc-modified-id=\"Recommend-Doctor's-Visit-7.1.2\"><span class=\"toc-item-num\">7.1.2&nbsp;&nbsp;</span>Recommend Doctor's Visit</a></span></li><li><span><a href=\"#Define-rolling-function\" data-toc-modified-id=\"Define-rolling-function-7.1.3\"><span class=\"toc-item-num\">7.1.3&nbsp;&nbsp;</span>Define rolling function</a></span></li><li><span><a href=\"#Group-by-User-ID-for-Rolling-Mean\" data-toc-modified-id=\"Group-by-User-ID-for-Rolling-Mean-7.1.4\"><span class=\"toc-item-num\">7.1.4&nbsp;&nbsp;</span>Group by User ID for Rolling Mean</a></span></li></ul></li><li><span><a href=\"#Check-Plot-of-Moving-Averages\" data-toc-modified-id=\"Check-Plot-of-Moving-Averages-7.2\"><span class=\"toc-item-num\">7.2&nbsp;&nbsp;</span>Check Plot of Moving Averages</a></span></li><li><span><a href=\"#Alert-Features\" data-toc-modified-id=\"Alert-Features-7.3\"><span class=\"toc-item-num\">7.3&nbsp;&nbsp;</span>Alert Features</a></span><ul class=\"toc-item\"><li><span><a href=\"#Emergency-Alert\" data-toc-modified-id=\"Emergency-Alert-7.3.1\"><span class=\"toc-item-num\">7.3.1&nbsp;&nbsp;</span>Emergency Alert</a></span></li><li><span><a href=\"#Doctor's-visit-Alert\" data-toc-modified-id=\"Doctor's-visit-Alert-7.3.2\"><span class=\"toc-item-num\">7.3.2&nbsp;&nbsp;</span>Doctor's visit Alert</a></span></li><li><span><a href=\"#Alert-Compilation-Feature\" data-toc-modified-id=\"Alert-Compilation-Feature-7.3.3\"><span class=\"toc-item-num\">7.3.3&nbsp;&nbsp;</span>Alert Compilation Feature</a></span></li></ul></li></ul></li><li><span><a href=\"#Conclusion\" data-toc-modified-id=\"Conclusion-8\"><span class=\"toc-item-num\">8&nbsp;&nbsp;</span>Conclusion</a></span></li><li><span><a href=\"#Future-Work\" data-toc-modified-id=\"Future-Work-9\"><span class=\"toc-item-num\">9&nbsp;&nbsp;</span>Future Work</a></span><ul class=\"toc-item\"><li><span><a href=\"#Awake-at-night-Indicators:\" data-toc-modified-id=\"Awake-at-night-Indicators:-9.1\"><span class=\"toc-item-num\">9.1&nbsp;&nbsp;</span>Awake at night Indicators:</a></span></li><li><span><a href=\"#Understanding-Repititious-Data\" data-toc-modified-id=\"Understanding-Repititious-Data-9.2\"><span class=\"toc-item-num\">9.2&nbsp;&nbsp;</span>Understanding Repititious Data</a></span></li></ul></li></ul></div>"
   ]
  },
  {
   "cell_type": "markdown",
   "metadata": {},
   "source": [
    "# Introduction"
   ]
  },
  {
   "cell_type": "markdown",
   "metadata": {},
   "source": [
    "* Utilize heart and respiration rates of patients in a nursing home facility to determine if they need a staff member to check-in."
   ]
  },
  {
   "cell_type": "markdown",
   "metadata": {},
   "source": [
    "## Key Terms\n",
    "* rr = Respiration Rate\n",
    "* hr = Heart Rate\n",
    "* ts = Time Stamp"
   ]
  },
  {
   "cell_type": "markdown",
   "metadata": {},
   "source": [
    "## Normal Heart and Respiratory Rates\n",
    "* Normal range of respiratory rate in geriatric facility 16-25 breaths a minute.\n",
    "* Normal range of Heart Rate:\n",
    "    * 60 years: 80 to 136 beats per minute\n",
    "    * 65 years: 78 to 132 beats per minute\n",
    "    * 70 years: 75 to 128 beats per minute"
   ]
  },
  {
   "cell_type": "markdown",
   "metadata": {},
   "source": [
    "## Sources\n",
    "* [Normal Heart Rate for Elderly Adults](https://www.griswoldhomecare.com/blog/2021/september/normal-heart-rate-for-elderly-adults/)\n",
    "* [Raised respiratory rate in elderly patients: a valuable physical sign](https://www.ncbi.nlm.nih.gov/pmc/articles/PMC1496225/)\n",
    "* [Cardiopulmonary Resuscitation in Adults Over 80: Outcome and the Perception of Appropriateness by Clinicians](https://agsjournals.onlinelibrary.wiley.com/doi/full/10.1111/jgs.16270)"
   ]
  },
  {
   "cell_type": "markdown",
   "metadata": {},
   "source": [
    "# Import Libraries"
   ]
  },
  {
   "cell_type": "code",
   "execution_count": 1,
   "metadata": {
    "ExecuteTime": {
     "end_time": "2022-07-18T15:19:42.182411Z",
     "start_time": "2022-07-18T15:19:38.867302Z"
    }
   },
   "outputs": [],
   "source": [
    "import warnings\n",
    "warnings.filterwarnings('ignore')\n",
    "\n",
    "import pandas as pd\n",
    "import matplotlib.pyplot as plt\n",
    "import matplotlib\n",
    "import pandas as pd \n",
    "import numpy as np"
   ]
  },
  {
   "cell_type": "markdown",
   "metadata": {},
   "source": [
    "# Import Data"
   ]
  },
  {
   "cell_type": "code",
   "execution_count": 2,
   "metadata": {
    "ExecuteTime": {
     "end_time": "2022-07-18T15:19:42.322649Z",
     "start_time": "2022-07-18T15:19:42.185620Z"
    }
   },
   "outputs": [
    {
     "data": {
      "text/html": [
       "<div>\n",
       "<style scoped>\n",
       "    .dataframe tbody tr th:only-of-type {\n",
       "        vertical-align: middle;\n",
       "    }\n",
       "\n",
       "    .dataframe tbody tr th {\n",
       "        vertical-align: top;\n",
       "    }\n",
       "\n",
       "    .dataframe thead th {\n",
       "        text-align: right;\n",
       "    }\n",
       "</style>\n",
       "<table border=\"1\" class=\"dataframe\">\n",
       "  <thead>\n",
       "    <tr style=\"text-align: right;\">\n",
       "      <th></th>\n",
       "      <th>in_room</th>\n",
       "      <th>rr</th>\n",
       "      <th>hr</th>\n",
       "      <th>ts</th>\n",
       "      <th>user_id</th>\n",
       "    </tr>\n",
       "  </thead>\n",
       "  <tbody>\n",
       "    <tr>\n",
       "      <th>0</th>\n",
       "      <td>False</td>\n",
       "      <td>0.0</td>\n",
       "      <td>93.546196</td>\n",
       "      <td>2019-03-20 03:00:00</td>\n",
       "      <td>1</td>\n",
       "    </tr>\n",
       "    <tr>\n",
       "      <th>1</th>\n",
       "      <td>False</td>\n",
       "      <td>0.0</td>\n",
       "      <td>-1.000000</td>\n",
       "      <td>2019-03-20 03:01:00</td>\n",
       "      <td>1</td>\n",
       "    </tr>\n",
       "    <tr>\n",
       "      <th>2</th>\n",
       "      <td>False</td>\n",
       "      <td>0.0</td>\n",
       "      <td>-1.000000</td>\n",
       "      <td>2019-03-20 03:02:00</td>\n",
       "      <td>1</td>\n",
       "    </tr>\n",
       "    <tr>\n",
       "      <th>3</th>\n",
       "      <td>False</td>\n",
       "      <td>0.0</td>\n",
       "      <td>98.374496</td>\n",
       "      <td>2019-03-20 03:03:00</td>\n",
       "      <td>1</td>\n",
       "    </tr>\n",
       "    <tr>\n",
       "      <th>4</th>\n",
       "      <td>False</td>\n",
       "      <td>0.0</td>\n",
       "      <td>94.692595</td>\n",
       "      <td>2019-03-20 03:04:00</td>\n",
       "      <td>1</td>\n",
       "    </tr>\n",
       "    <tr>\n",
       "      <th>...</th>\n",
       "      <td>...</td>\n",
       "      <td>...</td>\n",
       "      <td>...</td>\n",
       "      <td>...</td>\n",
       "      <td>...</td>\n",
       "    </tr>\n",
       "    <tr>\n",
       "      <th>35924</th>\n",
       "      <td>False</td>\n",
       "      <td>0.0</td>\n",
       "      <td>-1.000000</td>\n",
       "      <td>2019-09-17 02:56:00</td>\n",
       "      <td>5</td>\n",
       "    </tr>\n",
       "    <tr>\n",
       "      <th>35925</th>\n",
       "      <td>False</td>\n",
       "      <td>0.0</td>\n",
       "      <td>96.253551</td>\n",
       "      <td>2019-09-17 02:57:00</td>\n",
       "      <td>5</td>\n",
       "    </tr>\n",
       "    <tr>\n",
       "      <th>35926</th>\n",
       "      <td>False</td>\n",
       "      <td>0.0</td>\n",
       "      <td>97.546875</td>\n",
       "      <td>2019-09-17 02:58:00</td>\n",
       "      <td>5</td>\n",
       "    </tr>\n",
       "    <tr>\n",
       "      <th>35927</th>\n",
       "      <td>False</td>\n",
       "      <td>0.0</td>\n",
       "      <td>-1.000000</td>\n",
       "      <td>2019-09-17 02:59:00</td>\n",
       "      <td>5</td>\n",
       "    </tr>\n",
       "    <tr>\n",
       "      <th>35928</th>\n",
       "      <td>False</td>\n",
       "      <td>0.0</td>\n",
       "      <td>95.335478</td>\n",
       "      <td>2019-09-17 03:00:00</td>\n",
       "      <td>5</td>\n",
       "    </tr>\n",
       "  </tbody>\n",
       "</table>\n",
       "<p>35929 rows × 5 columns</p>\n",
       "</div>"
      ],
      "text/plain": [
       "       in_room   rr         hr                   ts  user_id\n",
       "0        False  0.0  93.546196  2019-03-20 03:00:00        1\n",
       "1        False  0.0  -1.000000  2019-03-20 03:01:00        1\n",
       "2        False  0.0  -1.000000  2019-03-20 03:02:00        1\n",
       "3        False  0.0  98.374496  2019-03-20 03:03:00        1\n",
       "4        False  0.0  94.692595  2019-03-20 03:04:00        1\n",
       "...        ...  ...        ...                  ...      ...\n",
       "35924    False  0.0  -1.000000  2019-09-17 02:56:00        5\n",
       "35925    False  0.0  96.253551  2019-09-17 02:57:00        5\n",
       "35926    False  0.0  97.546875  2019-09-17 02:58:00        5\n",
       "35927    False  0.0  -1.000000  2019-09-17 02:59:00        5\n",
       "35928    False  0.0  95.335478  2019-09-17 03:00:00        5\n",
       "\n",
       "[35929 rows x 5 columns]"
      ]
     },
     "execution_count": 2,
     "metadata": {},
     "output_type": "execute_result"
    }
   ],
   "source": [
    "df = pd.read_csv('data/Tellus - ML test data')\n",
    "df"
   ]
  },
  {
   "cell_type": "markdown",
   "metadata": {},
   "source": [
    "# Explore Data"
   ]
  },
  {
   "cell_type": "markdown",
   "metadata": {},
   "source": [
    "## Filter for patient to be in the room"
   ]
  },
  {
   "cell_type": "code",
   "execution_count": 3,
   "metadata": {
    "ExecuteTime": {
     "end_time": "2022-07-18T15:19:42.331944Z",
     "start_time": "2022-07-18T15:19:42.325242Z"
    }
   },
   "outputs": [],
   "source": [
    "# Copy DataFrame\n",
    "df_present = df.copy()"
   ]
  },
  {
   "cell_type": "code",
   "execution_count": 4,
   "metadata": {
    "ExecuteTime": {
     "end_time": "2022-07-18T15:19:42.371849Z",
     "start_time": "2022-07-18T15:19:42.338546Z"
    }
   },
   "outputs": [
    {
     "data": {
      "text/html": [
       "<div>\n",
       "<style scoped>\n",
       "    .dataframe tbody tr th:only-of-type {\n",
       "        vertical-align: middle;\n",
       "    }\n",
       "\n",
       "    .dataframe tbody tr th {\n",
       "        vertical-align: top;\n",
       "    }\n",
       "\n",
       "    .dataframe thead th {\n",
       "        text-align: right;\n",
       "    }\n",
       "</style>\n",
       "<table border=\"1\" class=\"dataframe\">\n",
       "  <thead>\n",
       "    <tr style=\"text-align: right;\">\n",
       "      <th></th>\n",
       "      <th>in_room</th>\n",
       "      <th>rr</th>\n",
       "      <th>hr</th>\n",
       "      <th>ts</th>\n",
       "      <th>user_id</th>\n",
       "    </tr>\n",
       "  </thead>\n",
       "  <tbody>\n",
       "    <tr>\n",
       "      <th>314</th>\n",
       "      <td>1</td>\n",
       "      <td>5.252827</td>\n",
       "      <td>92.413238</td>\n",
       "      <td>2019-03-20 08:14:00</td>\n",
       "      <td>1</td>\n",
       "    </tr>\n",
       "    <tr>\n",
       "      <th>315</th>\n",
       "      <td>1</td>\n",
       "      <td>0.000000</td>\n",
       "      <td>90.451836</td>\n",
       "      <td>2019-03-20 08:15:00</td>\n",
       "      <td>1</td>\n",
       "    </tr>\n",
       "    <tr>\n",
       "      <th>316</th>\n",
       "      <td>1</td>\n",
       "      <td>0.000000</td>\n",
       "      <td>-1.000000</td>\n",
       "      <td>2019-03-20 08:16:00</td>\n",
       "      <td>1</td>\n",
       "    </tr>\n",
       "    <tr>\n",
       "      <th>318</th>\n",
       "      <td>1</td>\n",
       "      <td>8.180480</td>\n",
       "      <td>-1.000000</td>\n",
       "      <td>2019-03-20 08:18:00</td>\n",
       "      <td>1</td>\n",
       "    </tr>\n",
       "    <tr>\n",
       "      <th>319</th>\n",
       "      <td>1</td>\n",
       "      <td>18.764710</td>\n",
       "      <td>-1.000000</td>\n",
       "      <td>2019-03-20 08:19:00</td>\n",
       "      <td>1</td>\n",
       "    </tr>\n",
       "    <tr>\n",
       "      <th>...</th>\n",
       "      <td>...</td>\n",
       "      <td>...</td>\n",
       "      <td>...</td>\n",
       "      <td>...</td>\n",
       "      <td>...</td>\n",
       "    </tr>\n",
       "    <tr>\n",
       "      <th>35875</th>\n",
       "      <td>1</td>\n",
       "      <td>10.667067</td>\n",
       "      <td>73.873197</td>\n",
       "      <td>2019-09-17 02:07:00</td>\n",
       "      <td>5</td>\n",
       "    </tr>\n",
       "    <tr>\n",
       "      <th>35876</th>\n",
       "      <td>1</td>\n",
       "      <td>8.311632</td>\n",
       "      <td>63.986545</td>\n",
       "      <td>2019-09-17 02:08:00</td>\n",
       "      <td>5</td>\n",
       "    </tr>\n",
       "    <tr>\n",
       "      <th>35877</th>\n",
       "      <td>1</td>\n",
       "      <td>0.000000</td>\n",
       "      <td>-1.000000</td>\n",
       "      <td>2019-09-17 02:09:00</td>\n",
       "      <td>5</td>\n",
       "    </tr>\n",
       "    <tr>\n",
       "      <th>35878</th>\n",
       "      <td>1</td>\n",
       "      <td>-1.000000</td>\n",
       "      <td>-1.000000</td>\n",
       "      <td>2019-09-17 02:10:00</td>\n",
       "      <td>5</td>\n",
       "    </tr>\n",
       "    <tr>\n",
       "      <th>35879</th>\n",
       "      <td>1</td>\n",
       "      <td>0.000000</td>\n",
       "      <td>93.320312</td>\n",
       "      <td>2019-09-17 02:11:00</td>\n",
       "      <td>5</td>\n",
       "    </tr>\n",
       "  </tbody>\n",
       "</table>\n",
       "<p>22004 rows × 5 columns</p>\n",
       "</div>"
      ],
      "text/plain": [
       "       in_room         rr         hr                   ts  user_id\n",
       "314          1   5.252827  92.413238  2019-03-20 08:14:00        1\n",
       "315          1   0.000000  90.451836  2019-03-20 08:15:00        1\n",
       "316          1   0.000000  -1.000000  2019-03-20 08:16:00        1\n",
       "318          1   8.180480  -1.000000  2019-03-20 08:18:00        1\n",
       "319          1  18.764710  -1.000000  2019-03-20 08:19:00        1\n",
       "...        ...        ...        ...                  ...      ...\n",
       "35875        1  10.667067  73.873197  2019-09-17 02:07:00        5\n",
       "35876        1   8.311632  63.986545  2019-09-17 02:08:00        5\n",
       "35877        1   0.000000  -1.000000  2019-09-17 02:09:00        5\n",
       "35878        1  -1.000000  -1.000000  2019-09-17 02:10:00        5\n",
       "35879        1   0.000000  93.320312  2019-09-17 02:11:00        5\n",
       "\n",
       "[22004 rows x 5 columns]"
      ]
     },
     "execution_count": 4,
     "metadata": {},
     "output_type": "execute_result"
    }
   ],
   "source": [
    "# Convert bool to int\n",
    "df_present[\"in_room\"] = df_present[\"in_room\"].astype(int)\n",
    "\n",
    "# Select in_room = 1\n",
    "df_present = df_present.loc[df_present['in_room'] == 1]\n",
    "\n",
    "df_present"
   ]
  },
  {
   "cell_type": "markdown",
   "metadata": {},
   "source": [
    "## General Information"
   ]
  },
  {
   "cell_type": "code",
   "execution_count": 5,
   "metadata": {
    "ExecuteTime": {
     "end_time": "2022-07-18T15:19:42.424674Z",
     "start_time": "2022-07-18T15:19:42.376366Z"
    }
   },
   "outputs": [
    {
     "name": "stdout",
     "output_type": "stream",
     "text": [
      "<class 'pandas.core.frame.DataFrame'>\n",
      "Int64Index: 22004 entries, 314 to 35879\n",
      "Data columns (total 5 columns):\n",
      " #   Column   Non-Null Count  Dtype  \n",
      "---  ------   --------------  -----  \n",
      " 0   in_room  22004 non-null  int64  \n",
      " 1   rr       22004 non-null  float64\n",
      " 2   hr       22004 non-null  float64\n",
      " 3   ts       22004 non-null  object \n",
      " 4   user_id  22004 non-null  int64  \n",
      "dtypes: float64(2), int64(2), object(1)\n",
      "memory usage: 1.0+ MB\n"
     ]
    }
   ],
   "source": [
    "df_present.info()"
   ]
  },
  {
   "cell_type": "code",
   "execution_count": 6,
   "metadata": {
    "ExecuteTime": {
     "end_time": "2022-07-18T15:19:42.500602Z",
     "start_time": "2022-07-18T15:19:42.435307Z"
    }
   },
   "outputs": [
    {
     "data": {
      "text/html": [
       "<div>\n",
       "<style scoped>\n",
       "    .dataframe tbody tr th:only-of-type {\n",
       "        vertical-align: middle;\n",
       "    }\n",
       "\n",
       "    .dataframe tbody tr th {\n",
       "        vertical-align: top;\n",
       "    }\n",
       "\n",
       "    .dataframe thead th {\n",
       "        text-align: right;\n",
       "    }\n",
       "</style>\n",
       "<table border=\"1\" class=\"dataframe\">\n",
       "  <thead>\n",
       "    <tr style=\"text-align: right;\">\n",
       "      <th></th>\n",
       "      <th>count</th>\n",
       "      <th>mean</th>\n",
       "      <th>std</th>\n",
       "      <th>min</th>\n",
       "      <th>25%</th>\n",
       "      <th>50%</th>\n",
       "      <th>75%</th>\n",
       "      <th>max</th>\n",
       "    </tr>\n",
       "  </thead>\n",
       "  <tbody>\n",
       "    <tr>\n",
       "      <th>rr</th>\n",
       "      <td>35929.0</td>\n",
       "      <td>10.505051</td>\n",
       "      <td>8.928178</td>\n",
       "      <td>-1.0</td>\n",
       "      <td>0.0</td>\n",
       "      <td>13.944186</td>\n",
       "      <td>18.481553</td>\n",
       "      <td>33.762123</td>\n",
       "    </tr>\n",
       "    <tr>\n",
       "      <th>hr</th>\n",
       "      <td>35929.0</td>\n",
       "      <td>38.678189</td>\n",
       "      <td>39.405701</td>\n",
       "      <td>-1.0</td>\n",
       "      <td>-1.0</td>\n",
       "      <td>56.264710</td>\n",
       "      <td>73.982901</td>\n",
       "      <td>120.000000</td>\n",
       "    </tr>\n",
       "    <tr>\n",
       "      <th>user_id</th>\n",
       "      <td>35929.0</td>\n",
       "      <td>3.000000</td>\n",
       "      <td>1.415728</td>\n",
       "      <td>1.0</td>\n",
       "      <td>2.0</td>\n",
       "      <td>3.000000</td>\n",
       "      <td>4.000000</td>\n",
       "      <td>5.000000</td>\n",
       "    </tr>\n",
       "  </tbody>\n",
       "</table>\n",
       "</div>"
      ],
      "text/plain": [
       "           count       mean        std  min  25%        50%        75%  \\\n",
       "rr       35929.0  10.505051   8.928178 -1.0  0.0  13.944186  18.481553   \n",
       "hr       35929.0  38.678189  39.405701 -1.0 -1.0  56.264710  73.982901   \n",
       "user_id  35929.0   3.000000   1.415728  1.0  2.0   3.000000   4.000000   \n",
       "\n",
       "                max  \n",
       "rr        33.762123  \n",
       "hr       120.000000  \n",
       "user_id    5.000000  "
      ]
     },
     "execution_count": 6,
     "metadata": {},
     "output_type": "execute_result"
    }
   ],
   "source": [
    "df.describe().transpose()"
   ]
  },
  {
   "cell_type": "markdown",
   "metadata": {},
   "source": [
    "### Value Counts\n",
    "* Search for invalid values"
   ]
  },
  {
   "cell_type": "markdown",
   "metadata": {},
   "source": [
    "#### Heart Rate"
   ]
  },
  {
   "cell_type": "code",
   "execution_count": 113,
   "metadata": {
    "ExecuteTime": {
     "end_time": "2022-07-18T18:10:10.513132Z",
     "start_time": "2022-07-18T18:10:10.491102Z"
    }
   },
   "outputs": [
    {
     "name": "stdout",
     "output_type": "stream",
     "text": [
      "hr value counts: -1.000000     17304\n",
      " 99.609375       64\n",
      " 96.093750       32\n",
      " 98.437500       29\n",
      " 94.921875       29\n",
      "Name: hr, dtype: int64\n"
     ]
    }
   ],
   "source": [
    "# Value Counts for Respiration Rate\n",
    "rr_vals = df['hr'].value_counts()\n",
    "print('hr value counts:', rr_vals.head())"
   ]
  },
  {
   "cell_type": "markdown",
   "metadata": {},
   "source": [
    "#### Respiration Rate"
   ]
  },
  {
   "cell_type": "code",
   "execution_count": 111,
   "metadata": {
    "ExecuteTime": {
     "end_time": "2022-07-18T18:07:17.552727Z",
     "start_time": "2022-07-18T18:07:17.541926Z"
    }
   },
   "outputs": [
    {
     "name": "stdout",
     "output_type": "stream",
     "text": [
      "rr value counts:  0.000000     11443\n",
      "-1.000000       384\n",
      " 18.750000       74\n",
      " 17.578125       59\n",
      " 2.000000        56\n",
      "Name: rr, dtype: int64\n"
     ]
    }
   ],
   "source": [
    "# Value Counts for Respiration Rate\n",
    "rr_vals = df['rr'].value_counts()\n",
    "print('rr value counts:', rr_vals.head())"
   ]
  },
  {
   "cell_type": "markdown",
   "metadata": {},
   "source": [
    "## How many patients?\n",
    "* 5 patients"
   ]
  },
  {
   "cell_type": "code",
   "execution_count": 7,
   "metadata": {
    "ExecuteTime": {
     "end_time": "2022-07-18T15:19:42.515104Z",
     "start_time": "2022-07-18T15:19:42.503899Z"
    }
   },
   "outputs": [
    {
     "data": {
      "text/plain": [
       "array([1, 2, 3, 4, 5])"
      ]
     },
     "execution_count": 7,
     "metadata": {},
     "output_type": "execute_result"
    }
   ],
   "source": [
    "df_present['user_id'].unique()"
   ]
  },
  {
   "cell_type": "markdown",
   "metadata": {},
   "source": [
    "## What is the distribution of data for Respiration and Heart Rate?"
   ]
  },
  {
   "cell_type": "code",
   "execution_count": 8,
   "metadata": {
    "ExecuteTime": {
     "end_time": "2022-07-18T15:19:42.597615Z",
     "start_time": "2022-07-18T15:19:42.528227Z"
    }
   },
   "outputs": [
    {
     "data": {
      "text/html": [
       "<div>\n",
       "<style scoped>\n",
       "    .dataframe tbody tr th:only-of-type {\n",
       "        vertical-align: middle;\n",
       "    }\n",
       "\n",
       "    .dataframe tbody tr th {\n",
       "        vertical-align: top;\n",
       "    }\n",
       "\n",
       "    .dataframe thead th {\n",
       "        text-align: right;\n",
       "    }\n",
       "</style>\n",
       "<table border=\"1\" class=\"dataframe\">\n",
       "  <thead>\n",
       "    <tr style=\"text-align: right;\">\n",
       "      <th></th>\n",
       "      <th>count</th>\n",
       "      <th>mean</th>\n",
       "      <th>std</th>\n",
       "      <th>min</th>\n",
       "      <th>25%</th>\n",
       "      <th>50%</th>\n",
       "      <th>75%</th>\n",
       "      <th>max</th>\n",
       "    </tr>\n",
       "  </thead>\n",
       "  <tbody>\n",
       "    <tr>\n",
       "      <th>in_room</th>\n",
       "      <td>22004.0</td>\n",
       "      <td>1.000000</td>\n",
       "      <td>0.000000</td>\n",
       "      <td>1.0</td>\n",
       "      <td>1.000000</td>\n",
       "      <td>1.00000</td>\n",
       "      <td>1.000000</td>\n",
       "      <td>1.000000</td>\n",
       "    </tr>\n",
       "    <tr>\n",
       "      <th>rr</th>\n",
       "      <td>22004.0</td>\n",
       "      <td>16.098754</td>\n",
       "      <td>6.121860</td>\n",
       "      <td>-1.0</td>\n",
       "      <td>14.436523</td>\n",
       "      <td>17.47574</td>\n",
       "      <td>19.851400</td>\n",
       "      <td>32.802815</td>\n",
       "    </tr>\n",
       "    <tr>\n",
       "      <th>hr</th>\n",
       "      <td>22004.0</td>\n",
       "      <td>44.887560</td>\n",
       "      <td>35.407414</td>\n",
       "      <td>-1.0</td>\n",
       "      <td>-1.000000</td>\n",
       "      <td>62.99813</td>\n",
       "      <td>72.004239</td>\n",
       "      <td>120.000000</td>\n",
       "    </tr>\n",
       "    <tr>\n",
       "      <th>user_id</th>\n",
       "      <td>22004.0</td>\n",
       "      <td>3.130067</td>\n",
       "      <td>1.296932</td>\n",
       "      <td>1.0</td>\n",
       "      <td>2.000000</td>\n",
       "      <td>3.00000</td>\n",
       "      <td>4.000000</td>\n",
       "      <td>5.000000</td>\n",
       "    </tr>\n",
       "  </tbody>\n",
       "</table>\n",
       "</div>"
      ],
      "text/plain": [
       "           count       mean        std  min        25%       50%        75%  \\\n",
       "in_room  22004.0   1.000000   0.000000  1.0   1.000000   1.00000   1.000000   \n",
       "rr       22004.0  16.098754   6.121860 -1.0  14.436523  17.47574  19.851400   \n",
       "hr       22004.0  44.887560  35.407414 -1.0  -1.000000  62.99813  72.004239   \n",
       "user_id  22004.0   3.130067   1.296932  1.0   2.000000   3.00000   4.000000   \n",
       "\n",
       "                max  \n",
       "in_room    1.000000  \n",
       "rr        32.802815  \n",
       "hr       120.000000  \n",
       "user_id    5.000000  "
      ]
     },
     "execution_count": 8,
     "metadata": {},
     "output_type": "execute_result"
    }
   ],
   "source": [
    "df_present.describe().transpose()"
   ]
  },
  {
   "cell_type": "markdown",
   "metadata": {},
   "source": [
    "### The mean is quite low for hr and rr\n",
    "* Looks like this is due to placeholder values when the measurement can't be taken.\n",
    "* These values might need to be forward and/or backward filled - further investigation needed."
   ]
  },
  {
   "cell_type": "markdown",
   "metadata": {},
   "source": [
    "## How much time is represented?\n",
    "* 5 days of data\n",
    "* Last row may need to be dropped - doesn't seem to be in correct order - see timestamp"
   ]
  },
  {
   "cell_type": "code",
   "execution_count": 9,
   "metadata": {
    "ExecuteTime": {
     "end_time": "2022-07-18T15:19:42.645452Z",
     "start_time": "2022-07-18T15:19:42.603865Z"
    }
   },
   "outputs": [
    {
     "data": {
      "text/html": [
       "<div>\n",
       "<style scoped>\n",
       "    .dataframe tbody tr th:only-of-type {\n",
       "        vertical-align: middle;\n",
       "    }\n",
       "\n",
       "    .dataframe tbody tr th {\n",
       "        vertical-align: top;\n",
       "    }\n",
       "\n",
       "    .dataframe thead th {\n",
       "        text-align: right;\n",
       "    }\n",
       "</style>\n",
       "<table border=\"1\" class=\"dataframe\">\n",
       "  <thead>\n",
       "    <tr style=\"text-align: right;\">\n",
       "      <th></th>\n",
       "      <th>in_room</th>\n",
       "      <th>rr</th>\n",
       "      <th>hr</th>\n",
       "      <th>ts</th>\n",
       "      <th>user_id</th>\n",
       "    </tr>\n",
       "  </thead>\n",
       "  <tbody>\n",
       "    <tr>\n",
       "      <th>314</th>\n",
       "      <td>1</td>\n",
       "      <td>5.252827</td>\n",
       "      <td>92.413238</td>\n",
       "      <td>2019-03-20 08:14:00</td>\n",
       "      <td>1</td>\n",
       "    </tr>\n",
       "    <tr>\n",
       "      <th>315</th>\n",
       "      <td>1</td>\n",
       "      <td>0.000000</td>\n",
       "      <td>90.451836</td>\n",
       "      <td>2019-03-20 08:15:00</td>\n",
       "      <td>1</td>\n",
       "    </tr>\n",
       "    <tr>\n",
       "      <th>316</th>\n",
       "      <td>1</td>\n",
       "      <td>0.000000</td>\n",
       "      <td>-1.000000</td>\n",
       "      <td>2019-03-20 08:16:00</td>\n",
       "      <td>1</td>\n",
       "    </tr>\n",
       "    <tr>\n",
       "      <th>318</th>\n",
       "      <td>1</td>\n",
       "      <td>8.180480</td>\n",
       "      <td>-1.000000</td>\n",
       "      <td>2019-03-20 08:18:00</td>\n",
       "      <td>1</td>\n",
       "    </tr>\n",
       "    <tr>\n",
       "      <th>319</th>\n",
       "      <td>1</td>\n",
       "      <td>18.764710</td>\n",
       "      <td>-1.000000</td>\n",
       "      <td>2019-03-20 08:19:00</td>\n",
       "      <td>1</td>\n",
       "    </tr>\n",
       "    <tr>\n",
       "      <th>...</th>\n",
       "      <td>...</td>\n",
       "      <td>...</td>\n",
       "      <td>...</td>\n",
       "      <td>...</td>\n",
       "      <td>...</td>\n",
       "    </tr>\n",
       "    <tr>\n",
       "      <th>7083</th>\n",
       "      <td>1</td>\n",
       "      <td>3.808594</td>\n",
       "      <td>-1.000000</td>\n",
       "      <td>2019-03-25 01:04:00</td>\n",
       "      <td>1</td>\n",
       "    </tr>\n",
       "    <tr>\n",
       "      <th>7084</th>\n",
       "      <td>1</td>\n",
       "      <td>12.275227</td>\n",
       "      <td>-1.000000</td>\n",
       "      <td>2019-03-25 01:05:00</td>\n",
       "      <td>1</td>\n",
       "    </tr>\n",
       "    <tr>\n",
       "      <th>7085</th>\n",
       "      <td>1</td>\n",
       "      <td>12.963867</td>\n",
       "      <td>-1.000000</td>\n",
       "      <td>2019-03-25 01:06:00</td>\n",
       "      <td>1</td>\n",
       "    </tr>\n",
       "    <tr>\n",
       "      <th>7086</th>\n",
       "      <td>1</td>\n",
       "      <td>15.430948</td>\n",
       "      <td>-1.000000</td>\n",
       "      <td>2019-03-25 01:07:00</td>\n",
       "      <td>1</td>\n",
       "    </tr>\n",
       "    <tr>\n",
       "      <th>7087</th>\n",
       "      <td>1</td>\n",
       "      <td>13.632812</td>\n",
       "      <td>-1.000000</td>\n",
       "      <td>2019-03-25 01:08:00</td>\n",
       "      <td>1</td>\n",
       "    </tr>\n",
       "  </tbody>\n",
       "</table>\n",
       "<p>3194 rows × 5 columns</p>\n",
       "</div>"
      ],
      "text/plain": [
       "      in_room         rr         hr                   ts  user_id\n",
       "314         1   5.252827  92.413238  2019-03-20 08:14:00        1\n",
       "315         1   0.000000  90.451836  2019-03-20 08:15:00        1\n",
       "316         1   0.000000  -1.000000  2019-03-20 08:16:00        1\n",
       "318         1   8.180480  -1.000000  2019-03-20 08:18:00        1\n",
       "319         1  18.764710  -1.000000  2019-03-20 08:19:00        1\n",
       "...       ...        ...        ...                  ...      ...\n",
       "7083        1   3.808594  -1.000000  2019-03-25 01:04:00        1\n",
       "7084        1  12.275227  -1.000000  2019-03-25 01:05:00        1\n",
       "7085        1  12.963867  -1.000000  2019-03-25 01:06:00        1\n",
       "7086        1  15.430948  -1.000000  2019-03-25 01:07:00        1\n",
       "7087        1  13.632812  -1.000000  2019-03-25 01:08:00        1\n",
       "\n",
       "[3194 rows x 5 columns]"
      ]
     },
     "execution_count": 9,
     "metadata": {},
     "output_type": "execute_result"
    }
   ],
   "source": [
    "df_1 = df_present.loc[df['user_id'] == 1]\n",
    "df_1"
   ]
  },
  {
   "cell_type": "markdown",
   "metadata": {},
   "source": [
    "# Clean Data"
   ]
  },
  {
   "cell_type": "markdown",
   "metadata": {},
   "source": [
    "## Replace Invalid Data\n",
    "* -1 value for hr\n",
    "* 0 and -1 values for rr"
   ]
  },
  {
   "cell_type": "code",
   "execution_count": 167,
   "metadata": {
    "ExecuteTime": {
     "end_time": "2022-07-18T18:32:24.448353Z",
     "start_time": "2022-07-18T18:32:24.438618Z"
    }
   },
   "outputs": [],
   "source": [
    "# Replace invalid values with NaN\n",
    "df_present['hr'] = df_present['hr'].replace(-1, np.NaN)\n",
    "df_present['rr'] = df_present['rr'].replace(0, np.NaN)\n",
    "df_present['rr'] = df_present['rr'].replace(-1, np.NaN)"
   ]
  },
  {
   "cell_type": "markdown",
   "metadata": {},
   "source": [
    "# Evaluate Patients"
   ]
  },
  {
   "cell_type": "markdown",
   "metadata": {},
   "source": [
    "## Patient 1"
   ]
  },
  {
   "cell_type": "markdown",
   "metadata": {},
   "source": [
    "### Plot HR and RR Patient 1"
   ]
  },
  {
   "cell_type": "code",
   "execution_count": 168,
   "metadata": {
    "ExecuteTime": {
     "end_time": "2022-07-18T18:32:30.196670Z",
     "start_time": "2022-07-18T18:32:29.582564Z"
    }
   },
   "outputs": [
    {
     "data": {
      "image/png": "[encoded data removed]",
      "text/plain": [
       "<Figure size 1080x576 with 1 Axes>"
      ]
     },
     "metadata": {
      "needs_background": "light"
     },
     "output_type": "display_data"
    }
   ],
   "source": [
    "# Select Patient 2\n",
    "df_1 = df_present.loc[df_present['user_id'] == 1]\n",
    "\n",
    "# Convert timestampe to datetime\n",
    "df_1['date_time'] = pd.to_datetime(df_1.ts)\n",
    "\n",
    "# Copy DataFrame and Select Heart Rate column\n",
    "df_1_plot = df_1.copy()\n",
    "df_1_plot = df_1_plot.iloc[:, [5,1,2]]\n",
    "\n",
    "# Plot the timeseries \n",
    "pd.plotting.register_matplotlib_converters()\n",
    "ax = df_1_plot.set_index('date_time').plot(figsize=(15, 8), linewidth=1)\n",
    "ax.set_ylabel('Heart Rate')\n",
    "ax.set_xlabel('Date')\n",
    "#ax.set_xticks(range(488))\n",
    "\n",
    "plt.show()"
   ]
  },
  {
   "cell_type": "markdown",
   "metadata": {},
   "source": [
    "#### Summary:\n",
    "* Need to zoom-in on some events for improved clarity\n",
    "* Seems like being awake for more than X amount of time at night should trigger a check-in, in addition to the times when both respiration and heart rate are outside a given boundary at the same time."
   ]
  },
  {
   "cell_type": "markdown",
   "metadata": {},
   "source": [
    "### RR One Day"
   ]
  },
  {
   "cell_type": "code",
   "execution_count": 18,
   "metadata": {
    "ExecuteTime": {
     "end_time": "2022-07-18T15:19:45.579859Z",
     "start_time": "2022-07-18T15:19:44.950599Z"
    }
   },
   "outputs": [
    {
     "data": {
      "image/png": "[encoded data removed]",
      "text/plain": [
       "<Figure size 1080x576 with 1 Axes>"
      ]
     },
     "metadata": {
      "needs_background": "light"
     },
     "output_type": "display_data"
    }
   ],
   "source": [
    "time = (df_1_plot['date_time'] > '2019-03-21') & (df_1_plot['date_time'] <= '2019-03-22')\n",
    "df_1_plot = df_1_plot.loc[time]\n",
    "\n",
    "# Plot the timeseries \n",
    "pd.plotting.register_matplotlib_converters()\n",
    "ax = df_1_plot.set_index('date_time').plot(figsize=(15, 8), linewidth=1)\n",
    "ax.set_ylabel('Respiration Rate')\n",
    "ax.set_xlabel('Date')\n",
    "#ax.set_xticks(range(488))\n",
    "\n",
    "plt.show()"
   ]
  },
  {
   "cell_type": "markdown",
   "metadata": {},
   "source": [
    "### HR & RR One Day"
   ]
  },
  {
   "cell_type": "code",
   "execution_count": 164,
   "metadata": {
    "ExecuteTime": {
     "end_time": "2022-07-18T18:28:13.571641Z",
     "start_time": "2022-07-18T18:28:13.097004Z"
    }
   },
   "outputs": [
    {
     "data": {
      "image/png": "[encoded data removed]",
      "text/plain": [
       "<Figure size 1080x576 with 1 Axes>"
      ]
     },
     "metadata": {
      "needs_background": "light"
     },
     "output_type": "display_data"
    }
   ],
   "source": [
    "# Copy DataFrame and Select Heart Rate column\n",
    "df_1_plot = df_1.copy()\n",
    "df_1_plot = df_1_plot.iloc[:, [5,1,2]]\n",
    "\n",
    "# Remove NaN Values\n",
    "df_1_plot['hr'] = df_1_plot['hr'].replace(-1, np.NaN)\n",
    "\n",
    "# Select only March 21st\n",
    "time = (df_1_plot['date_time'] > '2019-03-21') & (df_1_plot['date_time'] <= '2019-03-22')\n",
    "df_1_plot = df_1_plot.loc[time]\n",
    "\n",
    "# Plot the timeseries \n",
    "pd.plotting.register_matplotlib_converters()\n",
    "ax = df_1_plot.set_index('date_time').plot(figsize=(15, 8), linewidth=1)\n",
    "ax.set_ylabel('Heart Rate')\n",
    "ax.set_xlabel('Date')\n",
    "#ax.set_xticks(range(488))\n",
    "\n",
    "plt.show()"
   ]
  },
  {
   "cell_type": "markdown",
   "metadata": {},
   "source": [
    "### HR and RR 5 hours"
   ]
  },
  {
   "cell_type": "code",
   "execution_count": 165,
   "metadata": {
    "ExecuteTime": {
     "end_time": "2022-07-18T18:28:18.619630Z",
     "start_time": "2022-07-18T18:28:18.244360Z"
    }
   },
   "outputs": [
    {
     "data": {
      "image/png": "[encoded data removed]",
      "text/plain": [
       "<Figure size 1080x576 with 1 Axes>"
      ]
     },
     "metadata": {
      "needs_background": "light"
     },
     "output_type": "display_data"
    }
   ],
   "source": [
    "# Copy DataFrame and Select Heart Rate column\n",
    "df_1_plot = df_1.copy()\n",
    "df_1_plot = df_1_plot.iloc[:, [5,1,2]]\n",
    "\n",
    "# Remove NaN Values\n",
    "df_1_plot['hr'] = df_1_plot['hr'].replace(-1, np.NaN)\n",
    "df_1_plot['rr'] = df_1_plot['rr'].replace(0, np.NaN)\n",
    "\n",
    "# Select only March 21st\n",
    "time = (df_1_plot['date_time'] > '2019-03-21 13') & (df_1_plot['date_time'] <= '2019-03-21 18')\n",
    "df_1_plot = df_1_plot.loc[time]\n",
    "\n",
    "# Plot the timeseries \n",
    "pd.plotting.register_matplotlib_converters()\n",
    "ax = df_1_plot.set_index('date_time').plot(figsize=(15, 8), linewidth=1)\n",
    "ax.set_ylabel('Heart Rate')\n",
    "ax.set_xlabel('Date')\n",
    "#ax.set_xticks(range(488))\n",
    "\n",
    "plt.show()"
   ]
  },
  {
   "cell_type": "markdown",
   "metadata": {},
   "source": [
    "### Highlight 20 minute episode"
   ]
  },
  {
   "cell_type": "code",
   "execution_count": 166,
   "metadata": {
    "ExecuteTime": {
     "end_time": "2022-07-18T18:28:26.803549Z",
     "start_time": "2022-07-18T18:28:26.491892Z"
    }
   },
   "outputs": [
    {
     "data": {
      "image/png": "[encoded data removed]",
      "text/plain": [
       "<Figure size 1080x576 with 1 Axes>"
      ]
     },
     "metadata": {
      "needs_background": "light"
     },
     "output_type": "display_data"
    }
   ],
   "source": [
    "# Copy DataFrame and Select Heart Rate column\n",
    "df_1_plot = df_1.copy()\n",
    "df_1_plot = df_1_plot.iloc[:, [5,1,2]]\n",
    "\n",
    "# Remove NaN Values\n",
    "df_1_plot['hr'] = df_1_plot['hr'].replace(-1, np.NaN)\n",
    "df_1_plot['rr'] = df_1_plot['rr'].replace(0, np.NaN)\n",
    "\n",
    "# Select only March 21st with 40 minute window\n",
    "time = (df_1_plot['date_time'] > '2019-03-21 15:50') & (df_1_plot['date_time'] <= '2019-03-21 16:30')\n",
    "df_1_plot = df_1_plot.loc[time]\n",
    "\n",
    "# Plot the timeseries \n",
    "pd.plotting.register_matplotlib_converters()\n",
    "ax = df_1_plot.set_index('date_time').plot(figsize=(15, 8), linewidth=1)\n",
    "ax.set_ylabel('Heart Rate')\n",
    "ax.set_xlabel('Date')\n",
    "#ax.set_xticks(range(488))\n",
    "\n",
    "plt.show()"
   ]
  },
  {
   "cell_type": "code",
   "execution_count": 52,
   "metadata": {
    "ExecuteTime": {
     "end_time": "2022-07-18T17:29:39.566198Z",
     "start_time": "2022-07-18T17:29:39.526263Z"
    },
    "scrolled": false
   },
   "outputs": [
    {
     "data": {
      "text/html": [
       "<div>\n",
       "<style scoped>\n",
       "    .dataframe tbody tr th:only-of-type {\n",
       "        vertical-align: middle;\n",
       "    }\n",
       "\n",
       "    .dataframe tbody tr th {\n",
       "        vertical-align: top;\n",
       "    }\n",
       "\n",
       "    .dataframe thead th {\n",
       "        text-align: right;\n",
       "    }\n",
       "</style>\n",
       "<table border=\"1\" class=\"dataframe\">\n",
       "  <thead>\n",
       "    <tr style=\"text-align: right;\">\n",
       "      <th></th>\n",
       "      <th>date_time</th>\n",
       "      <th>rr</th>\n",
       "      <th>hr</th>\n",
       "    </tr>\n",
       "  </thead>\n",
       "  <tbody>\n",
       "    <tr>\n",
       "      <th>2211</th>\n",
       "      <td>2019-03-21 15:51:00</td>\n",
       "      <td>16.643792</td>\n",
       "      <td>74.944573</td>\n",
       "    </tr>\n",
       "    <tr>\n",
       "      <th>2212</th>\n",
       "      <td>2019-03-21 15:52:00</td>\n",
       "      <td>16.278766</td>\n",
       "      <td>74.269417</td>\n",
       "    </tr>\n",
       "    <tr>\n",
       "      <th>2213</th>\n",
       "      <td>2019-03-21 15:53:00</td>\n",
       "      <td>16.577148</td>\n",
       "      <td>74.311523</td>\n",
       "    </tr>\n",
       "    <tr>\n",
       "      <th>2214</th>\n",
       "      <td>2019-03-21 15:54:00</td>\n",
       "      <td>16.077733</td>\n",
       "      <td>73.872254</td>\n",
       "    </tr>\n",
       "    <tr>\n",
       "      <th>2215</th>\n",
       "      <td>2019-03-21 15:55:00</td>\n",
       "      <td>16.881865</td>\n",
       "      <td>73.681028</td>\n",
       "    </tr>\n",
       "    <tr>\n",
       "      <th>2216</th>\n",
       "      <td>2019-03-21 15:56:00</td>\n",
       "      <td>15.970429</td>\n",
       "      <td>73.663481</td>\n",
       "    </tr>\n",
       "    <tr>\n",
       "      <th>2217</th>\n",
       "      <td>2019-03-21 15:57:00</td>\n",
       "      <td>16.809842</td>\n",
       "      <td>73.726011</td>\n",
       "    </tr>\n",
       "    <tr>\n",
       "      <th>2218</th>\n",
       "      <td>2019-03-21 15:58:00</td>\n",
       "      <td>16.283154</td>\n",
       "      <td>73.793658</td>\n",
       "    </tr>\n",
       "    <tr>\n",
       "      <th>2219</th>\n",
       "      <td>2019-03-21 15:59:00</td>\n",
       "      <td>16.031834</td>\n",
       "      <td>73.507197</td>\n",
       "    </tr>\n",
       "    <tr>\n",
       "      <th>2220</th>\n",
       "      <td>2019-03-21 16:00:00</td>\n",
       "      <td>2.000000</td>\n",
       "      <td>10.000000</td>\n",
       "    </tr>\n",
       "    <tr>\n",
       "      <th>2221</th>\n",
       "      <td>2019-03-21 16:01:00</td>\n",
       "      <td>2.000000</td>\n",
       "      <td>10.000000</td>\n",
       "    </tr>\n",
       "    <tr>\n",
       "      <th>2222</th>\n",
       "      <td>2019-03-21 16:02:00</td>\n",
       "      <td>2.000000</td>\n",
       "      <td>10.000000</td>\n",
       "    </tr>\n",
       "    <tr>\n",
       "      <th>2223</th>\n",
       "      <td>2019-03-21 16:03:00</td>\n",
       "      <td>2.000000</td>\n",
       "      <td>10.000000</td>\n",
       "    </tr>\n",
       "    <tr>\n",
       "      <th>2224</th>\n",
       "      <td>2019-03-21 16:04:00</td>\n",
       "      <td>2.000000</td>\n",
       "      <td>10.000000</td>\n",
       "    </tr>\n",
       "    <tr>\n",
       "      <th>2225</th>\n",
       "      <td>2019-03-21 16:05:00</td>\n",
       "      <td>2.000000</td>\n",
       "      <td>10.000000</td>\n",
       "    </tr>\n",
       "    <tr>\n",
       "      <th>2226</th>\n",
       "      <td>2019-03-21 16:06:00</td>\n",
       "      <td>2.000000</td>\n",
       "      <td>10.000000</td>\n",
       "    </tr>\n",
       "    <tr>\n",
       "      <th>2227</th>\n",
       "      <td>2019-03-21 16:07:00</td>\n",
       "      <td>2.000000</td>\n",
       "      <td>10.000000</td>\n",
       "    </tr>\n",
       "    <tr>\n",
       "      <th>2228</th>\n",
       "      <td>2019-03-21 16:08:00</td>\n",
       "      <td>2.000000</td>\n",
       "      <td>10.000000</td>\n",
       "    </tr>\n",
       "    <tr>\n",
       "      <th>2229</th>\n",
       "      <td>2019-03-21 16:09:00</td>\n",
       "      <td>2.000000</td>\n",
       "      <td>10.000000</td>\n",
       "    </tr>\n",
       "    <tr>\n",
       "      <th>2230</th>\n",
       "      <td>2019-03-21 16:10:00</td>\n",
       "      <td>2.000000</td>\n",
       "      <td>10.000000</td>\n",
       "    </tr>\n",
       "    <tr>\n",
       "      <th>2231</th>\n",
       "      <td>2019-03-21 16:11:00</td>\n",
       "      <td>2.000000</td>\n",
       "      <td>10.000000</td>\n",
       "    </tr>\n",
       "    <tr>\n",
       "      <th>2232</th>\n",
       "      <td>2019-03-21 16:12:00</td>\n",
       "      <td>2.000000</td>\n",
       "      <td>10.000000</td>\n",
       "    </tr>\n",
       "    <tr>\n",
       "      <th>2233</th>\n",
       "      <td>2019-03-21 16:13:00</td>\n",
       "      <td>2.000000</td>\n",
       "      <td>10.000000</td>\n",
       "    </tr>\n",
       "    <tr>\n",
       "      <th>2234</th>\n",
       "      <td>2019-03-21 16:14:00</td>\n",
       "      <td>2.000000</td>\n",
       "      <td>10.000000</td>\n",
       "    </tr>\n",
       "    <tr>\n",
       "      <th>2235</th>\n",
       "      <td>2019-03-21 16:15:00</td>\n",
       "      <td>2.000000</td>\n",
       "      <td>10.000000</td>\n",
       "    </tr>\n",
       "    <tr>\n",
       "      <th>2236</th>\n",
       "      <td>2019-03-21 16:16:00</td>\n",
       "      <td>2.000000</td>\n",
       "      <td>10.000000</td>\n",
       "    </tr>\n",
       "    <tr>\n",
       "      <th>2237</th>\n",
       "      <td>2019-03-21 16:17:00</td>\n",
       "      <td>2.000000</td>\n",
       "      <td>10.000000</td>\n",
       "    </tr>\n",
       "    <tr>\n",
       "      <th>2238</th>\n",
       "      <td>2019-03-21 16:18:00</td>\n",
       "      <td>2.000000</td>\n",
       "      <td>10.000000</td>\n",
       "    </tr>\n",
       "    <tr>\n",
       "      <th>2239</th>\n",
       "      <td>2019-03-21 16:19:00</td>\n",
       "      <td>2.000000</td>\n",
       "      <td>10.000000</td>\n",
       "    </tr>\n",
       "    <tr>\n",
       "      <th>2240</th>\n",
       "      <td>2019-03-21 16:20:00</td>\n",
       "      <td>17.203709</td>\n",
       "      <td>69.281639</td>\n",
       "    </tr>\n",
       "    <tr>\n",
       "      <th>2241</th>\n",
       "      <td>2019-03-21 16:21:00</td>\n",
       "      <td>17.432851</td>\n",
       "      <td>69.431173</td>\n",
       "    </tr>\n",
       "    <tr>\n",
       "      <th>2242</th>\n",
       "      <td>2019-03-21 16:22:00</td>\n",
       "      <td>16.895767</td>\n",
       "      <td>69.659810</td>\n",
       "    </tr>\n",
       "    <tr>\n",
       "      <th>2243</th>\n",
       "      <td>2019-03-21 16:23:00</td>\n",
       "      <td>16.406250</td>\n",
       "      <td>69.933221</td>\n",
       "    </tr>\n",
       "    <tr>\n",
       "      <th>2244</th>\n",
       "      <td>2019-03-21 16:24:00</td>\n",
       "      <td>16.759283</td>\n",
       "      <td>73.342704</td>\n",
       "    </tr>\n",
       "    <tr>\n",
       "      <th>2245</th>\n",
       "      <td>2019-03-21 16:25:00</td>\n",
       "      <td>16.572960</td>\n",
       "      <td>73.445672</td>\n",
       "    </tr>\n",
       "    <tr>\n",
       "      <th>2246</th>\n",
       "      <td>2019-03-21 16:26:00</td>\n",
       "      <td>16.153397</td>\n",
       "      <td>73.726011</td>\n",
       "    </tr>\n",
       "    <tr>\n",
       "      <th>2247</th>\n",
       "      <td>2019-03-21 16:27:00</td>\n",
       "      <td>18.475979</td>\n",
       "      <td>69.566231</td>\n",
       "    </tr>\n",
       "    <tr>\n",
       "      <th>2248</th>\n",
       "      <td>2019-03-21 16:28:00</td>\n",
       "      <td>23.248808</td>\n",
       "      <td>NaN</td>\n",
       "    </tr>\n",
       "    <tr>\n",
       "      <th>2249</th>\n",
       "      <td>2019-03-21 16:29:00</td>\n",
       "      <td>18.415891</td>\n",
       "      <td>70.521941</td>\n",
       "    </tr>\n",
       "    <tr>\n",
       "      <th>2250</th>\n",
       "      <td>2019-03-21 16:30:00</td>\n",
       "      <td>29.936545</td>\n",
       "      <td>NaN</td>\n",
       "    </tr>\n",
       "  </tbody>\n",
       "</table>\n",
       "</div>"
      ],
      "text/plain": [
       "               date_time         rr         hr\n",
       "2211 2019-03-21 15:51:00  16.643792  74.944573\n",
       "2212 2019-03-21 15:52:00  16.278766  74.269417\n",
       "2213 2019-03-21 15:53:00  16.577148  74.311523\n",
       "2214 2019-03-21 15:54:00  16.077733  73.872254\n",
       "2215 2019-03-21 15:55:00  16.881865  73.681028\n",
       "2216 2019-03-21 15:56:00  15.970429  73.663481\n",
       "2217 2019-03-21 15:57:00  16.809842  73.726011\n",
       "2218 2019-03-21 15:58:00  16.283154  73.793658\n",
       "2219 2019-03-21 15:59:00  16.031834  73.507197\n",
       "2220 2019-03-21 16:00:00   2.000000  10.000000\n",
       "2221 2019-03-21 16:01:00   2.000000  10.000000\n",
       "2222 2019-03-21 16:02:00   2.000000  10.000000\n",
       "2223 2019-03-21 16:03:00   2.000000  10.000000\n",
       "2224 2019-03-21 16:04:00   2.000000  10.000000\n",
       "2225 2019-03-21 16:05:00   2.000000  10.000000\n",
       "2226 2019-03-21 16:06:00   2.000000  10.000000\n",
       "2227 2019-03-21 16:07:00   2.000000  10.000000\n",
       "2228 2019-03-21 16:08:00   2.000000  10.000000\n",
       "2229 2019-03-21 16:09:00   2.000000  10.000000\n",
       "2230 2019-03-21 16:10:00   2.000000  10.000000\n",
       "2231 2019-03-21 16:11:00   2.000000  10.000000\n",
       "2232 2019-03-21 16:12:00   2.000000  10.000000\n",
       "2233 2019-03-21 16:13:00   2.000000  10.000000\n",
       "2234 2019-03-21 16:14:00   2.000000  10.000000\n",
       "2235 2019-03-21 16:15:00   2.000000  10.000000\n",
       "2236 2019-03-21 16:16:00   2.000000  10.000000\n",
       "2237 2019-03-21 16:17:00   2.000000  10.000000\n",
       "2238 2019-03-21 16:18:00   2.000000  10.000000\n",
       "2239 2019-03-21 16:19:00   2.000000  10.000000\n",
       "2240 2019-03-21 16:20:00  17.203709  69.281639\n",
       "2241 2019-03-21 16:21:00  17.432851  69.431173\n",
       "2242 2019-03-21 16:22:00  16.895767  69.659810\n",
       "2243 2019-03-21 16:23:00  16.406250  69.933221\n",
       "2244 2019-03-21 16:24:00  16.759283  73.342704\n",
       "2245 2019-03-21 16:25:00  16.572960  73.445672\n",
       "2246 2019-03-21 16:26:00  16.153397  73.726011\n",
       "2247 2019-03-21 16:27:00  18.475979  69.566231\n",
       "2248 2019-03-21 16:28:00  23.248808        NaN\n",
       "2249 2019-03-21 16:29:00  18.415891  70.521941\n",
       "2250 2019-03-21 16:30:00  29.936545        NaN"
      ]
     },
     "execution_count": 52,
     "metadata": {},
     "output_type": "execute_result"
    }
   ],
   "source": [
    "# Print values for 50 data points during 20 minute episode\n",
    "df_1_plot.head(50)"
   ]
  },
  {
   "cell_type": "markdown",
   "metadata": {},
   "source": [
    "### Investigate Limits of HR and RR"
   ]
  },
  {
   "cell_type": "markdown",
   "metadata": {},
   "source": [
    "#### Heart Rate"
   ]
  },
  {
   "cell_type": "markdown",
   "metadata": {},
   "source": [
    "##### Below 50 for heart rate"
   ]
  },
  {
   "cell_type": "code",
   "execution_count": 53,
   "metadata": {
    "ExecuteTime": {
     "end_time": "2022-07-18T17:30:21.972820Z",
     "start_time": "2022-07-18T17:30:21.961463Z"
    }
   },
   "outputs": [
    {
     "data": {
      "text/plain": [
       "20"
      ]
     },
     "execution_count": 53,
     "metadata": {},
     "output_type": "execute_result"
    }
   ],
   "source": [
    "# Number of data points with heart rate below 50\n",
    "len(df_1_plot[df_1_plot['hr']<50])"
   ]
  },
  {
   "cell_type": "code",
   "execution_count": 54,
   "metadata": {
    "ExecuteTime": {
     "end_time": "2022-07-18T17:30:38.207796Z",
     "start_time": "2022-07-18T17:30:38.191238Z"
    }
   },
   "outputs": [
    {
     "data": {
      "text/html": [
       "<div>\n",
       "<style scoped>\n",
       "    .dataframe tbody tr th:only-of-type {\n",
       "        vertical-align: middle;\n",
       "    }\n",
       "\n",
       "    .dataframe tbody tr th {\n",
       "        vertical-align: top;\n",
       "    }\n",
       "\n",
       "    .dataframe thead th {\n",
       "        text-align: right;\n",
       "    }\n",
       "</style>\n",
       "<table border=\"1\" class=\"dataframe\">\n",
       "  <thead>\n",
       "    <tr style=\"text-align: right;\">\n",
       "      <th></th>\n",
       "      <th>date_time</th>\n",
       "      <th>rr</th>\n",
       "      <th>hr</th>\n",
       "    </tr>\n",
       "  </thead>\n",
       "  <tbody>\n",
       "    <tr>\n",
       "      <th>2220</th>\n",
       "      <td>2019-03-21 16:00:00</td>\n",
       "      <td>2.0</td>\n",
       "      <td>10.0</td>\n",
       "    </tr>\n",
       "    <tr>\n",
       "      <th>2221</th>\n",
       "      <td>2019-03-21 16:01:00</td>\n",
       "      <td>2.0</td>\n",
       "      <td>10.0</td>\n",
       "    </tr>\n",
       "    <tr>\n",
       "      <th>2222</th>\n",
       "      <td>2019-03-21 16:02:00</td>\n",
       "      <td>2.0</td>\n",
       "      <td>10.0</td>\n",
       "    </tr>\n",
       "    <tr>\n",
       "      <th>2223</th>\n",
       "      <td>2019-03-21 16:03:00</td>\n",
       "      <td>2.0</td>\n",
       "      <td>10.0</td>\n",
       "    </tr>\n",
       "    <tr>\n",
       "      <th>2224</th>\n",
       "      <td>2019-03-21 16:04:00</td>\n",
       "      <td>2.0</td>\n",
       "      <td>10.0</td>\n",
       "    </tr>\n",
       "    <tr>\n",
       "      <th>2225</th>\n",
       "      <td>2019-03-21 16:05:00</td>\n",
       "      <td>2.0</td>\n",
       "      <td>10.0</td>\n",
       "    </tr>\n",
       "    <tr>\n",
       "      <th>2226</th>\n",
       "      <td>2019-03-21 16:06:00</td>\n",
       "      <td>2.0</td>\n",
       "      <td>10.0</td>\n",
       "    </tr>\n",
       "    <tr>\n",
       "      <th>2227</th>\n",
       "      <td>2019-03-21 16:07:00</td>\n",
       "      <td>2.0</td>\n",
       "      <td>10.0</td>\n",
       "    </tr>\n",
       "    <tr>\n",
       "      <th>2228</th>\n",
       "      <td>2019-03-21 16:08:00</td>\n",
       "      <td>2.0</td>\n",
       "      <td>10.0</td>\n",
       "    </tr>\n",
       "    <tr>\n",
       "      <th>2229</th>\n",
       "      <td>2019-03-21 16:09:00</td>\n",
       "      <td>2.0</td>\n",
       "      <td>10.0</td>\n",
       "    </tr>\n",
       "    <tr>\n",
       "      <th>2230</th>\n",
       "      <td>2019-03-21 16:10:00</td>\n",
       "      <td>2.0</td>\n",
       "      <td>10.0</td>\n",
       "    </tr>\n",
       "    <tr>\n",
       "      <th>2231</th>\n",
       "      <td>2019-03-21 16:11:00</td>\n",
       "      <td>2.0</td>\n",
       "      <td>10.0</td>\n",
       "    </tr>\n",
       "    <tr>\n",
       "      <th>2232</th>\n",
       "      <td>2019-03-21 16:12:00</td>\n",
       "      <td>2.0</td>\n",
       "      <td>10.0</td>\n",
       "    </tr>\n",
       "    <tr>\n",
       "      <th>2233</th>\n",
       "      <td>2019-03-21 16:13:00</td>\n",
       "      <td>2.0</td>\n",
       "      <td>10.0</td>\n",
       "    </tr>\n",
       "    <tr>\n",
       "      <th>2234</th>\n",
       "      <td>2019-03-21 16:14:00</td>\n",
       "      <td>2.0</td>\n",
       "      <td>10.0</td>\n",
       "    </tr>\n",
       "    <tr>\n",
       "      <th>2235</th>\n",
       "      <td>2019-03-21 16:15:00</td>\n",
       "      <td>2.0</td>\n",
       "      <td>10.0</td>\n",
       "    </tr>\n",
       "    <tr>\n",
       "      <th>2236</th>\n",
       "      <td>2019-03-21 16:16:00</td>\n",
       "      <td>2.0</td>\n",
       "      <td>10.0</td>\n",
       "    </tr>\n",
       "    <tr>\n",
       "      <th>2237</th>\n",
       "      <td>2019-03-21 16:17:00</td>\n",
       "      <td>2.0</td>\n",
       "      <td>10.0</td>\n",
       "    </tr>\n",
       "    <tr>\n",
       "      <th>2238</th>\n",
       "      <td>2019-03-21 16:18:00</td>\n",
       "      <td>2.0</td>\n",
       "      <td>10.0</td>\n",
       "    </tr>\n",
       "    <tr>\n",
       "      <th>2239</th>\n",
       "      <td>2019-03-21 16:19:00</td>\n",
       "      <td>2.0</td>\n",
       "      <td>10.0</td>\n",
       "    </tr>\n",
       "  </tbody>\n",
       "</table>\n",
       "</div>"
      ],
      "text/plain": [
       "               date_time   rr    hr\n",
       "2220 2019-03-21 16:00:00  2.0  10.0\n",
       "2221 2019-03-21 16:01:00  2.0  10.0\n",
       "2222 2019-03-21 16:02:00  2.0  10.0\n",
       "2223 2019-03-21 16:03:00  2.0  10.0\n",
       "2224 2019-03-21 16:04:00  2.0  10.0\n",
       "2225 2019-03-21 16:05:00  2.0  10.0\n",
       "2226 2019-03-21 16:06:00  2.0  10.0\n",
       "2227 2019-03-21 16:07:00  2.0  10.0\n",
       "2228 2019-03-21 16:08:00  2.0  10.0\n",
       "2229 2019-03-21 16:09:00  2.0  10.0\n",
       "2230 2019-03-21 16:10:00  2.0  10.0\n",
       "2231 2019-03-21 16:11:00  2.0  10.0\n",
       "2232 2019-03-21 16:12:00  2.0  10.0\n",
       "2233 2019-03-21 16:13:00  2.0  10.0\n",
       "2234 2019-03-21 16:14:00  2.0  10.0\n",
       "2235 2019-03-21 16:15:00  2.0  10.0\n",
       "2236 2019-03-21 16:16:00  2.0  10.0\n",
       "2237 2019-03-21 16:17:00  2.0  10.0\n",
       "2238 2019-03-21 16:18:00  2.0  10.0\n",
       "2239 2019-03-21 16:19:00  2.0  10.0"
      ]
     },
     "execution_count": 54,
     "metadata": {},
     "output_type": "execute_result"
    }
   ],
   "source": [
    "# Values of data points with heart rate below 50\n",
    "df_1_plot[df_1_plot['hr']<50]"
   ]
  },
  {
   "cell_type": "markdown",
   "metadata": {},
   "source": [
    "##### Above 120 for heart rate"
   ]
  },
  {
   "cell_type": "code",
   "execution_count": 45,
   "metadata": {
    "ExecuteTime": {
     "end_time": "2022-07-18T17:24:56.164516Z",
     "start_time": "2022-07-18T17:24:56.138351Z"
    }
   },
   "outputs": [
    {
     "data": {
      "text/plain": [
       "0"
      ]
     },
     "execution_count": 45,
     "metadata": {},
     "output_type": "execute_result"
    }
   ],
   "source": [
    "# Number of data points with heart rate above 120\n",
    "len(df_1_plot[df_1_plot['hr']>120])"
   ]
  },
  {
   "cell_type": "code",
   "execution_count": 47,
   "metadata": {
    "ExecuteTime": {
     "end_time": "2022-07-18T17:25:07.515736Z",
     "start_time": "2022-07-18T17:25:07.488720Z"
    },
    "scrolled": true
   },
   "outputs": [
    {
     "data": {
      "text/html": [
       "<div>\n",
       "<style scoped>\n",
       "    .dataframe tbody tr th:only-of-type {\n",
       "        vertical-align: middle;\n",
       "    }\n",
       "\n",
       "    .dataframe tbody tr th {\n",
       "        vertical-align: top;\n",
       "    }\n",
       "\n",
       "    .dataframe thead th {\n",
       "        text-align: right;\n",
       "    }\n",
       "</style>\n",
       "<table border=\"1\" class=\"dataframe\">\n",
       "  <thead>\n",
       "    <tr style=\"text-align: right;\">\n",
       "      <th></th>\n",
       "      <th>date_time</th>\n",
       "      <th>rr</th>\n",
       "      <th>hr</th>\n",
       "    </tr>\n",
       "  </thead>\n",
       "  <tbody>\n",
       "  </tbody>\n",
       "</table>\n",
       "</div>"
      ],
      "text/plain": [
       "Empty DataFrame\n",
       "Columns: [date_time, rr, hr]\n",
       "Index: []"
      ]
     },
     "execution_count": 47,
     "metadata": {},
     "output_type": "execute_result"
    }
   ],
   "source": [
    "# Values of data points with heart rate above 120\n",
    "df_1_plot[df_1_plot['hr']>120]"
   ]
  },
  {
   "cell_type": "markdown",
   "metadata": {},
   "source": [
    "#### Respiratory Rate"
   ]
  },
  {
   "cell_type": "markdown",
   "metadata": {},
   "source": [
    "##### Above 26 for respiratory rate"
   ]
  },
  {
   "cell_type": "code",
   "execution_count": 48,
   "metadata": {
    "ExecuteTime": {
     "end_time": "2022-07-18T17:25:47.983432Z",
     "start_time": "2022-07-18T17:25:47.961601Z"
    }
   },
   "outputs": [
    {
     "data": {
      "text/plain": [
       "1"
      ]
     },
     "execution_count": 48,
     "metadata": {},
     "output_type": "execute_result"
    }
   ],
   "source": [
    "# Number of data points with respiration rate above 26\n",
    "len(df_1_plot[df_1_plot['rr']>26])"
   ]
  },
  {
   "cell_type": "code",
   "execution_count": 49,
   "metadata": {
    "ExecuteTime": {
     "end_time": "2022-07-18T17:25:53.331789Z",
     "start_time": "2022-07-18T17:25:53.311176Z"
    },
    "scrolled": false
   },
   "outputs": [
    {
     "data": {
      "text/html": [
       "<div>\n",
       "<style scoped>\n",
       "    .dataframe tbody tr th:only-of-type {\n",
       "        vertical-align: middle;\n",
       "    }\n",
       "\n",
       "    .dataframe tbody tr th {\n",
       "        vertical-align: top;\n",
       "    }\n",
       "\n",
       "    .dataframe thead th {\n",
       "        text-align: right;\n",
       "    }\n",
       "</style>\n",
       "<table border=\"1\" class=\"dataframe\">\n",
       "  <thead>\n",
       "    <tr style=\"text-align: right;\">\n",
       "      <th></th>\n",
       "      <th>date_time</th>\n",
       "      <th>rr</th>\n",
       "      <th>hr</th>\n",
       "    </tr>\n",
       "  </thead>\n",
       "  <tbody>\n",
       "    <tr>\n",
       "      <th>2250</th>\n",
       "      <td>2019-03-21 16:30:00</td>\n",
       "      <td>29.936545</td>\n",
       "      <td>NaN</td>\n",
       "    </tr>\n",
       "  </tbody>\n",
       "</table>\n",
       "</div>"
      ],
      "text/plain": [
       "               date_time         rr  hr\n",
       "2250 2019-03-21 16:30:00  29.936545 NaN"
      ]
     },
     "execution_count": 49,
     "metadata": {},
     "output_type": "execute_result"
    }
   ],
   "source": [
    "# Values of data points with respiration rate above 26\n",
    "df_1_plot[df_1_plot['rr']>26]"
   ]
  },
  {
   "cell_type": "markdown",
   "metadata": {},
   "source": [
    "##### Below 15 for respiratory rate"
   ]
  },
  {
   "cell_type": "code",
   "execution_count": 50,
   "metadata": {
    "ExecuteTime": {
     "end_time": "2022-07-18T17:26:50.403455Z",
     "start_time": "2022-07-18T17:26:50.388083Z"
    }
   },
   "outputs": [
    {
     "data": {
      "text/plain": [
       "20"
      ]
     },
     "execution_count": 50,
     "metadata": {},
     "output_type": "execute_result"
    }
   ],
   "source": [
    "# Number of data points with respiration rate below 15\n",
    "len(df_1_plot[df_1_plot['rr']<15])"
   ]
  },
  {
   "cell_type": "code",
   "execution_count": 51,
   "metadata": {
    "ExecuteTime": {
     "end_time": "2022-07-18T17:26:52.957548Z",
     "start_time": "2022-07-18T17:26:52.939850Z"
    },
    "scrolled": true
   },
   "outputs": [
    {
     "data": {
      "text/html": [
       "<div>\n",
       "<style scoped>\n",
       "    .dataframe tbody tr th:only-of-type {\n",
       "        vertical-align: middle;\n",
       "    }\n",
       "\n",
       "    .dataframe tbody tr th {\n",
       "        vertical-align: top;\n",
       "    }\n",
       "\n",
       "    .dataframe thead th {\n",
       "        text-align: right;\n",
       "    }\n",
       "</style>\n",
       "<table border=\"1\" class=\"dataframe\">\n",
       "  <thead>\n",
       "    <tr style=\"text-align: right;\">\n",
       "      <th></th>\n",
       "      <th>date_time</th>\n",
       "      <th>rr</th>\n",
       "      <th>hr</th>\n",
       "    </tr>\n",
       "  </thead>\n",
       "  <tbody>\n",
       "    <tr>\n",
       "      <th>2220</th>\n",
       "      <td>2019-03-21 16:00:00</td>\n",
       "      <td>2.0</td>\n",
       "      <td>10.0</td>\n",
       "    </tr>\n",
       "    <tr>\n",
       "      <th>2221</th>\n",
       "      <td>2019-03-21 16:01:00</td>\n",
       "      <td>2.0</td>\n",
       "      <td>10.0</td>\n",
       "    </tr>\n",
       "    <tr>\n",
       "      <th>2222</th>\n",
       "      <td>2019-03-21 16:02:00</td>\n",
       "      <td>2.0</td>\n",
       "      <td>10.0</td>\n",
       "    </tr>\n",
       "    <tr>\n",
       "      <th>2223</th>\n",
       "      <td>2019-03-21 16:03:00</td>\n",
       "      <td>2.0</td>\n",
       "      <td>10.0</td>\n",
       "    </tr>\n",
       "    <tr>\n",
       "      <th>2224</th>\n",
       "      <td>2019-03-21 16:04:00</td>\n",
       "      <td>2.0</td>\n",
       "      <td>10.0</td>\n",
       "    </tr>\n",
       "    <tr>\n",
       "      <th>2225</th>\n",
       "      <td>2019-03-21 16:05:00</td>\n",
       "      <td>2.0</td>\n",
       "      <td>10.0</td>\n",
       "    </tr>\n",
       "    <tr>\n",
       "      <th>2226</th>\n",
       "      <td>2019-03-21 16:06:00</td>\n",
       "      <td>2.0</td>\n",
       "      <td>10.0</td>\n",
       "    </tr>\n",
       "    <tr>\n",
       "      <th>2227</th>\n",
       "      <td>2019-03-21 16:07:00</td>\n",
       "      <td>2.0</td>\n",
       "      <td>10.0</td>\n",
       "    </tr>\n",
       "    <tr>\n",
       "      <th>2228</th>\n",
       "      <td>2019-03-21 16:08:00</td>\n",
       "      <td>2.0</td>\n",
       "      <td>10.0</td>\n",
       "    </tr>\n",
       "    <tr>\n",
       "      <th>2229</th>\n",
       "      <td>2019-03-21 16:09:00</td>\n",
       "      <td>2.0</td>\n",
       "      <td>10.0</td>\n",
       "    </tr>\n",
       "    <tr>\n",
       "      <th>2230</th>\n",
       "      <td>2019-03-21 16:10:00</td>\n",
       "      <td>2.0</td>\n",
       "      <td>10.0</td>\n",
       "    </tr>\n",
       "    <tr>\n",
       "      <th>2231</th>\n",
       "      <td>2019-03-21 16:11:00</td>\n",
       "      <td>2.0</td>\n",
       "      <td>10.0</td>\n",
       "    </tr>\n",
       "    <tr>\n",
       "      <th>2232</th>\n",
       "      <td>2019-03-21 16:12:00</td>\n",
       "      <td>2.0</td>\n",
       "      <td>10.0</td>\n",
       "    </tr>\n",
       "    <tr>\n",
       "      <th>2233</th>\n",
       "      <td>2019-03-21 16:13:00</td>\n",
       "      <td>2.0</td>\n",
       "      <td>10.0</td>\n",
       "    </tr>\n",
       "    <tr>\n",
       "      <th>2234</th>\n",
       "      <td>2019-03-21 16:14:00</td>\n",
       "      <td>2.0</td>\n",
       "      <td>10.0</td>\n",
       "    </tr>\n",
       "    <tr>\n",
       "      <th>2235</th>\n",
       "      <td>2019-03-21 16:15:00</td>\n",
       "      <td>2.0</td>\n",
       "      <td>10.0</td>\n",
       "    </tr>\n",
       "    <tr>\n",
       "      <th>2236</th>\n",
       "      <td>2019-03-21 16:16:00</td>\n",
       "      <td>2.0</td>\n",
       "      <td>10.0</td>\n",
       "    </tr>\n",
       "    <tr>\n",
       "      <th>2237</th>\n",
       "      <td>2019-03-21 16:17:00</td>\n",
       "      <td>2.0</td>\n",
       "      <td>10.0</td>\n",
       "    </tr>\n",
       "    <tr>\n",
       "      <th>2238</th>\n",
       "      <td>2019-03-21 16:18:00</td>\n",
       "      <td>2.0</td>\n",
       "      <td>10.0</td>\n",
       "    </tr>\n",
       "    <tr>\n",
       "      <th>2239</th>\n",
       "      <td>2019-03-21 16:19:00</td>\n",
       "      <td>2.0</td>\n",
       "      <td>10.0</td>\n",
       "    </tr>\n",
       "  </tbody>\n",
       "</table>\n",
       "</div>"
      ],
      "text/plain": [
       "               date_time   rr    hr\n",
       "2220 2019-03-21 16:00:00  2.0  10.0\n",
       "2221 2019-03-21 16:01:00  2.0  10.0\n",
       "2222 2019-03-21 16:02:00  2.0  10.0\n",
       "2223 2019-03-21 16:03:00  2.0  10.0\n",
       "2224 2019-03-21 16:04:00  2.0  10.0\n",
       "2225 2019-03-21 16:05:00  2.0  10.0\n",
       "2226 2019-03-21 16:06:00  2.0  10.0\n",
       "2227 2019-03-21 16:07:00  2.0  10.0\n",
       "2228 2019-03-21 16:08:00  2.0  10.0\n",
       "2229 2019-03-21 16:09:00  2.0  10.0\n",
       "2230 2019-03-21 16:10:00  2.0  10.0\n",
       "2231 2019-03-21 16:11:00  2.0  10.0\n",
       "2232 2019-03-21 16:12:00  2.0  10.0\n",
       "2233 2019-03-21 16:13:00  2.0  10.0\n",
       "2234 2019-03-21 16:14:00  2.0  10.0\n",
       "2235 2019-03-21 16:15:00  2.0  10.0\n",
       "2236 2019-03-21 16:16:00  2.0  10.0\n",
       "2237 2019-03-21 16:17:00  2.0  10.0\n",
       "2238 2019-03-21 16:18:00  2.0  10.0\n",
       "2239 2019-03-21 16:19:00  2.0  10.0"
      ]
     },
     "execution_count": 51,
     "metadata": {},
     "output_type": "execute_result"
    }
   ],
   "source": [
    "# Number of data points with respiration rate below 15\n",
    "df_1_plot[df_1_plot['rr']<15]"
   ]
  },
  {
   "cell_type": "markdown",
   "metadata": {},
   "source": [
    "### Mean Values"
   ]
  },
  {
   "cell_type": "code",
   "execution_count": 104,
   "metadata": {
    "ExecuteTime": {
     "end_time": "2022-07-18T18:02:47.121611Z",
     "start_time": "2022-07-18T18:02:47.085771Z"
    },
    "scrolled": true
   },
   "outputs": [
    {
     "data": {
      "text/html": [
       "<div>\n",
       "<style scoped>\n",
       "    .dataframe tbody tr th:only-of-type {\n",
       "        vertical-align: middle;\n",
       "    }\n",
       "\n",
       "    .dataframe tbody tr th {\n",
       "        vertical-align: top;\n",
       "    }\n",
       "\n",
       "    .dataframe thead th {\n",
       "        text-align: right;\n",
       "    }\n",
       "</style>\n",
       "<table border=\"1\" class=\"dataframe\">\n",
       "  <thead>\n",
       "    <tr style=\"text-align: right;\">\n",
       "      <th></th>\n",
       "      <th>count</th>\n",
       "      <th>mean</th>\n",
       "      <th>std</th>\n",
       "      <th>min</th>\n",
       "      <th>25%</th>\n",
       "      <th>50%</th>\n",
       "      <th>75%</th>\n",
       "      <th>max</th>\n",
       "    </tr>\n",
       "  </thead>\n",
       "  <tbody>\n",
       "    <tr>\n",
       "      <th>rr</th>\n",
       "      <td>40.0</td>\n",
       "      <td>9.876400</td>\n",
       "      <td>8.299745</td>\n",
       "      <td>2.0</td>\n",
       "      <td>2.0</td>\n",
       "      <td>8.985214</td>\n",
       "      <td>16.672665</td>\n",
       "      <td>29.936545</td>\n",
       "    </tr>\n",
       "    <tr>\n",
       "      <th>hr</th>\n",
       "      <td>38.0</td>\n",
       "      <td>39.596778</td>\n",
       "      <td>31.646968</td>\n",
       "      <td>10.0</td>\n",
       "      <td>10.0</td>\n",
       "      <td>10.000000</td>\n",
       "      <td>73.491815</td>\n",
       "      <td>74.944573</td>\n",
       "    </tr>\n",
       "  </tbody>\n",
       "</table>\n",
       "</div>"
      ],
      "text/plain": [
       "    count       mean        std   min   25%        50%        75%        max\n",
       "rr   40.0   9.876400   8.299745   2.0   2.0   8.985214  16.672665  29.936545\n",
       "hr   38.0  39.596778  31.646968  10.0  10.0  10.000000  73.491815  74.944573"
      ]
     },
     "execution_count": 104,
     "metadata": {},
     "output_type": "execute_result"
    }
   ],
   "source": [
    "df_1_plot.describe().transpose()"
   ]
  },
  {
   "cell_type": "markdown",
   "metadata": {},
   "source": [
    "### Summary:\n",
    "* I don't see any immediate danger episodes with this patient, however they may have an infection and should be seen by a doctor.\n",
    "    * There are low values for respiration rate, but they don't have accompanying low values or erratic values for heart rate.\n",
    "        * In the check-in indicator model, I would not want this patient to need an immediate check-in.\n",
    "    * Respiratory rates outside the norm are correlated with infections in elderly care settings.\n",
    "        * Lower respiratory and urinary tract infections are the most common.\n",
    "        * Lower rr in this case, more likely a urinary tract infection"
   ]
  },
  {
   "cell_type": "markdown",
   "metadata": {},
   "source": [
    "## Patient 2"
   ]
  },
  {
   "cell_type": "markdown",
   "metadata": {},
   "source": [
    "### Plot HR & RR for Patient 2"
   ]
  },
  {
   "cell_type": "markdown",
   "metadata": {},
   "source": [
    "### Plot 5 Days"
   ]
  },
  {
   "cell_type": "code",
   "execution_count": 169,
   "metadata": {
    "ExecuteTime": {
     "end_time": "2022-07-18T18:32:44.540928Z",
     "start_time": "2022-07-18T18:32:44.171824Z"
    }
   },
   "outputs": [
    {
     "data": {
      "image/png": "[encoded data removed]",
      "text/plain": [
       "<Figure size 1080x576 with 1 Axes>"
      ]
     },
     "metadata": {
      "needs_background": "light"
     },
     "output_type": "display_data"
    }
   ],
   "source": [
    "# Select Patient 2\n",
    "df_2 = df_present.loc[df_present['user_id'] == 2]\n",
    "\n",
    "# Convert timestampe to datetime\n",
    "df_2['date_time'] = pd.to_datetime(df_2.ts)\n",
    "\n",
    "# Copy DataFrame and Select Heart Rate column\n",
    "df_2_plot = df_2.copy()\n",
    "df_2_plot = df_2_plot.iloc[:, [5,1,2]]\n",
    "\n",
    "# Plot the timeseries \n",
    "pd.plotting.register_matplotlib_converters()\n",
    "ax = df_2_plot.set_index('date_time').plot(figsize=(15, 8), linewidth=1)\n",
    "ax.set_ylabel('Heart Rate')\n",
    "ax.set_xlabel('Date')\n",
    "#ax.set_xticks(range(488))\n",
    "\n",
    "plt.show()"
   ]
  },
  {
   "cell_type": "markdown",
   "metadata": {},
   "source": [
    "### Investigate Limits of HR and RR"
   ]
  },
  {
   "cell_type": "markdown",
   "metadata": {},
   "source": [
    "#### Heart Rate"
   ]
  },
  {
   "cell_type": "markdown",
   "metadata": {},
   "source": [
    "##### Below 50 for heart rate"
   ]
  },
  {
   "cell_type": "code",
   "execution_count": 170,
   "metadata": {
    "ExecuteTime": {
     "end_time": "2022-07-18T18:32:50.027790Z",
     "start_time": "2022-07-18T18:32:50.009589Z"
    }
   },
   "outputs": [
    {
     "data": {
      "text/plain": [
       "9"
      ]
     },
     "execution_count": 170,
     "metadata": {},
     "output_type": "execute_result"
    }
   ],
   "source": [
    "# Number of data points with heart rate below 50\n",
    "len(df_2_plot[df_2_plot['hr']<50])"
   ]
  },
  {
   "cell_type": "code",
   "execution_count": 171,
   "metadata": {
    "ExecuteTime": {
     "end_time": "2022-07-18T18:32:50.578113Z",
     "start_time": "2022-07-18T18:32:50.560978Z"
    }
   },
   "outputs": [
    {
     "data": {
      "text/html": [
       "<div>\n",
       "<style scoped>\n",
       "    .dataframe tbody tr th:only-of-type {\n",
       "        vertical-align: middle;\n",
       "    }\n",
       "\n",
       "    .dataframe tbody tr th {\n",
       "        vertical-align: top;\n",
       "    }\n",
       "\n",
       "    .dataframe thead th {\n",
       "        text-align: right;\n",
       "    }\n",
       "</style>\n",
       "<table border=\"1\" class=\"dataframe\">\n",
       "  <thead>\n",
       "    <tr style=\"text-align: right;\">\n",
       "      <th></th>\n",
       "      <th>date_time</th>\n",
       "      <th>rr</th>\n",
       "      <th>hr</th>\n",
       "    </tr>\n",
       "  </thead>\n",
       "  <tbody>\n",
       "    <tr>\n",
       "      <th>8534</th>\n",
       "      <td>2019-06-13 01:13:00</td>\n",
       "      <td>17.708333</td>\n",
       "      <td>49.986979</td>\n",
       "    </tr>\n",
       "    <tr>\n",
       "      <th>8682</th>\n",
       "      <td>2019-06-13 03:41:00</td>\n",
       "      <td>11.064680</td>\n",
       "      <td>49.963663</td>\n",
       "    </tr>\n",
       "    <tr>\n",
       "      <th>8922</th>\n",
       "      <td>2019-06-13 07:41:00</td>\n",
       "      <td>16.699219</td>\n",
       "      <td>49.511719</td>\n",
       "    </tr>\n",
       "    <tr>\n",
       "      <th>9202</th>\n",
       "      <td>2019-06-13 12:21:00</td>\n",
       "      <td>12.537592</td>\n",
       "      <td>49.777720</td>\n",
       "    </tr>\n",
       "    <tr>\n",
       "      <th>10128</th>\n",
       "      <td>2019-06-14 03:47:00</td>\n",
       "      <td>14.189984</td>\n",
       "      <td>48.988298</td>\n",
       "    </tr>\n",
       "    <tr>\n",
       "      <th>10644</th>\n",
       "      <td>2019-06-14 12:23:00</td>\n",
       "      <td>15.611259</td>\n",
       "      <td>49.218750</td>\n",
       "    </tr>\n",
       "    <tr>\n",
       "      <th>11988</th>\n",
       "      <td>2019-06-15 10:47:00</td>\n",
       "      <td>15.234375</td>\n",
       "      <td>48.539062</td>\n",
       "    </tr>\n",
       "    <tr>\n",
       "      <th>12040</th>\n",
       "      <td>2019-06-15 11:39:00</td>\n",
       "      <td>17.109375</td>\n",
       "      <td>48.097826</td>\n",
       "    </tr>\n",
       "    <tr>\n",
       "      <th>12135</th>\n",
       "      <td>2019-06-15 13:14:00</td>\n",
       "      <td>17.533053</td>\n",
       "      <td>48.932692</td>\n",
       "    </tr>\n",
       "  </tbody>\n",
       "</table>\n",
       "</div>"
      ],
      "text/plain": [
       "                date_time         rr         hr\n",
       "8534  2019-06-13 01:13:00  17.708333  49.986979\n",
       "8682  2019-06-13 03:41:00  11.064680  49.963663\n",
       "8922  2019-06-13 07:41:00  16.699219  49.511719\n",
       "9202  2019-06-13 12:21:00  12.537592  49.777720\n",
       "10128 2019-06-14 03:47:00  14.189984  48.988298\n",
       "10644 2019-06-14 12:23:00  15.611259  49.218750\n",
       "11988 2019-06-15 10:47:00  15.234375  48.539062\n",
       "12040 2019-06-15 11:39:00  17.109375  48.097826\n",
       "12135 2019-06-15 13:14:00  17.533053  48.932692"
      ]
     },
     "execution_count": 171,
     "metadata": {},
     "output_type": "execute_result"
    }
   ],
   "source": [
    "# Values of data points with heart rate below 50\n",
    "df_2_plot[df_2_plot['hr']<50]"
   ]
  },
  {
   "cell_type": "markdown",
   "metadata": {},
   "source": [
    "##### Above 120 for heart rate"
   ]
  },
  {
   "cell_type": "code",
   "execution_count": 172,
   "metadata": {
    "ExecuteTime": {
     "end_time": "2022-07-18T18:32:52.196481Z",
     "start_time": "2022-07-18T18:32:52.187197Z"
    }
   },
   "outputs": [
    {
     "data": {
      "text/plain": [
       "0"
      ]
     },
     "execution_count": 172,
     "metadata": {},
     "output_type": "execute_result"
    }
   ],
   "source": [
    "# Number of data points with heart rate above 120\n",
    "len(df_2_plot[df_2_plot['hr']>120])"
   ]
  },
  {
   "cell_type": "code",
   "execution_count": 173,
   "metadata": {
    "ExecuteTime": {
     "end_time": "2022-07-18T18:32:52.511936Z",
     "start_time": "2022-07-18T18:32:52.497285Z"
    },
    "scrolled": true
   },
   "outputs": [
    {
     "data": {
      "text/html": [
       "<div>\n",
       "<style scoped>\n",
       "    .dataframe tbody tr th:only-of-type {\n",
       "        vertical-align: middle;\n",
       "    }\n",
       "\n",
       "    .dataframe tbody tr th {\n",
       "        vertical-align: top;\n",
       "    }\n",
       "\n",
       "    .dataframe thead th {\n",
       "        text-align: right;\n",
       "    }\n",
       "</style>\n",
       "<table border=\"1\" class=\"dataframe\">\n",
       "  <thead>\n",
       "    <tr style=\"text-align: right;\">\n",
       "      <th></th>\n",
       "      <th>date_time</th>\n",
       "      <th>rr</th>\n",
       "      <th>hr</th>\n",
       "    </tr>\n",
       "  </thead>\n",
       "  <tbody>\n",
       "  </tbody>\n",
       "</table>\n",
       "</div>"
      ],
      "text/plain": [
       "Empty DataFrame\n",
       "Columns: [date_time, rr, hr]\n",
       "Index: []"
      ]
     },
     "execution_count": 173,
     "metadata": {},
     "output_type": "execute_result"
    }
   ],
   "source": [
    "# Values of data points with heart rate above 120\n",
    "df_2_plot[df_2_plot['hr']>120]"
   ]
  },
  {
   "cell_type": "markdown",
   "metadata": {},
   "source": [
    "#### Respiratory Rate"
   ]
  },
  {
   "cell_type": "markdown",
   "metadata": {},
   "source": [
    "##### Above 26 for respiratory rate"
   ]
  },
  {
   "cell_type": "code",
   "execution_count": 174,
   "metadata": {
    "ExecuteTime": {
     "end_time": "2022-07-18T18:32:53.626016Z",
     "start_time": "2022-07-18T18:32:53.599091Z"
    }
   },
   "outputs": [
    {
     "data": {
      "text/plain": [
       "55"
      ]
     },
     "execution_count": 174,
     "metadata": {},
     "output_type": "execute_result"
    }
   ],
   "source": [
    "# Number of data points with respiration rate above 26\n",
    "len(df_2_plot[df_2_plot['rr']>26])"
   ]
  },
  {
   "cell_type": "code",
   "execution_count": 175,
   "metadata": {
    "ExecuteTime": {
     "end_time": "2022-07-18T18:32:54.523689Z",
     "start_time": "2022-07-18T18:32:54.502533Z"
    },
    "scrolled": false
   },
   "outputs": [
    {
     "data": {
      "text/html": [
       "<div>\n",
       "<style scoped>\n",
       "    .dataframe tbody tr th:only-of-type {\n",
       "        vertical-align: middle;\n",
       "    }\n",
       "\n",
       "    .dataframe tbody tr th {\n",
       "        vertical-align: top;\n",
       "    }\n",
       "\n",
       "    .dataframe thead th {\n",
       "        text-align: right;\n",
       "    }\n",
       "</style>\n",
       "<table border=\"1\" class=\"dataframe\">\n",
       "  <thead>\n",
       "    <tr style=\"text-align: right;\">\n",
       "      <th></th>\n",
       "      <th>date_time</th>\n",
       "      <th>rr</th>\n",
       "      <th>hr</th>\n",
       "    </tr>\n",
       "  </thead>\n",
       "  <tbody>\n",
       "    <tr>\n",
       "      <th>7737</th>\n",
       "      <td>2019-06-12 11:56:00</td>\n",
       "      <td>31.640625</td>\n",
       "      <td>NaN</td>\n",
       "    </tr>\n",
       "    <tr>\n",
       "      <th>7738</th>\n",
       "      <td>2019-06-12 11:57:00</td>\n",
       "      <td>28.125000</td>\n",
       "      <td>96.093750</td>\n",
       "    </tr>\n",
       "    <tr>\n",
       "      <th>7791</th>\n",
       "      <td>2019-06-12 12:50:00</td>\n",
       "      <td>27.012804</td>\n",
       "      <td>NaN</td>\n",
       "    </tr>\n",
       "    <tr>\n",
       "      <th>7829</th>\n",
       "      <td>2019-06-12 13:28:00</td>\n",
       "      <td>26.116071</td>\n",
       "      <td>73.675272</td>\n",
       "    </tr>\n",
       "    <tr>\n",
       "      <th>7857</th>\n",
       "      <td>2019-06-12 13:56:00</td>\n",
       "      <td>26.293545</td>\n",
       "      <td>NaN</td>\n",
       "    </tr>\n",
       "    <tr>\n",
       "      <th>7972</th>\n",
       "      <td>2019-06-12 15:51:00</td>\n",
       "      <td>26.596467</td>\n",
       "      <td>NaN</td>\n",
       "    </tr>\n",
       "    <tr>\n",
       "      <th>7977</th>\n",
       "      <td>2019-06-12 15:56:00</td>\n",
       "      <td>27.139729</td>\n",
       "      <td>65.057723</td>\n",
       "    </tr>\n",
       "    <tr>\n",
       "      <th>7983</th>\n",
       "      <td>2019-06-12 16:02:00</td>\n",
       "      <td>28.092672</td>\n",
       "      <td>NaN</td>\n",
       "    </tr>\n",
       "    <tr>\n",
       "      <th>8173</th>\n",
       "      <td>2019-06-12 19:12:00</td>\n",
       "      <td>26.517998</td>\n",
       "      <td>62.030261</td>\n",
       "    </tr>\n",
       "    <tr>\n",
       "      <th>8899</th>\n",
       "      <td>2019-06-13 07:18:00</td>\n",
       "      <td>26.588542</td>\n",
       "      <td>86.901042</td>\n",
       "    </tr>\n",
       "    <tr>\n",
       "      <th>8921</th>\n",
       "      <td>2019-06-13 07:40:00</td>\n",
       "      <td>31.347656</td>\n",
       "      <td>NaN</td>\n",
       "    </tr>\n",
       "    <tr>\n",
       "      <th>9340</th>\n",
       "      <td>2019-06-13 14:39:00</td>\n",
       "      <td>26.076766</td>\n",
       "      <td>72.737772</td>\n",
       "    </tr>\n",
       "    <tr>\n",
       "      <th>9341</th>\n",
       "      <td>2019-06-13 14:40:00</td>\n",
       "      <td>26.974726</td>\n",
       "      <td>80.141129</td>\n",
       "    </tr>\n",
       "    <tr>\n",
       "      <th>9427</th>\n",
       "      <td>2019-06-13 16:06:00</td>\n",
       "      <td>28.365385</td>\n",
       "      <td>NaN</td>\n",
       "    </tr>\n",
       "    <tr>\n",
       "      <th>9428</th>\n",
       "      <td>2019-06-13 16:07:00</td>\n",
       "      <td>26.616115</td>\n",
       "      <td>NaN</td>\n",
       "    </tr>\n",
       "    <tr>\n",
       "      <th>9429</th>\n",
       "      <td>2019-06-13 16:08:00</td>\n",
       "      <td>29.451254</td>\n",
       "      <td>NaN</td>\n",
       "    </tr>\n",
       "    <tr>\n",
       "      <th>9430</th>\n",
       "      <td>2019-06-13 16:09:00</td>\n",
       "      <td>26.876281</td>\n",
       "      <td>NaN</td>\n",
       "    </tr>\n",
       "    <tr>\n",
       "      <th>9431</th>\n",
       "      <td>2019-06-13 16:10:00</td>\n",
       "      <td>26.638596</td>\n",
       "      <td>NaN</td>\n",
       "    </tr>\n",
       "    <tr>\n",
       "      <th>9432</th>\n",
       "      <td>2019-06-13 16:11:00</td>\n",
       "      <td>29.522039</td>\n",
       "      <td>NaN</td>\n",
       "    </tr>\n",
       "    <tr>\n",
       "      <th>9433</th>\n",
       "      <td>2019-06-13 16:12:00</td>\n",
       "      <td>27.761974</td>\n",
       "      <td>NaN</td>\n",
       "    </tr>\n",
       "    <tr>\n",
       "      <th>9434</th>\n",
       "      <td>2019-06-13 16:13:00</td>\n",
       "      <td>28.131696</td>\n",
       "      <td>NaN</td>\n",
       "    </tr>\n",
       "    <tr>\n",
       "      <th>9435</th>\n",
       "      <td>2019-06-13 16:14:00</td>\n",
       "      <td>26.699219</td>\n",
       "      <td>NaN</td>\n",
       "    </tr>\n",
       "    <tr>\n",
       "      <th>9520</th>\n",
       "      <td>2019-06-13 17:39:00</td>\n",
       "      <td>29.926395</td>\n",
       "      <td>67.499032</td>\n",
       "    </tr>\n",
       "    <tr>\n",
       "      <th>9521</th>\n",
       "      <td>2019-06-13 17:40:00</td>\n",
       "      <td>27.836045</td>\n",
       "      <td>NaN</td>\n",
       "    </tr>\n",
       "    <tr>\n",
       "      <th>9524</th>\n",
       "      <td>2019-06-13 17:43:00</td>\n",
       "      <td>29.741891</td>\n",
       "      <td>67.192445</td>\n",
       "    </tr>\n",
       "    <tr>\n",
       "      <th>9589</th>\n",
       "      <td>2019-06-13 18:48:00</td>\n",
       "      <td>26.099406</td>\n",
       "      <td>76.611991</td>\n",
       "    </tr>\n",
       "    <tr>\n",
       "      <th>9598</th>\n",
       "      <td>2019-06-13 18:57:00</td>\n",
       "      <td>27.586036</td>\n",
       "      <td>76.132318</td>\n",
       "    </tr>\n",
       "    <tr>\n",
       "      <th>9781</th>\n",
       "      <td>2019-06-13 22:00:00</td>\n",
       "      <td>26.596967</td>\n",
       "      <td>86.362592</td>\n",
       "    </tr>\n",
       "    <tr>\n",
       "      <th>9784</th>\n",
       "      <td>2019-06-13 22:03:00</td>\n",
       "      <td>30.859375</td>\n",
       "      <td>NaN</td>\n",
       "    </tr>\n",
       "    <tr>\n",
       "      <th>9930</th>\n",
       "      <td>2019-06-14 00:29:00</td>\n",
       "      <td>26.623180</td>\n",
       "      <td>NaN</td>\n",
       "    </tr>\n",
       "    <tr>\n",
       "      <th>9994</th>\n",
       "      <td>2019-06-14 01:33:00</td>\n",
       "      <td>28.865132</td>\n",
       "      <td>NaN</td>\n",
       "    </tr>\n",
       "    <tr>\n",
       "      <th>10672</th>\n",
       "      <td>2019-06-14 12:51:00</td>\n",
       "      <td>26.965461</td>\n",
       "      <td>NaN</td>\n",
       "    </tr>\n",
       "    <tr>\n",
       "      <th>10798</th>\n",
       "      <td>2019-06-14 14:57:00</td>\n",
       "      <td>28.431408</td>\n",
       "      <td>72.064937</td>\n",
       "    </tr>\n",
       "    <tr>\n",
       "      <th>10800</th>\n",
       "      <td>2019-06-14 14:59:00</td>\n",
       "      <td>29.338480</td>\n",
       "      <td>NaN</td>\n",
       "    </tr>\n",
       "    <tr>\n",
       "      <th>10827</th>\n",
       "      <td>2019-06-14 15:26:00</td>\n",
       "      <td>26.320423</td>\n",
       "      <td>NaN</td>\n",
       "    </tr>\n",
       "    <tr>\n",
       "      <th>10861</th>\n",
       "      <td>2019-06-14 16:00:00</td>\n",
       "      <td>26.364756</td>\n",
       "      <td>NaN</td>\n",
       "    </tr>\n",
       "    <tr>\n",
       "      <th>11148</th>\n",
       "      <td>2019-06-14 20:47:00</td>\n",
       "      <td>26.994004</td>\n",
       "      <td>NaN</td>\n",
       "    </tr>\n",
       "    <tr>\n",
       "      <th>11151</th>\n",
       "      <td>2019-06-14 20:50:00</td>\n",
       "      <td>26.217831</td>\n",
       "      <td>70.335478</td>\n",
       "    </tr>\n",
       "    <tr>\n",
       "      <th>11604</th>\n",
       "      <td>2019-06-15 04:23:00</td>\n",
       "      <td>28.332412</td>\n",
       "      <td>NaN</td>\n",
       "    </tr>\n",
       "    <tr>\n",
       "      <th>11845</th>\n",
       "      <td>2019-06-15 08:24:00</td>\n",
       "      <td>27.893519</td>\n",
       "      <td>54.947917</td>\n",
       "    </tr>\n",
       "    <tr>\n",
       "      <th>11952</th>\n",
       "      <td>2019-06-15 10:11:00</td>\n",
       "      <td>26.085938</td>\n",
       "      <td>73.037109</td>\n",
       "    </tr>\n",
       "    <tr>\n",
       "      <th>12602</th>\n",
       "      <td>2019-06-15 21:01:00</td>\n",
       "      <td>26.164900</td>\n",
       "      <td>NaN</td>\n",
       "    </tr>\n",
       "    <tr>\n",
       "      <th>12652</th>\n",
       "      <td>2019-06-15 21:51:00</td>\n",
       "      <td>26.412671</td>\n",
       "      <td>NaN</td>\n",
       "    </tr>\n",
       "    <tr>\n",
       "      <th>12892</th>\n",
       "      <td>2019-06-16 01:51:00</td>\n",
       "      <td>27.936308</td>\n",
       "      <td>59.252251</td>\n",
       "    </tr>\n",
       "    <tr>\n",
       "      <th>12900</th>\n",
       "      <td>2019-06-16 01:59:00</td>\n",
       "      <td>30.781250</td>\n",
       "      <td>87.890625</td>\n",
       "    </tr>\n",
       "    <tr>\n",
       "      <th>13040</th>\n",
       "      <td>2019-06-16 04:19:00</td>\n",
       "      <td>27.444556</td>\n",
       "      <td>90.196573</td>\n",
       "    </tr>\n",
       "    <tr>\n",
       "      <th>13067</th>\n",
       "      <td>2019-06-16 04:46:00</td>\n",
       "      <td>30.379747</td>\n",
       "      <td>61.179391</td>\n",
       "    </tr>\n",
       "    <tr>\n",
       "      <th>13474</th>\n",
       "      <td>2019-06-16 11:33:00</td>\n",
       "      <td>26.280382</td>\n",
       "      <td>92.773438</td>\n",
       "    </tr>\n",
       "    <tr>\n",
       "      <th>13547</th>\n",
       "      <td>2019-06-16 12:46:00</td>\n",
       "      <td>26.792661</td>\n",
       "      <td>73.546097</td>\n",
       "    </tr>\n",
       "    <tr>\n",
       "      <th>13552</th>\n",
       "      <td>2019-06-16 12:51:00</td>\n",
       "      <td>26.422991</td>\n",
       "      <td>72.228423</td>\n",
       "    </tr>\n",
       "    <tr>\n",
       "      <th>13557</th>\n",
       "      <td>2019-06-16 12:56:00</td>\n",
       "      <td>26.064680</td>\n",
       "      <td>75.332485</td>\n",
       "    </tr>\n",
       "    <tr>\n",
       "      <th>13743</th>\n",
       "      <td>2019-06-16 16:02:00</td>\n",
       "      <td>27.790179</td>\n",
       "      <td>64.022640</td>\n",
       "    </tr>\n",
       "    <tr>\n",
       "      <th>13893</th>\n",
       "      <td>2019-06-16 18:32:00</td>\n",
       "      <td>26.804722</td>\n",
       "      <td>NaN</td>\n",
       "    </tr>\n",
       "    <tr>\n",
       "      <th>13905</th>\n",
       "      <td>2019-06-16 18:44:00</td>\n",
       "      <td>26.000237</td>\n",
       "      <td>72.928504</td>\n",
       "    </tr>\n",
       "    <tr>\n",
       "      <th>14128</th>\n",
       "      <td>2019-06-16 22:27:00</td>\n",
       "      <td>26.226337</td>\n",
       "      <td>NaN</td>\n",
       "    </tr>\n",
       "  </tbody>\n",
       "</table>\n",
       "</div>"
      ],
      "text/plain": [
       "                date_time         rr         hr\n",
       "7737  2019-06-12 11:56:00  31.640625        NaN\n",
       "7738  2019-06-12 11:57:00  28.125000  96.093750\n",
       "7791  2019-06-12 12:50:00  27.012804        NaN\n",
       "7829  2019-06-12 13:28:00  26.116071  73.675272\n",
       "7857  2019-06-12 13:56:00  26.293545        NaN\n",
       "7972  2019-06-12 15:51:00  26.596467        NaN\n",
       "7977  2019-06-12 15:56:00  27.139729  65.057723\n",
       "7983  2019-06-12 16:02:00  28.092672        NaN\n",
       "8173  2019-06-12 19:12:00  26.517998  62.030261\n",
       "8899  2019-06-13 07:18:00  26.588542  86.901042\n",
       "8921  2019-06-13 07:40:00  31.347656        NaN\n",
       "9340  2019-06-13 14:39:00  26.076766  72.737772\n",
       "9341  2019-06-13 14:40:00  26.974726  80.141129\n",
       "9427  2019-06-13 16:06:00  28.365385        NaN\n",
       "9428  2019-06-13 16:07:00  26.616115        NaN\n",
       "9429  2019-06-13 16:08:00  29.451254        NaN\n",
       "9430  2019-06-13 16:09:00  26.876281        NaN\n",
       "9431  2019-06-13 16:10:00  26.638596        NaN\n",
       "9432  2019-06-13 16:11:00  29.522039        NaN\n",
       "9433  2019-06-13 16:12:00  27.761974        NaN\n",
       "9434  2019-06-13 16:13:00  28.131696        NaN\n",
       "9435  2019-06-13 16:14:00  26.699219        NaN\n",
       "9520  2019-06-13 17:39:00  29.926395  67.499032\n",
       "9521  2019-06-13 17:40:00  27.836045        NaN\n",
       "9524  2019-06-13 17:43:00  29.741891  67.192445\n",
       "9589  2019-06-13 18:48:00  26.099406  76.611991\n",
       "9598  2019-06-13 18:57:00  27.586036  76.132318\n",
       "9781  2019-06-13 22:00:00  26.596967  86.362592\n",
       "9784  2019-06-13 22:03:00  30.859375        NaN\n",
       "9930  2019-06-14 00:29:00  26.623180        NaN\n",
       "9994  2019-06-14 01:33:00  28.865132        NaN\n",
       "10672 2019-06-14 12:51:00  26.965461        NaN\n",
       "10798 2019-06-14 14:57:00  28.431408  72.064937\n",
       "10800 2019-06-14 14:59:00  29.338480        NaN\n",
       "10827 2019-06-14 15:26:00  26.320423        NaN\n",
       "10861 2019-06-14 16:00:00  26.364756        NaN\n",
       "11148 2019-06-14 20:47:00  26.994004        NaN\n",
       "11151 2019-06-14 20:50:00  26.217831  70.335478\n",
       "11604 2019-06-15 04:23:00  28.332412        NaN\n",
       "11845 2019-06-15 08:24:00  27.893519  54.947917\n",
       "11952 2019-06-15 10:11:00  26.085938  73.037109\n",
       "12602 2019-06-15 21:01:00  26.164900        NaN\n",
       "12652 2019-06-15 21:51:00  26.412671        NaN\n",
       "12892 2019-06-16 01:51:00  27.936308  59.252251\n",
       "12900 2019-06-16 01:59:00  30.781250  87.890625\n",
       "13040 2019-06-16 04:19:00  27.444556  90.196573\n",
       "13067 2019-06-16 04:46:00  30.379747  61.179391\n",
       "13474 2019-06-16 11:33:00  26.280382  92.773438\n",
       "13547 2019-06-16 12:46:00  26.792661  73.546097\n",
       "13552 2019-06-16 12:51:00  26.422991  72.228423\n",
       "13557 2019-06-16 12:56:00  26.064680  75.332485\n",
       "13743 2019-06-16 16:02:00  27.790179  64.022640\n",
       "13893 2019-06-16 18:32:00  26.804722        NaN\n",
       "13905 2019-06-16 18:44:00  26.000237  72.928504\n",
       "14128 2019-06-16 22:27:00  26.226337        NaN"
      ]
     },
     "execution_count": 175,
     "metadata": {},
     "output_type": "execute_result"
    }
   ],
   "source": [
    "# Values of data points with respiration rate above 26\n",
    "df_2_plot[df_2_plot['rr']>26]"
   ]
  },
  {
   "cell_type": "markdown",
   "metadata": {},
   "source": [
    "##### Below 15 for respiratory rate"
   ]
  },
  {
   "cell_type": "code",
   "execution_count": 176,
   "metadata": {
    "ExecuteTime": {
     "end_time": "2022-07-18T18:32:55.983701Z",
     "start_time": "2022-07-18T18:32:55.972658Z"
    }
   },
   "outputs": [
    {
     "data": {
      "text/plain": [
       "1341"
      ]
     },
     "execution_count": 176,
     "metadata": {},
     "output_type": "execute_result"
    }
   ],
   "source": [
    "# Number of data points with respiration rate below 15\n",
    "len(df_2_plot[df_2_plot['rr']<15])"
   ]
  },
  {
   "cell_type": "code",
   "execution_count": 121,
   "metadata": {
    "ExecuteTime": {
     "end_time": "2022-07-18T18:10:34.638218Z",
     "start_time": "2022-07-18T18:10:34.618544Z"
    },
    "scrolled": false
   },
   "outputs": [
    {
     "data": {
      "text/html": [
       "<div>\n",
       "<style scoped>\n",
       "    .dataframe tbody tr th:only-of-type {\n",
       "        vertical-align: middle;\n",
       "    }\n",
       "\n",
       "    .dataframe tbody tr th {\n",
       "        vertical-align: top;\n",
       "    }\n",
       "\n",
       "    .dataframe thead th {\n",
       "        text-align: right;\n",
       "    }\n",
       "</style>\n",
       "<table border=\"1\" class=\"dataframe\">\n",
       "  <thead>\n",
       "    <tr style=\"text-align: right;\">\n",
       "      <th></th>\n",
       "      <th>date_time</th>\n",
       "      <th>rr</th>\n",
       "      <th>hr</th>\n",
       "    </tr>\n",
       "  </thead>\n",
       "  <tbody>\n",
       "    <tr>\n",
       "      <th>7263</th>\n",
       "      <td>2019-06-12 04:02:00</td>\n",
       "      <td>5.881211</td>\n",
       "      <td>92.032220</td>\n",
       "    </tr>\n",
       "    <tr>\n",
       "      <th>7265</th>\n",
       "      <td>2019-06-12 04:04:00</td>\n",
       "      <td>0.480553</td>\n",
       "      <td>NaN</td>\n",
       "    </tr>\n",
       "    <tr>\n",
       "      <th>7266</th>\n",
       "      <td>2019-06-12 04:05:00</td>\n",
       "      <td>2.680352</td>\n",
       "      <td>90.483710</td>\n",
       "    </tr>\n",
       "    <tr>\n",
       "      <th>7267</th>\n",
       "      <td>2019-06-12 04:06:00</td>\n",
       "      <td>7.099515</td>\n",
       "      <td>73.338896</td>\n",
       "    </tr>\n",
       "    <tr>\n",
       "      <th>7298</th>\n",
       "      <td>2019-06-12 04:37:00</td>\n",
       "      <td>3.572329</td>\n",
       "      <td>75.274068</td>\n",
       "    </tr>\n",
       "    <tr>\n",
       "      <th>...</th>\n",
       "      <td>...</td>\n",
       "      <td>...</td>\n",
       "      <td>...</td>\n",
       "    </tr>\n",
       "    <tr>\n",
       "      <th>14355</th>\n",
       "      <td>2019-06-17 02:14:00</td>\n",
       "      <td>2.255307</td>\n",
       "      <td>96.757075</td>\n",
       "    </tr>\n",
       "    <tr>\n",
       "      <th>14356</th>\n",
       "      <td>2019-06-17 02:15:00</td>\n",
       "      <td>8.190789</td>\n",
       "      <td>86.928454</td>\n",
       "    </tr>\n",
       "    <tr>\n",
       "      <th>14359</th>\n",
       "      <td>2019-06-17 02:18:00</td>\n",
       "      <td>3.955078</td>\n",
       "      <td>NaN</td>\n",
       "    </tr>\n",
       "    <tr>\n",
       "      <th>14360</th>\n",
       "      <td>2019-06-17 02:19:00</td>\n",
       "      <td>12.834285</td>\n",
       "      <td>NaN</td>\n",
       "    </tr>\n",
       "    <tr>\n",
       "      <th>14376</th>\n",
       "      <td>2019-06-17 02:35:00</td>\n",
       "      <td>14.920775</td>\n",
       "      <td>80.166153</td>\n",
       "    </tr>\n",
       "  </tbody>\n",
       "</table>\n",
       "<p>1341 rows × 3 columns</p>\n",
       "</div>"
      ],
      "text/plain": [
       "                date_time         rr         hr\n",
       "7263  2019-06-12 04:02:00   5.881211  92.032220\n",
       "7265  2019-06-12 04:04:00   0.480553        NaN\n",
       "7266  2019-06-12 04:05:00   2.680352  90.483710\n",
       "7267  2019-06-12 04:06:00   7.099515  73.338896\n",
       "7298  2019-06-12 04:37:00   3.572329  75.274068\n",
       "...                   ...        ...        ...\n",
       "14355 2019-06-17 02:14:00   2.255307  96.757075\n",
       "14356 2019-06-17 02:15:00   8.190789  86.928454\n",
       "14359 2019-06-17 02:18:00   3.955078        NaN\n",
       "14360 2019-06-17 02:19:00  12.834285        NaN\n",
       "14376 2019-06-17 02:35:00  14.920775  80.166153\n",
       "\n",
       "[1341 rows x 3 columns]"
      ]
     },
     "execution_count": 121,
     "metadata": {},
     "output_type": "execute_result"
    }
   ],
   "source": [
    "# Number of data points with respiration rate below 15\n",
    "df_2_plot[df_2_plot['rr']<15]"
   ]
  },
  {
   "cell_type": "markdown",
   "metadata": {},
   "source": [
    "### Mean Values"
   ]
  },
  {
   "cell_type": "code",
   "execution_count": 122,
   "metadata": {
    "ExecuteTime": {
     "end_time": "2022-07-18T18:10:37.215993Z",
     "start_time": "2022-07-18T18:10:37.173188Z"
    },
    "scrolled": true
   },
   "outputs": [
    {
     "data": {
      "text/html": [
       "<div>\n",
       "<style scoped>\n",
       "    .dataframe tbody tr th:only-of-type {\n",
       "        vertical-align: middle;\n",
       "    }\n",
       "\n",
       "    .dataframe tbody tr th {\n",
       "        vertical-align: top;\n",
       "    }\n",
       "\n",
       "    .dataframe thead th {\n",
       "        text-align: right;\n",
       "    }\n",
       "</style>\n",
       "<table border=\"1\" class=\"dataframe\">\n",
       "  <thead>\n",
       "    <tr style=\"text-align: right;\">\n",
       "      <th></th>\n",
       "      <th>count</th>\n",
       "      <th>mean</th>\n",
       "      <th>std</th>\n",
       "      <th>min</th>\n",
       "      <th>25%</th>\n",
       "      <th>50%</th>\n",
       "      <th>75%</th>\n",
       "      <th>max</th>\n",
       "    </tr>\n",
       "  </thead>\n",
       "  <tbody>\n",
       "    <tr>\n",
       "      <th>rr</th>\n",
       "      <td>3891.0</td>\n",
       "      <td>16.146359</td>\n",
       "      <td>4.682805</td>\n",
       "      <td>1.033402e-39</td>\n",
       "      <td>14.319313</td>\n",
       "      <td>16.171875</td>\n",
       "      <td>18.865060</td>\n",
       "      <td>31.640625</td>\n",
       "    </tr>\n",
       "    <tr>\n",
       "      <th>hr</th>\n",
       "      <td>2372.0</td>\n",
       "      <td>73.529097</td>\n",
       "      <td>11.253324</td>\n",
       "      <td>4.809783e+01</td>\n",
       "      <td>65.126376</td>\n",
       "      <td>71.904881</td>\n",
       "      <td>81.358097</td>\n",
       "      <td>99.609375</td>\n",
       "    </tr>\n",
       "  </tbody>\n",
       "</table>\n",
       "</div>"
      ],
      "text/plain": [
       "     count       mean        std           min        25%        50%  \\\n",
       "rr  3891.0  16.146359   4.682805  1.033402e-39  14.319313  16.171875   \n",
       "hr  2372.0  73.529097  11.253324  4.809783e+01  65.126376  71.904881   \n",
       "\n",
       "          75%        max  \n",
       "rr  18.865060  31.640625  \n",
       "hr  81.358097  99.609375  "
      ]
     },
     "execution_count": 122,
     "metadata": {},
     "output_type": "execute_result"
    }
   ],
   "source": [
    "df_2_plot.describe().transpose()"
   ]
  },
  {
   "cell_type": "markdown",
   "metadata": {},
   "source": [
    "### Summary:\n",
    "* I don't see any immediate danger episodes with this patient, however they may have an infection and should be seen by a doctor.\n",
    "    * There are low values for respiration rate, but they don't have accompanying low values or erratic values for heart rate.\n",
    "        * In the check-in indicator model, I would not want this patient to need an immediate check-in.\n",
    "    * Respiratory rates outside the norm are correlated with infections in elderly care settings.\n",
    "        * Lower respiratory and urinary tract infections are the most common.\n",
    "        * Lower rr in this case, more likely a urinary tract infection"
   ]
  },
  {
   "cell_type": "markdown",
   "metadata": {},
   "source": [
    "## Patient 3"
   ]
  },
  {
   "cell_type": "markdown",
   "metadata": {},
   "source": [
    "### Plot HR & RR for Patient 3"
   ]
  },
  {
   "cell_type": "markdown",
   "metadata": {},
   "source": [
    "#### Plot 5 Days"
   ]
  },
  {
   "cell_type": "code",
   "execution_count": 177,
   "metadata": {
    "ExecuteTime": {
     "end_time": "2022-07-18T18:33:02.812332Z",
     "start_time": "2022-07-18T18:33:02.125949Z"
    }
   },
   "outputs": [
    {
     "data": {
      "image/png": "[encoded data removed]",
      "text/plain": [
       "<Figure size 1080x576 with 1 Axes>"
      ]
     },
     "metadata": {
      "needs_background": "light"
     },
     "output_type": "display_data"
    }
   ],
   "source": [
    "# Select Patient 2\n",
    "df_3 = df_present.loc[df_present['user_id'] == 3]\n",
    "\n",
    "# Convert timestampe to datetime\n",
    "df_3['date_time'] = pd.to_datetime(df_3.ts)\n",
    "\n",
    "# Copy DataFrame and Select Heart Rate column\n",
    "df_3_plot = df_3.copy()\n",
    "df_3_plot = df_3_plot.iloc[:, [5,1,2]]\n",
    "\n",
    "# Plot the timeseries \n",
    "pd.plotting.register_matplotlib_converters()\n",
    "ax = df_3_plot.set_index('date_time').plot(figsize=(15, 8), linewidth=1)\n",
    "ax.set_ylabel('Heart Rate')\n",
    "ax.set_xlabel('Date')\n",
    "#ax.set_xticks(range(488))\n",
    "\n",
    "plt.show()"
   ]
  },
  {
   "cell_type": "markdown",
   "metadata": {},
   "source": [
    "### Investigate Limits of HR and RR"
   ]
  },
  {
   "cell_type": "markdown",
   "metadata": {},
   "source": [
    "#### Heart Rate"
   ]
  },
  {
   "cell_type": "markdown",
   "metadata": {},
   "source": [
    "##### Below 50 for heart rate"
   ]
  },
  {
   "cell_type": "code",
   "execution_count": 125,
   "metadata": {
    "ExecuteTime": {
     "end_time": "2022-07-18T18:11:38.541760Z",
     "start_time": "2022-07-18T18:11:38.530740Z"
    }
   },
   "outputs": [
    {
     "data": {
      "text/plain": [
       "4"
      ]
     },
     "execution_count": 125,
     "metadata": {},
     "output_type": "execute_result"
    }
   ],
   "source": [
    "# Number of data points with heart rate below 50\n",
    "len(df_3_plot[df_3_plot['hr']<50])"
   ]
  },
  {
   "cell_type": "code",
   "execution_count": 126,
   "metadata": {
    "ExecuteTime": {
     "end_time": "2022-07-18T18:11:39.073419Z",
     "start_time": "2022-07-18T18:11:39.055417Z"
    }
   },
   "outputs": [
    {
     "data": {
      "text/html": [
       "<div>\n",
       "<style scoped>\n",
       "    .dataframe tbody tr th:only-of-type {\n",
       "        vertical-align: middle;\n",
       "    }\n",
       "\n",
       "    .dataframe tbody tr th {\n",
       "        vertical-align: top;\n",
       "    }\n",
       "\n",
       "    .dataframe thead th {\n",
       "        text-align: right;\n",
       "    }\n",
       "</style>\n",
       "<table border=\"1\" class=\"dataframe\">\n",
       "  <thead>\n",
       "    <tr style=\"text-align: right;\">\n",
       "      <th></th>\n",
       "      <th>date_time</th>\n",
       "      <th>rr</th>\n",
       "      <th>hr</th>\n",
       "    </tr>\n",
       "  </thead>\n",
       "  <tbody>\n",
       "    <tr>\n",
       "      <th>15287</th>\n",
       "      <td>2019-06-27 17:45:00</td>\n",
       "      <td>12.826413</td>\n",
       "      <td>40.614298</td>\n",
       "    </tr>\n",
       "    <tr>\n",
       "      <th>15406</th>\n",
       "      <td>2019-06-27 19:44:00</td>\n",
       "      <td>13.968499</td>\n",
       "      <td>49.268884</td>\n",
       "    </tr>\n",
       "    <tr>\n",
       "      <th>16208</th>\n",
       "      <td>2019-06-28 09:52:00</td>\n",
       "      <td>15.958180</td>\n",
       "      <td>48.639706</td>\n",
       "    </tr>\n",
       "    <tr>\n",
       "      <th>18893</th>\n",
       "      <td>2019-06-30 06:36:00</td>\n",
       "      <td>10.753676</td>\n",
       "      <td>42.539828</td>\n",
       "    </tr>\n",
       "  </tbody>\n",
       "</table>\n",
       "</div>"
      ],
      "text/plain": [
       "                date_time         rr         hr\n",
       "15287 2019-06-27 17:45:00  12.826413  40.614298\n",
       "15406 2019-06-27 19:44:00  13.968499  49.268884\n",
       "16208 2019-06-28 09:52:00  15.958180  48.639706\n",
       "18893 2019-06-30 06:36:00  10.753676  42.539828"
      ]
     },
     "execution_count": 126,
     "metadata": {},
     "output_type": "execute_result"
    }
   ],
   "source": [
    "# Values of data points with heart rate below 50\n",
    "df_3_plot[df_3_plot['hr']<50]"
   ]
  },
  {
   "cell_type": "markdown",
   "metadata": {},
   "source": [
    "##### Above 120 for heart rate"
   ]
  },
  {
   "cell_type": "code",
   "execution_count": 127,
   "metadata": {
    "ExecuteTime": {
     "end_time": "2022-07-18T18:11:39.728024Z",
     "start_time": "2022-07-18T18:11:39.719099Z"
    }
   },
   "outputs": [
    {
     "data": {
      "text/plain": [
       "0"
      ]
     },
     "execution_count": 127,
     "metadata": {},
     "output_type": "execute_result"
    }
   ],
   "source": [
    "# Number of data points with heart rate above 120\n",
    "len(df_3_plot[df_3_plot['hr']>120])"
   ]
  },
  {
   "cell_type": "code",
   "execution_count": 128,
   "metadata": {
    "ExecuteTime": {
     "end_time": "2022-07-18T18:11:40.174011Z",
     "start_time": "2022-07-18T18:11:40.161258Z"
    },
    "scrolled": true
   },
   "outputs": [
    {
     "data": {
      "text/html": [
       "<div>\n",
       "<style scoped>\n",
       "    .dataframe tbody tr th:only-of-type {\n",
       "        vertical-align: middle;\n",
       "    }\n",
       "\n",
       "    .dataframe tbody tr th {\n",
       "        vertical-align: top;\n",
       "    }\n",
       "\n",
       "    .dataframe thead th {\n",
       "        text-align: right;\n",
       "    }\n",
       "</style>\n",
       "<table border=\"1\" class=\"dataframe\">\n",
       "  <thead>\n",
       "    <tr style=\"text-align: right;\">\n",
       "      <th></th>\n",
       "      <th>date_time</th>\n",
       "      <th>rr</th>\n",
       "      <th>hr</th>\n",
       "    </tr>\n",
       "  </thead>\n",
       "  <tbody>\n",
       "  </tbody>\n",
       "</table>\n",
       "</div>"
      ],
      "text/plain": [
       "Empty DataFrame\n",
       "Columns: [date_time, rr, hr]\n",
       "Index: []"
      ]
     },
     "execution_count": 128,
     "metadata": {},
     "output_type": "execute_result"
    }
   ],
   "source": [
    "# Values of data points with heart rate above 120\n",
    "df_3_plot[df_3_plot['hr']>120]"
   ]
  },
  {
   "cell_type": "markdown",
   "metadata": {},
   "source": [
    "#### Respiratory Rate"
   ]
  },
  {
   "cell_type": "markdown",
   "metadata": {},
   "source": [
    "##### Above 26 for respiratory rate"
   ]
  },
  {
   "cell_type": "code",
   "execution_count": 129,
   "metadata": {
    "ExecuteTime": {
     "end_time": "2022-07-18T18:11:41.259931Z",
     "start_time": "2022-07-18T18:11:41.250482Z"
    }
   },
   "outputs": [
    {
     "data": {
      "text/plain": [
       "87"
      ]
     },
     "execution_count": 129,
     "metadata": {},
     "output_type": "execute_result"
    }
   ],
   "source": [
    "# Number of data points with respiration rate above 26\n",
    "len(df_3_plot[df_3_plot['rr']>26])"
   ]
  },
  {
   "cell_type": "code",
   "execution_count": 130,
   "metadata": {
    "ExecuteTime": {
     "end_time": "2022-07-18T18:11:42.025119Z",
     "start_time": "2022-07-18T18:11:42.006015Z"
    },
    "scrolled": false
   },
   "outputs": [
    {
     "data": {
      "text/html": [
       "<div>\n",
       "<style scoped>\n",
       "    .dataframe tbody tr th:only-of-type {\n",
       "        vertical-align: middle;\n",
       "    }\n",
       "\n",
       "    .dataframe tbody tr th {\n",
       "        vertical-align: top;\n",
       "    }\n",
       "\n",
       "    .dataframe thead th {\n",
       "        text-align: right;\n",
       "    }\n",
       "</style>\n",
       "<table border=\"1\" class=\"dataframe\">\n",
       "  <thead>\n",
       "    <tr style=\"text-align: right;\">\n",
       "      <th></th>\n",
       "      <th>date_time</th>\n",
       "      <th>rr</th>\n",
       "      <th>hr</th>\n",
       "    </tr>\n",
       "  </thead>\n",
       "  <tbody>\n",
       "    <tr>\n",
       "      <th>14816</th>\n",
       "      <td>2019-06-27 09:54:00</td>\n",
       "      <td>28.375303</td>\n",
       "      <td>NaN</td>\n",
       "    </tr>\n",
       "    <tr>\n",
       "      <th>14823</th>\n",
       "      <td>2019-06-27 10:01:00</td>\n",
       "      <td>29.018358</td>\n",
       "      <td>NaN</td>\n",
       "    </tr>\n",
       "    <tr>\n",
       "      <th>14824</th>\n",
       "      <td>2019-06-27 10:02:00</td>\n",
       "      <td>28.412829</td>\n",
       "      <td>71.792763</td>\n",
       "    </tr>\n",
       "    <tr>\n",
       "      <th>14827</th>\n",
       "      <td>2019-06-27 10:05:00</td>\n",
       "      <td>26.445312</td>\n",
       "      <td>NaN</td>\n",
       "    </tr>\n",
       "    <tr>\n",
       "      <th>14840</th>\n",
       "      <td>2019-06-27 10:18:00</td>\n",
       "      <td>32.226562</td>\n",
       "      <td>62.695312</td>\n",
       "    </tr>\n",
       "    <tr>\n",
       "      <th>...</th>\n",
       "      <td>...</td>\n",
       "      <td>...</td>\n",
       "      <td>...</td>\n",
       "    </tr>\n",
       "    <tr>\n",
       "      <th>21102</th>\n",
       "      <td>2019-07-01 19:58:00</td>\n",
       "      <td>26.109577</td>\n",
       "      <td>NaN</td>\n",
       "    </tr>\n",
       "    <tr>\n",
       "      <th>21112</th>\n",
       "      <td>2019-07-01 20:08:00</td>\n",
       "      <td>27.289359</td>\n",
       "      <td>65.842563</td>\n",
       "    </tr>\n",
       "    <tr>\n",
       "      <th>21113</th>\n",
       "      <td>2019-07-01 20:09:00</td>\n",
       "      <td>27.541494</td>\n",
       "      <td>65.697938</td>\n",
       "    </tr>\n",
       "    <tr>\n",
       "      <th>21114</th>\n",
       "      <td>2019-07-01 20:10:00</td>\n",
       "      <td>28.120097</td>\n",
       "      <td>67.032231</td>\n",
       "    </tr>\n",
       "    <tr>\n",
       "      <th>21115</th>\n",
       "      <td>2019-07-01 20:11:00</td>\n",
       "      <td>27.379261</td>\n",
       "      <td>67.020089</td>\n",
       "    </tr>\n",
       "  </tbody>\n",
       "</table>\n",
       "<p>87 rows × 3 columns</p>\n",
       "</div>"
      ],
      "text/plain": [
       "                date_time         rr         hr\n",
       "14816 2019-06-27 09:54:00  28.375303        NaN\n",
       "14823 2019-06-27 10:01:00  29.018358        NaN\n",
       "14824 2019-06-27 10:02:00  28.412829  71.792763\n",
       "14827 2019-06-27 10:05:00  26.445312        NaN\n",
       "14840 2019-06-27 10:18:00  32.226562  62.695312\n",
       "...                   ...        ...        ...\n",
       "21102 2019-07-01 19:58:00  26.109577        NaN\n",
       "21112 2019-07-01 20:08:00  27.289359  65.842563\n",
       "21113 2019-07-01 20:09:00  27.541494  65.697938\n",
       "21114 2019-07-01 20:10:00  28.120097  67.032231\n",
       "21115 2019-07-01 20:11:00  27.379261  67.020089\n",
       "\n",
       "[87 rows x 3 columns]"
      ]
     },
     "execution_count": 130,
     "metadata": {},
     "output_type": "execute_result"
    }
   ],
   "source": [
    "# Values of data points with respiration rate above 26\n",
    "df_3_plot[df_3_plot['rr']>26]"
   ]
  },
  {
   "cell_type": "markdown",
   "metadata": {},
   "source": [
    "##### Below 15 for respiratory rate"
   ]
  },
  {
   "cell_type": "code",
   "execution_count": 131,
   "metadata": {
    "ExecuteTime": {
     "end_time": "2022-07-18T18:11:42.726832Z",
     "start_time": "2022-07-18T18:11:42.719617Z"
    }
   },
   "outputs": [
    {
     "data": {
      "text/plain": [
       "1293"
      ]
     },
     "execution_count": 131,
     "metadata": {},
     "output_type": "execute_result"
    }
   ],
   "source": [
    "# Number of data points with respiration rate below 15\n",
    "len(df_3_plot[df_3_plot['rr']<15])"
   ]
  },
  {
   "cell_type": "code",
   "execution_count": 132,
   "metadata": {
    "ExecuteTime": {
     "end_time": "2022-07-18T18:11:43.062351Z",
     "start_time": "2022-07-18T18:11:43.037369Z"
    },
    "scrolled": false
   },
   "outputs": [
    {
     "data": {
      "text/html": [
       "<div>\n",
       "<style scoped>\n",
       "    .dataframe tbody tr th:only-of-type {\n",
       "        vertical-align: middle;\n",
       "    }\n",
       "\n",
       "    .dataframe tbody tr th {\n",
       "        vertical-align: top;\n",
       "    }\n",
       "\n",
       "    .dataframe thead th {\n",
       "        text-align: right;\n",
       "    }\n",
       "</style>\n",
       "<table border=\"1\" class=\"dataframe\">\n",
       "  <thead>\n",
       "    <tr style=\"text-align: right;\">\n",
       "      <th></th>\n",
       "      <th>date_time</th>\n",
       "      <th>rr</th>\n",
       "      <th>hr</th>\n",
       "    </tr>\n",
       "  </thead>\n",
       "  <tbody>\n",
       "    <tr>\n",
       "      <th>14576</th>\n",
       "      <td>2019-06-27 05:54:00</td>\n",
       "      <td>12.617808</td>\n",
       "      <td>75.917659</td>\n",
       "    </tr>\n",
       "    <tr>\n",
       "      <th>14577</th>\n",
       "      <td>2019-06-27 05:55:00</td>\n",
       "      <td>11.359197</td>\n",
       "      <td>83.216442</td>\n",
       "    </tr>\n",
       "    <tr>\n",
       "      <th>14578</th>\n",
       "      <td>2019-06-27 05:56:00</td>\n",
       "      <td>11.920283</td>\n",
       "      <td>78.679837</td>\n",
       "    </tr>\n",
       "    <tr>\n",
       "      <th>14775</th>\n",
       "      <td>2019-06-27 09:13:00</td>\n",
       "      <td>5.868602</td>\n",
       "      <td>NaN</td>\n",
       "    </tr>\n",
       "    <tr>\n",
       "      <th>14776</th>\n",
       "      <td>2019-06-27 09:14:00</td>\n",
       "      <td>12.537925</td>\n",
       "      <td>69.925667</td>\n",
       "    </tr>\n",
       "    <tr>\n",
       "      <th>...</th>\n",
       "      <td>...</td>\n",
       "      <td>...</td>\n",
       "      <td>...</td>\n",
       "    </tr>\n",
       "    <tr>\n",
       "      <th>21417</th>\n",
       "      <td>2019-07-02 01:13:00</td>\n",
       "      <td>14.047852</td>\n",
       "      <td>78.227539</td>\n",
       "    </tr>\n",
       "    <tr>\n",
       "      <th>21418</th>\n",
       "      <td>2019-07-02 01:14:00</td>\n",
       "      <td>13.432248</td>\n",
       "      <td>NaN</td>\n",
       "    </tr>\n",
       "    <tr>\n",
       "      <th>21419</th>\n",
       "      <td>2019-07-02 01:15:00</td>\n",
       "      <td>14.453125</td>\n",
       "      <td>NaN</td>\n",
       "    </tr>\n",
       "    <tr>\n",
       "      <th>21421</th>\n",
       "      <td>2019-07-02 01:17:00</td>\n",
       "      <td>13.524887</td>\n",
       "      <td>72.909955</td>\n",
       "    </tr>\n",
       "    <tr>\n",
       "      <th>21422</th>\n",
       "      <td>2019-07-02 01:18:00</td>\n",
       "      <td>13.387784</td>\n",
       "      <td>NaN</td>\n",
       "    </tr>\n",
       "  </tbody>\n",
       "</table>\n",
       "<p>1293 rows × 3 columns</p>\n",
       "</div>"
      ],
      "text/plain": [
       "                date_time         rr         hr\n",
       "14576 2019-06-27 05:54:00  12.617808  75.917659\n",
       "14577 2019-06-27 05:55:00  11.359197  83.216442\n",
       "14578 2019-06-27 05:56:00  11.920283  78.679837\n",
       "14775 2019-06-27 09:13:00   5.868602        NaN\n",
       "14776 2019-06-27 09:14:00  12.537925  69.925667\n",
       "...                   ...        ...        ...\n",
       "21417 2019-07-02 01:13:00  14.047852  78.227539\n",
       "21418 2019-07-02 01:14:00  13.432248        NaN\n",
       "21419 2019-07-02 01:15:00  14.453125        NaN\n",
       "21421 2019-07-02 01:17:00  13.524887  72.909955\n",
       "21422 2019-07-02 01:18:00  13.387784        NaN\n",
       "\n",
       "[1293 rows x 3 columns]"
      ]
     },
     "execution_count": 132,
     "metadata": {},
     "output_type": "execute_result"
    }
   ],
   "source": [
    "# Number of data points with respiration rate below 15\n",
    "df_3_plot[df_3_plot['rr']<15]"
   ]
  },
  {
   "cell_type": "markdown",
   "metadata": {},
   "source": [
    "### Mean Values"
   ]
  },
  {
   "cell_type": "code",
   "execution_count": 133,
   "metadata": {
    "ExecuteTime": {
     "end_time": "2022-07-18T18:11:44.484931Z",
     "start_time": "2022-07-18T18:11:44.455924Z"
    },
    "scrolled": false
   },
   "outputs": [
    {
     "data": {
      "text/html": [
       "<div>\n",
       "<style scoped>\n",
       "    .dataframe tbody tr th:only-of-type {\n",
       "        vertical-align: middle;\n",
       "    }\n",
       "\n",
       "    .dataframe tbody tr th {\n",
       "        vertical-align: top;\n",
       "    }\n",
       "\n",
       "    .dataframe thead th {\n",
       "        text-align: right;\n",
       "    }\n",
       "</style>\n",
       "<table border=\"1\" class=\"dataframe\">\n",
       "  <thead>\n",
       "    <tr style=\"text-align: right;\">\n",
       "      <th></th>\n",
       "      <th>count</th>\n",
       "      <th>mean</th>\n",
       "      <th>std</th>\n",
       "      <th>min</th>\n",
       "      <th>25%</th>\n",
       "      <th>50%</th>\n",
       "      <th>75%</th>\n",
       "      <th>max</th>\n",
       "    </tr>\n",
       "  </thead>\n",
       "  <tbody>\n",
       "    <tr>\n",
       "      <th>rr</th>\n",
       "      <td>3523.0</td>\n",
       "      <td>16.617059</td>\n",
       "      <td>4.824466</td>\n",
       "      <td>0.072487</td>\n",
       "      <td>13.835703</td>\n",
       "      <td>16.503172</td>\n",
       "      <td>19.667797</td>\n",
       "      <td>32.226562</td>\n",
       "    </tr>\n",
       "    <tr>\n",
       "      <th>hr</th>\n",
       "      <td>2299.0</td>\n",
       "      <td>70.455547</td>\n",
       "      <td>9.715713</td>\n",
       "      <td>40.614298</td>\n",
       "      <td>63.985352</td>\n",
       "      <td>67.826891</td>\n",
       "      <td>75.378190</td>\n",
       "      <td>99.609375</td>\n",
       "    </tr>\n",
       "  </tbody>\n",
       "</table>\n",
       "</div>"
      ],
      "text/plain": [
       "     count       mean       std        min        25%        50%        75%  \\\n",
       "rr  3523.0  16.617059  4.824466   0.072487  13.835703  16.503172  19.667797   \n",
       "hr  2299.0  70.455547  9.715713  40.614298  63.985352  67.826891  75.378190   \n",
       "\n",
       "          max  \n",
       "rr  32.226562  \n",
       "hr  99.609375  "
      ]
     },
     "execution_count": 133,
     "metadata": {},
     "output_type": "execute_result"
    }
   ],
   "source": [
    "df_3_plot.describe().transpose()"
   ]
  },
  {
   "cell_type": "markdown",
   "metadata": {},
   "source": [
    "### Summary:\n",
    "* I don't see any immediate danger episodes with this patient, however they may have an infection and should be seen by a doctor.\n",
    "    * There are low values for respiration rate, but they don't have accompanying low values or erratic values for heart rate.\n",
    "        * In the check-in indicator model, I would not want this patient to need an immediate check-in.\n",
    "    * Respiratory rates outside the norm are correlated with infections in elderly care settings.\n",
    "        * Lower respiratory and urinary tract infections are the most common.\n",
    "        * Lower rr in this case, more likely a urinary tract infection"
   ]
  },
  {
   "cell_type": "markdown",
   "metadata": {},
   "source": [
    "## Patient 4"
   ]
  },
  {
   "cell_type": "markdown",
   "metadata": {},
   "source": [
    "### Plot HR & RR for Patient 4"
   ]
  },
  {
   "cell_type": "markdown",
   "metadata": {},
   "source": [
    "#### Plot 5 Days"
   ]
  },
  {
   "cell_type": "code",
   "execution_count": 178,
   "metadata": {
    "ExecuteTime": {
     "end_time": "2022-07-18T18:33:09.263169Z",
     "start_time": "2022-07-18T18:33:08.670033Z"
    }
   },
   "outputs": [
    {
     "data": {
      "image/png": "[encoded data removed]",
      "text/plain": [
       "<Figure size 1080x576 with 1 Axes>"
      ]
     },
     "metadata": {
      "needs_background": "light"
     },
     "output_type": "display_data"
    }
   ],
   "source": [
    "# Select Patient 2\n",
    "df_4 = df_present.loc[df_present['user_id'] == 4]\n",
    "\n",
    "# Convert timestampe to datetime\n",
    "df_4['date_time'] = pd.to_datetime(df_4.ts)\n",
    "\n",
    "# Copy DataFrame and Select Heart Rate column\n",
    "df_4_plot = df_4.copy()\n",
    "df_4_plot = df_4_plot.iloc[:, [5,1,2]]\n",
    "\n",
    "# Plot the timeseries \n",
    "pd.plotting.register_matplotlib_converters()\n",
    "ax = df_4_plot.set_index('date_time').plot(figsize=(15, 8), linewidth=1)\n",
    "ax.set_ylabel('Heart Rate')\n",
    "ax.set_xlabel('Date')\n",
    "#ax.set_xticks(range(488))\n",
    "\n",
    "plt.show()"
   ]
  },
  {
   "cell_type": "markdown",
   "metadata": {},
   "source": [
    "### Investigate Limits of HR and RR"
   ]
  },
  {
   "cell_type": "markdown",
   "metadata": {},
   "source": [
    "#### Heart Rate"
   ]
  },
  {
   "cell_type": "markdown",
   "metadata": {},
   "source": [
    "##### Below 50 for heart rate"
   ]
  },
  {
   "cell_type": "code",
   "execution_count": 135,
   "metadata": {
    "ExecuteTime": {
     "end_time": "2022-07-18T18:12:09.889674Z",
     "start_time": "2022-07-18T18:12:09.881323Z"
    }
   },
   "outputs": [
    {
     "data": {
      "text/plain": [
       "16"
      ]
     },
     "execution_count": 135,
     "metadata": {},
     "output_type": "execute_result"
    }
   ],
   "source": [
    "# Number of data points with heart rate below 50\n",
    "len(df_4_plot[df_4_plot['hr']<50])"
   ]
  },
  {
   "cell_type": "code",
   "execution_count": 136,
   "metadata": {
    "ExecuteTime": {
     "end_time": "2022-07-18T18:12:10.155288Z",
     "start_time": "2022-07-18T18:12:10.141065Z"
    }
   },
   "outputs": [
    {
     "data": {
      "text/html": [
       "<div>\n",
       "<style scoped>\n",
       "    .dataframe tbody tr th:only-of-type {\n",
       "        vertical-align: middle;\n",
       "    }\n",
       "\n",
       "    .dataframe tbody tr th {\n",
       "        vertical-align: top;\n",
       "    }\n",
       "\n",
       "    .dataframe thead th {\n",
       "        text-align: right;\n",
       "    }\n",
       "</style>\n",
       "<table border=\"1\" class=\"dataframe\">\n",
       "  <thead>\n",
       "    <tr style=\"text-align: right;\">\n",
       "      <th></th>\n",
       "      <th>date_time</th>\n",
       "      <th>rr</th>\n",
       "      <th>hr</th>\n",
       "    </tr>\n",
       "  </thead>\n",
       "  <tbody>\n",
       "    <tr>\n",
       "      <th>22127</th>\n",
       "      <td>2019-08-15 13:00:00</td>\n",
       "      <td>2.000000</td>\n",
       "      <td>28.000000</td>\n",
       "    </tr>\n",
       "    <tr>\n",
       "      <th>22128</th>\n",
       "      <td>2019-08-15 13:01:00</td>\n",
       "      <td>2.000000</td>\n",
       "      <td>28.000000</td>\n",
       "    </tr>\n",
       "    <tr>\n",
       "      <th>22129</th>\n",
       "      <td>2019-08-15 13:02:00</td>\n",
       "      <td>2.000000</td>\n",
       "      <td>28.000000</td>\n",
       "    </tr>\n",
       "    <tr>\n",
       "      <th>22130</th>\n",
       "      <td>2019-08-15 13:03:00</td>\n",
       "      <td>2.000000</td>\n",
       "      <td>28.000000</td>\n",
       "    </tr>\n",
       "    <tr>\n",
       "      <th>22131</th>\n",
       "      <td>2019-08-15 13:04:00</td>\n",
       "      <td>2.000000</td>\n",
       "      <td>28.000000</td>\n",
       "    </tr>\n",
       "    <tr>\n",
       "      <th>23058</th>\n",
       "      <td>2019-08-16 04:31:00</td>\n",
       "      <td>14.588460</td>\n",
       "      <td>49.680118</td>\n",
       "    </tr>\n",
       "    <tr>\n",
       "      <th>23848</th>\n",
       "      <td>2019-08-16 17:41:00</td>\n",
       "      <td>16.307773</td>\n",
       "      <td>48.677127</td>\n",
       "    </tr>\n",
       "    <tr>\n",
       "      <th>23877</th>\n",
       "      <td>2019-08-16 18:10:00</td>\n",
       "      <td>1.000000</td>\n",
       "      <td>20.000000</td>\n",
       "    </tr>\n",
       "    <tr>\n",
       "      <th>23878</th>\n",
       "      <td>2019-08-16 18:11:00</td>\n",
       "      <td>1.000000</td>\n",
       "      <td>20.000000</td>\n",
       "    </tr>\n",
       "    <tr>\n",
       "      <th>23879</th>\n",
       "      <td>2019-08-16 18:12:00</td>\n",
       "      <td>1.000000</td>\n",
       "      <td>20.000000</td>\n",
       "    </tr>\n",
       "    <tr>\n",
       "      <th>23880</th>\n",
       "      <td>2019-08-16 18:13:00</td>\n",
       "      <td>1.000000</td>\n",
       "      <td>20.000000</td>\n",
       "    </tr>\n",
       "    <tr>\n",
       "      <th>23891</th>\n",
       "      <td>2019-08-16 18:24:00</td>\n",
       "      <td>2.000000</td>\n",
       "      <td>18.000000</td>\n",
       "    </tr>\n",
       "    <tr>\n",
       "      <th>23892</th>\n",
       "      <td>2019-08-16 18:25:00</td>\n",
       "      <td>2.000000</td>\n",
       "      <td>18.000000</td>\n",
       "    </tr>\n",
       "    <tr>\n",
       "      <th>23893</th>\n",
       "      <td>2019-08-16 18:26:00</td>\n",
       "      <td>2.000000</td>\n",
       "      <td>18.000000</td>\n",
       "    </tr>\n",
       "    <tr>\n",
       "      <th>23894</th>\n",
       "      <td>2019-08-16 18:27:00</td>\n",
       "      <td>2.000000</td>\n",
       "      <td>18.000000</td>\n",
       "    </tr>\n",
       "    <tr>\n",
       "      <th>23895</th>\n",
       "      <td>2019-08-16 18:28:00</td>\n",
       "      <td>2.000000</td>\n",
       "      <td>18.000000</td>\n",
       "    </tr>\n",
       "  </tbody>\n",
       "</table>\n",
       "</div>"
      ],
      "text/plain": [
       "                date_time         rr         hr\n",
       "22127 2019-08-15 13:00:00   2.000000  28.000000\n",
       "22128 2019-08-15 13:01:00   2.000000  28.000000\n",
       "22129 2019-08-15 13:02:00   2.000000  28.000000\n",
       "22130 2019-08-15 13:03:00   2.000000  28.000000\n",
       "22131 2019-08-15 13:04:00   2.000000  28.000000\n",
       "23058 2019-08-16 04:31:00  14.588460  49.680118\n",
       "23848 2019-08-16 17:41:00  16.307773  48.677127\n",
       "23877 2019-08-16 18:10:00   1.000000  20.000000\n",
       "23878 2019-08-16 18:11:00   1.000000  20.000000\n",
       "23879 2019-08-16 18:12:00   1.000000  20.000000\n",
       "23880 2019-08-16 18:13:00   1.000000  20.000000\n",
       "23891 2019-08-16 18:24:00   2.000000  18.000000\n",
       "23892 2019-08-16 18:25:00   2.000000  18.000000\n",
       "23893 2019-08-16 18:26:00   2.000000  18.000000\n",
       "23894 2019-08-16 18:27:00   2.000000  18.000000\n",
       "23895 2019-08-16 18:28:00   2.000000  18.000000"
      ]
     },
     "execution_count": 136,
     "metadata": {},
     "output_type": "execute_result"
    }
   ],
   "source": [
    "# Values of data points with heart rate below 50\n",
    "df_4_plot[df_4_plot['hr']<50]"
   ]
  },
  {
   "cell_type": "markdown",
   "metadata": {},
   "source": [
    "##### Above 120 for heart rate"
   ]
  },
  {
   "cell_type": "code",
   "execution_count": 137,
   "metadata": {
    "ExecuteTime": {
     "end_time": "2022-07-18T18:12:10.680022Z",
     "start_time": "2022-07-18T18:12:10.671765Z"
    }
   },
   "outputs": [
    {
     "data": {
      "text/plain": [
       "0"
      ]
     },
     "execution_count": 137,
     "metadata": {},
     "output_type": "execute_result"
    }
   ],
   "source": [
    "# Number of data points with heart rate above 120\n",
    "len(df_4_plot[df_4_plot['hr']>120])"
   ]
  },
  {
   "cell_type": "code",
   "execution_count": 138,
   "metadata": {
    "ExecuteTime": {
     "end_time": "2022-07-18T18:12:10.916287Z",
     "start_time": "2022-07-18T18:12:10.895024Z"
    },
    "scrolled": true
   },
   "outputs": [
    {
     "data": {
      "text/html": [
       "<div>\n",
       "<style scoped>\n",
       "    .dataframe tbody tr th:only-of-type {\n",
       "        vertical-align: middle;\n",
       "    }\n",
       "\n",
       "    .dataframe tbody tr th {\n",
       "        vertical-align: top;\n",
       "    }\n",
       "\n",
       "    .dataframe thead th {\n",
       "        text-align: right;\n",
       "    }\n",
       "</style>\n",
       "<table border=\"1\" class=\"dataframe\">\n",
       "  <thead>\n",
       "    <tr style=\"text-align: right;\">\n",
       "      <th></th>\n",
       "      <th>date_time</th>\n",
       "      <th>rr</th>\n",
       "      <th>hr</th>\n",
       "    </tr>\n",
       "  </thead>\n",
       "  <tbody>\n",
       "  </tbody>\n",
       "</table>\n",
       "</div>"
      ],
      "text/plain": [
       "Empty DataFrame\n",
       "Columns: [date_time, rr, hr]\n",
       "Index: []"
      ]
     },
     "execution_count": 138,
     "metadata": {},
     "output_type": "execute_result"
    }
   ],
   "source": [
    "# Values of data points with heart rate above 120\n",
    "df_4_plot[df_4_plot['hr']>120]"
   ]
  },
  {
   "cell_type": "markdown",
   "metadata": {},
   "source": [
    "#### Respiratory Rate"
   ]
  },
  {
   "cell_type": "markdown",
   "metadata": {},
   "source": [
    "##### Above 26 for respiratory rate"
   ]
  },
  {
   "cell_type": "code",
   "execution_count": 139,
   "metadata": {
    "ExecuteTime": {
     "end_time": "2022-07-18T18:12:11.858177Z",
     "start_time": "2022-07-18T18:12:11.849139Z"
    }
   },
   "outputs": [
    {
     "data": {
      "text/plain": [
       "50"
      ]
     },
     "execution_count": 139,
     "metadata": {},
     "output_type": "execute_result"
    }
   ],
   "source": [
    "# Number of data points with respiration rate above 26\n",
    "len(df_4_plot[df_4_plot['rr']>26])"
   ]
  },
  {
   "cell_type": "code",
   "execution_count": 140,
   "metadata": {
    "ExecuteTime": {
     "end_time": "2022-07-18T18:12:12.725592Z",
     "start_time": "2022-07-18T18:12:12.706573Z"
    },
    "scrolled": false
   },
   "outputs": [
    {
     "data": {
      "text/html": [
       "<div>\n",
       "<style scoped>\n",
       "    .dataframe tbody tr th:only-of-type {\n",
       "        vertical-align: middle;\n",
       "    }\n",
       "\n",
       "    .dataframe tbody tr th {\n",
       "        vertical-align: top;\n",
       "    }\n",
       "\n",
       "    .dataframe thead th {\n",
       "        text-align: right;\n",
       "    }\n",
       "</style>\n",
       "<table border=\"1\" class=\"dataframe\">\n",
       "  <thead>\n",
       "    <tr style=\"text-align: right;\">\n",
       "      <th></th>\n",
       "      <th>date_time</th>\n",
       "      <th>rr</th>\n",
       "      <th>hr</th>\n",
       "    </tr>\n",
       "  </thead>\n",
       "  <tbody>\n",
       "    <tr>\n",
       "      <th>21590</th>\n",
       "      <td>2019-08-15 04:03:00</td>\n",
       "      <td>26.199777</td>\n",
       "      <td>NaN</td>\n",
       "    </tr>\n",
       "    <tr>\n",
       "      <th>21761</th>\n",
       "      <td>2019-08-15 06:54:00</td>\n",
       "      <td>29.698202</td>\n",
       "      <td>NaN</td>\n",
       "    </tr>\n",
       "    <tr>\n",
       "      <th>21855</th>\n",
       "      <td>2019-08-15 08:28:00</td>\n",
       "      <td>27.386084</td>\n",
       "      <td>60.770089</td>\n",
       "    </tr>\n",
       "    <tr>\n",
       "      <th>21895</th>\n",
       "      <td>2019-08-15 09:08:00</td>\n",
       "      <td>29.673549</td>\n",
       "      <td>NaN</td>\n",
       "    </tr>\n",
       "    <tr>\n",
       "      <th>21939</th>\n",
       "      <td>2019-08-15 09:52:00</td>\n",
       "      <td>26.537298</td>\n",
       "      <td>85.055444</td>\n",
       "    </tr>\n",
       "    <tr>\n",
       "      <th>21947</th>\n",
       "      <td>2019-08-15 10:00:00</td>\n",
       "      <td>28.504136</td>\n",
       "      <td>72.035846</td>\n",
       "    </tr>\n",
       "    <tr>\n",
       "      <th>21992</th>\n",
       "      <td>2019-08-15 10:45:00</td>\n",
       "      <td>26.684984</td>\n",
       "      <td>78.048861</td>\n",
       "    </tr>\n",
       "    <tr>\n",
       "      <th>22541</th>\n",
       "      <td>2019-08-15 19:54:00</td>\n",
       "      <td>29.905790</td>\n",
       "      <td>73.690257</td>\n",
       "    </tr>\n",
       "    <tr>\n",
       "      <th>22773</th>\n",
       "      <td>2019-08-15 23:46:00</td>\n",
       "      <td>28.115234</td>\n",
       "      <td>80.307617</td>\n",
       "    </tr>\n",
       "    <tr>\n",
       "      <th>22906</th>\n",
       "      <td>2019-08-16 01:59:00</td>\n",
       "      <td>26.899122</td>\n",
       "      <td>NaN</td>\n",
       "    </tr>\n",
       "    <tr>\n",
       "      <th>23044</th>\n",
       "      <td>2019-08-16 04:17:00</td>\n",
       "      <td>27.166193</td>\n",
       "      <td>60.156250</td>\n",
       "    </tr>\n",
       "    <tr>\n",
       "      <th>23259</th>\n",
       "      <td>2019-08-16 07:52:00</td>\n",
       "      <td>26.235651</td>\n",
       "      <td>NaN</td>\n",
       "    </tr>\n",
       "    <tr>\n",
       "      <th>23361</th>\n",
       "      <td>2019-08-16 09:34:00</td>\n",
       "      <td>30.215993</td>\n",
       "      <td>NaN</td>\n",
       "    </tr>\n",
       "    <tr>\n",
       "      <th>23370</th>\n",
       "      <td>2019-08-16 09:43:00</td>\n",
       "      <td>26.390216</td>\n",
       "      <td>83.781386</td>\n",
       "    </tr>\n",
       "    <tr>\n",
       "      <th>23376</th>\n",
       "      <td>2019-08-16 09:49:00</td>\n",
       "      <td>29.541016</td>\n",
       "      <td>NaN</td>\n",
       "    </tr>\n",
       "    <tr>\n",
       "      <th>23385</th>\n",
       "      <td>2019-08-16 09:58:00</td>\n",
       "      <td>30.085100</td>\n",
       "      <td>70.884487</td>\n",
       "    </tr>\n",
       "    <tr>\n",
       "      <th>23546</th>\n",
       "      <td>2019-08-16 12:39:00</td>\n",
       "      <td>26.265775</td>\n",
       "      <td>NaN</td>\n",
       "    </tr>\n",
       "    <tr>\n",
       "      <th>23597</th>\n",
       "      <td>2019-08-16 13:30:00</td>\n",
       "      <td>26.195694</td>\n",
       "      <td>NaN</td>\n",
       "    </tr>\n",
       "    <tr>\n",
       "      <th>23817</th>\n",
       "      <td>2019-08-16 17:10:00</td>\n",
       "      <td>28.410051</td>\n",
       "      <td>NaN</td>\n",
       "    </tr>\n",
       "    <tr>\n",
       "      <th>23845</th>\n",
       "      <td>2019-08-16 17:38:00</td>\n",
       "      <td>31.999668</td>\n",
       "      <td>83.113364</td>\n",
       "    </tr>\n",
       "    <tr>\n",
       "      <th>23874</th>\n",
       "      <td>2019-08-16 18:07:00</td>\n",
       "      <td>32.475586</td>\n",
       "      <td>87.812500</td>\n",
       "    </tr>\n",
       "    <tr>\n",
       "      <th>23875</th>\n",
       "      <td>2019-08-16 18:08:00</td>\n",
       "      <td>29.933324</td>\n",
       "      <td>77.187163</td>\n",
       "    </tr>\n",
       "    <tr>\n",
       "      <th>23971</th>\n",
       "      <td>2019-08-16 19:44:00</td>\n",
       "      <td>27.001450</td>\n",
       "      <td>77.911566</td>\n",
       "    </tr>\n",
       "    <tr>\n",
       "      <th>23990</th>\n",
       "      <td>2019-08-16 20:03:00</td>\n",
       "      <td>28.370716</td>\n",
       "      <td>NaN</td>\n",
       "    </tr>\n",
       "    <tr>\n",
       "      <th>24003</th>\n",
       "      <td>2019-08-16 20:16:00</td>\n",
       "      <td>26.514393</td>\n",
       "      <td>75.144320</td>\n",
       "    </tr>\n",
       "    <tr>\n",
       "      <th>24066</th>\n",
       "      <td>2019-08-16 21:19:00</td>\n",
       "      <td>29.919434</td>\n",
       "      <td>85.418701</td>\n",
       "    </tr>\n",
       "    <tr>\n",
       "      <th>24071</th>\n",
       "      <td>2019-08-16 21:24:00</td>\n",
       "      <td>27.291667</td>\n",
       "      <td>NaN</td>\n",
       "    </tr>\n",
       "    <tr>\n",
       "      <th>24096</th>\n",
       "      <td>2019-08-16 21:49:00</td>\n",
       "      <td>27.966102</td>\n",
       "      <td>80.541578</td>\n",
       "    </tr>\n",
       "    <tr>\n",
       "      <th>24197</th>\n",
       "      <td>2019-08-16 23:30:00</td>\n",
       "      <td>28.761688</td>\n",
       "      <td>NaN</td>\n",
       "    </tr>\n",
       "    <tr>\n",
       "      <th>24289</th>\n",
       "      <td>2019-08-17 01:02:00</td>\n",
       "      <td>26.144719</td>\n",
       "      <td>75.745739</td>\n",
       "    </tr>\n",
       "    <tr>\n",
       "      <th>24360</th>\n",
       "      <td>2019-08-17 02:13:00</td>\n",
       "      <td>26.506980</td>\n",
       "      <td>NaN</td>\n",
       "    </tr>\n",
       "    <tr>\n",
       "      <th>24500</th>\n",
       "      <td>2019-08-17 04:33:00</td>\n",
       "      <td>26.628767</td>\n",
       "      <td>NaN</td>\n",
       "    </tr>\n",
       "    <tr>\n",
       "      <th>24576</th>\n",
       "      <td>2019-08-17 05:49:00</td>\n",
       "      <td>28.295361</td>\n",
       "      <td>71.608274</td>\n",
       "    </tr>\n",
       "    <tr>\n",
       "      <th>24621</th>\n",
       "      <td>2019-08-17 06:34:00</td>\n",
       "      <td>32.290039</td>\n",
       "      <td>NaN</td>\n",
       "    </tr>\n",
       "    <tr>\n",
       "      <th>24622</th>\n",
       "      <td>2019-08-17 06:35:00</td>\n",
       "      <td>26.007747</td>\n",
       "      <td>68.057379</td>\n",
       "    </tr>\n",
       "    <tr>\n",
       "      <th>24623</th>\n",
       "      <td>2019-08-17 06:36:00</td>\n",
       "      <td>32.556906</td>\n",
       "      <td>62.176890</td>\n",
       "    </tr>\n",
       "    <tr>\n",
       "      <th>24624</th>\n",
       "      <td>2019-08-17 06:37:00</td>\n",
       "      <td>32.290039</td>\n",
       "      <td>71.303711</td>\n",
       "    </tr>\n",
       "    <tr>\n",
       "      <th>25132</th>\n",
       "      <td>2019-08-17 15:05:00</td>\n",
       "      <td>26.202929</td>\n",
       "      <td>76.034584</td>\n",
       "    </tr>\n",
       "    <tr>\n",
       "      <th>25250</th>\n",
       "      <td>2019-08-17 17:03:00</td>\n",
       "      <td>26.953125</td>\n",
       "      <td>NaN</td>\n",
       "    </tr>\n",
       "    <tr>\n",
       "      <th>25955</th>\n",
       "      <td>2019-08-18 04:48:00</td>\n",
       "      <td>27.133039</td>\n",
       "      <td>66.792012</td>\n",
       "    </tr>\n",
       "    <tr>\n",
       "      <th>26748</th>\n",
       "      <td>2019-08-18 18:01:00</td>\n",
       "      <td>29.296875</td>\n",
       "      <td>97.265625</td>\n",
       "    </tr>\n",
       "    <tr>\n",
       "      <th>27040</th>\n",
       "      <td>2019-08-18 22:53:00</td>\n",
       "      <td>26.267689</td>\n",
       "      <td>75.215581</td>\n",
       "    </tr>\n",
       "    <tr>\n",
       "      <th>27050</th>\n",
       "      <td>2019-08-18 23:03:00</td>\n",
       "      <td>26.013647</td>\n",
       "      <td>80.968157</td>\n",
       "    </tr>\n",
       "    <tr>\n",
       "      <th>27051</th>\n",
       "      <td>2019-08-18 23:04:00</td>\n",
       "      <td>26.634838</td>\n",
       "      <td>71.175733</td>\n",
       "    </tr>\n",
       "    <tr>\n",
       "      <th>27055</th>\n",
       "      <td>2019-08-18 23:08:00</td>\n",
       "      <td>26.617491</td>\n",
       "      <td>84.107630</td>\n",
       "    </tr>\n",
       "    <tr>\n",
       "      <th>27096</th>\n",
       "      <td>2019-08-18 23:49:00</td>\n",
       "      <td>26.599351</td>\n",
       "      <td>80.339770</td>\n",
       "    </tr>\n",
       "    <tr>\n",
       "      <th>27577</th>\n",
       "      <td>2019-08-19 07:50:00</td>\n",
       "      <td>26.118260</td>\n",
       "      <td>82.720588</td>\n",
       "    </tr>\n",
       "    <tr>\n",
       "      <th>27717</th>\n",
       "      <td>2019-08-19 10:10:00</td>\n",
       "      <td>27.664621</td>\n",
       "      <td>NaN</td>\n",
       "    </tr>\n",
       "    <tr>\n",
       "      <th>27729</th>\n",
       "      <td>2019-08-19 10:22:00</td>\n",
       "      <td>28.018466</td>\n",
       "      <td>84.090909</td>\n",
       "    </tr>\n",
       "    <tr>\n",
       "      <th>28375</th>\n",
       "      <td>2019-08-19 21:08:00</td>\n",
       "      <td>26.157340</td>\n",
       "      <td>NaN</td>\n",
       "    </tr>\n",
       "  </tbody>\n",
       "</table>\n",
       "</div>"
      ],
      "text/plain": [
       "                date_time         rr         hr\n",
       "21590 2019-08-15 04:03:00  26.199777        NaN\n",
       "21761 2019-08-15 06:54:00  29.698202        NaN\n",
       "21855 2019-08-15 08:28:00  27.386084  60.770089\n",
       "21895 2019-08-15 09:08:00  29.673549        NaN\n",
       "21939 2019-08-15 09:52:00  26.537298  85.055444\n",
       "21947 2019-08-15 10:00:00  28.504136  72.035846\n",
       "21992 2019-08-15 10:45:00  26.684984  78.048861\n",
       "22541 2019-08-15 19:54:00  29.905790  73.690257\n",
       "22773 2019-08-15 23:46:00  28.115234  80.307617\n",
       "22906 2019-08-16 01:59:00  26.899122        NaN\n",
       "23044 2019-08-16 04:17:00  27.166193  60.156250\n",
       "23259 2019-08-16 07:52:00  26.235651        NaN\n",
       "23361 2019-08-16 09:34:00  30.215993        NaN\n",
       "23370 2019-08-16 09:43:00  26.390216  83.781386\n",
       "23376 2019-08-16 09:49:00  29.541016        NaN\n",
       "23385 2019-08-16 09:58:00  30.085100  70.884487\n",
       "23546 2019-08-16 12:39:00  26.265775        NaN\n",
       "23597 2019-08-16 13:30:00  26.195694        NaN\n",
       "23817 2019-08-16 17:10:00  28.410051        NaN\n",
       "23845 2019-08-16 17:38:00  31.999668  83.113364\n",
       "23874 2019-08-16 18:07:00  32.475586  87.812500\n",
       "23875 2019-08-16 18:08:00  29.933324  77.187163\n",
       "23971 2019-08-16 19:44:00  27.001450  77.911566\n",
       "23990 2019-08-16 20:03:00  28.370716        NaN\n",
       "24003 2019-08-16 20:16:00  26.514393  75.144320\n",
       "24066 2019-08-16 21:19:00  29.919434  85.418701\n",
       "24071 2019-08-16 21:24:00  27.291667        NaN\n",
       "24096 2019-08-16 21:49:00  27.966102  80.541578\n",
       "24197 2019-08-16 23:30:00  28.761688        NaN\n",
       "24289 2019-08-17 01:02:00  26.144719  75.745739\n",
       "24360 2019-08-17 02:13:00  26.506980        NaN\n",
       "24500 2019-08-17 04:33:00  26.628767        NaN\n",
       "24576 2019-08-17 05:49:00  28.295361  71.608274\n",
       "24621 2019-08-17 06:34:00  32.290039        NaN\n",
       "24622 2019-08-17 06:35:00  26.007747  68.057379\n",
       "24623 2019-08-17 06:36:00  32.556906  62.176890\n",
       "24624 2019-08-17 06:37:00  32.290039  71.303711\n",
       "25132 2019-08-17 15:05:00  26.202929  76.034584\n",
       "25250 2019-08-17 17:03:00  26.953125        NaN\n",
       "25955 2019-08-18 04:48:00  27.133039  66.792012\n",
       "26748 2019-08-18 18:01:00  29.296875  97.265625\n",
       "27040 2019-08-18 22:53:00  26.267689  75.215581\n",
       "27050 2019-08-18 23:03:00  26.013647  80.968157\n",
       "27051 2019-08-18 23:04:00  26.634838  71.175733\n",
       "27055 2019-08-18 23:08:00  26.617491  84.107630\n",
       "27096 2019-08-18 23:49:00  26.599351  80.339770\n",
       "27577 2019-08-19 07:50:00  26.118260  82.720588\n",
       "27717 2019-08-19 10:10:00  27.664621        NaN\n",
       "27729 2019-08-19 10:22:00  28.018466  84.090909\n",
       "28375 2019-08-19 21:08:00  26.157340        NaN"
      ]
     },
     "execution_count": 140,
     "metadata": {},
     "output_type": "execute_result"
    }
   ],
   "source": [
    "# Values of data points with respiration rate above 26\n",
    "df_4_plot[df_4_plot['rr']>26]"
   ]
  },
  {
   "cell_type": "markdown",
   "metadata": {},
   "source": [
    "##### Below 15 for respiratory rate"
   ]
  },
  {
   "cell_type": "code",
   "execution_count": 141,
   "metadata": {
    "ExecuteTime": {
     "end_time": "2022-07-18T18:12:14.202092Z",
     "start_time": "2022-07-18T18:12:14.193960Z"
    }
   },
   "outputs": [
    {
     "data": {
      "text/plain": [
       "674"
      ]
     },
     "execution_count": 141,
     "metadata": {},
     "output_type": "execute_result"
    }
   ],
   "source": [
    "# Number of data points with respiration rate below 15\n",
    "len(df_4_plot[df_4_plot['rr']<15])"
   ]
  },
  {
   "cell_type": "code",
   "execution_count": 142,
   "metadata": {
    "ExecuteTime": {
     "end_time": "2022-07-18T18:12:14.834771Z",
     "start_time": "2022-07-18T18:12:14.818944Z"
    },
    "scrolled": false
   },
   "outputs": [
    {
     "data": {
      "text/html": [
       "<div>\n",
       "<style scoped>\n",
       "    .dataframe tbody tr th:only-of-type {\n",
       "        vertical-align: middle;\n",
       "    }\n",
       "\n",
       "    .dataframe tbody tr th {\n",
       "        vertical-align: top;\n",
       "    }\n",
       "\n",
       "    .dataframe thead th {\n",
       "        text-align: right;\n",
       "    }\n",
       "</style>\n",
       "<table border=\"1\" class=\"dataframe\">\n",
       "  <thead>\n",
       "    <tr style=\"text-align: right;\">\n",
       "      <th></th>\n",
       "      <th>date_time</th>\n",
       "      <th>rr</th>\n",
       "      <th>hr</th>\n",
       "    </tr>\n",
       "  </thead>\n",
       "  <tbody>\n",
       "    <tr>\n",
       "      <th>21531</th>\n",
       "      <td>2019-08-15 03:04:00</td>\n",
       "      <td>14.363532</td>\n",
       "      <td>68.441800</td>\n",
       "    </tr>\n",
       "    <tr>\n",
       "      <th>21570</th>\n",
       "      <td>2019-08-15 03:43:00</td>\n",
       "      <td>11.320755</td>\n",
       "      <td>NaN</td>\n",
       "    </tr>\n",
       "    <tr>\n",
       "      <th>21583</th>\n",
       "      <td>2019-08-15 03:56:00</td>\n",
       "      <td>13.094897</td>\n",
       "      <td>62.754444</td>\n",
       "    </tr>\n",
       "    <tr>\n",
       "      <th>21584</th>\n",
       "      <td>2019-08-15 03:57:00</td>\n",
       "      <td>13.717831</td>\n",
       "      <td>NaN</td>\n",
       "    </tr>\n",
       "    <tr>\n",
       "      <th>21606</th>\n",
       "      <td>2019-08-15 04:19:00</td>\n",
       "      <td>14.877930</td>\n",
       "      <td>58.852539</td>\n",
       "    </tr>\n",
       "    <tr>\n",
       "      <th>...</th>\n",
       "      <td>...</td>\n",
       "      <td>...</td>\n",
       "      <td>...</td>\n",
       "    </tr>\n",
       "    <tr>\n",
       "      <th>28638</th>\n",
       "      <td>2019-08-20 01:31:00</td>\n",
       "      <td>14.160156</td>\n",
       "      <td>88.549805</td>\n",
       "    </tr>\n",
       "    <tr>\n",
       "      <th>28647</th>\n",
       "      <td>2019-08-20 01:40:00</td>\n",
       "      <td>14.658540</td>\n",
       "      <td>65.771484</td>\n",
       "    </tr>\n",
       "    <tr>\n",
       "      <th>28684</th>\n",
       "      <td>2019-08-20 02:17:00</td>\n",
       "      <td>13.281250</td>\n",
       "      <td>NaN</td>\n",
       "    </tr>\n",
       "    <tr>\n",
       "      <th>28685</th>\n",
       "      <td>2019-08-20 02:18:00</td>\n",
       "      <td>10.117738</td>\n",
       "      <td>61.119058</td>\n",
       "    </tr>\n",
       "    <tr>\n",
       "      <th>28687</th>\n",
       "      <td>2019-08-20 02:20:00</td>\n",
       "      <td>14.103860</td>\n",
       "      <td>NaN</td>\n",
       "    </tr>\n",
       "  </tbody>\n",
       "</table>\n",
       "<p>674 rows × 3 columns</p>\n",
       "</div>"
      ],
      "text/plain": [
       "                date_time         rr         hr\n",
       "21531 2019-08-15 03:04:00  14.363532  68.441800\n",
       "21570 2019-08-15 03:43:00  11.320755        NaN\n",
       "21583 2019-08-15 03:56:00  13.094897  62.754444\n",
       "21584 2019-08-15 03:57:00  13.717831        NaN\n",
       "21606 2019-08-15 04:19:00  14.877930  58.852539\n",
       "...                   ...        ...        ...\n",
       "28638 2019-08-20 01:31:00  14.160156  88.549805\n",
       "28647 2019-08-20 01:40:00  14.658540  65.771484\n",
       "28684 2019-08-20 02:17:00  13.281250        NaN\n",
       "28685 2019-08-20 02:18:00  10.117738  61.119058\n",
       "28687 2019-08-20 02:20:00  14.103860        NaN\n",
       "\n",
       "[674 rows x 3 columns]"
      ]
     },
     "execution_count": 142,
     "metadata": {},
     "output_type": "execute_result"
    }
   ],
   "source": [
    "# Number of data points with respiration rate below 15\n",
    "df_4_plot[df_4_plot['rr']<15]"
   ]
  },
  {
   "cell_type": "markdown",
   "metadata": {},
   "source": [
    "### Mean Values"
   ]
  },
  {
   "cell_type": "code",
   "execution_count": 143,
   "metadata": {
    "ExecuteTime": {
     "end_time": "2022-07-18T18:12:15.662436Z",
     "start_time": "2022-07-18T18:12:15.632823Z"
    },
    "scrolled": true
   },
   "outputs": [
    {
     "data": {
      "text/html": [
       "<div>\n",
       "<style scoped>\n",
       "    .dataframe tbody tr th:only-of-type {\n",
       "        vertical-align: middle;\n",
       "    }\n",
       "\n",
       "    .dataframe tbody tr th {\n",
       "        vertical-align: top;\n",
       "    }\n",
       "\n",
       "    .dataframe thead th {\n",
       "        text-align: right;\n",
       "    }\n",
       "</style>\n",
       "<table border=\"1\" class=\"dataframe\">\n",
       "  <thead>\n",
       "    <tr style=\"text-align: right;\">\n",
       "      <th></th>\n",
       "      <th>count</th>\n",
       "      <th>mean</th>\n",
       "      <th>std</th>\n",
       "      <th>min</th>\n",
       "      <th>25%</th>\n",
       "      <th>50%</th>\n",
       "      <th>75%</th>\n",
       "      <th>max</th>\n",
       "    </tr>\n",
       "  </thead>\n",
       "  <tbody>\n",
       "    <tr>\n",
       "      <th>rr</th>\n",
       "      <td>7062.0</td>\n",
       "      <td>18.851553</td>\n",
       "      <td>3.380852</td>\n",
       "      <td>0.152075</td>\n",
       "      <td>17.558291</td>\n",
       "      <td>19.252930</td>\n",
       "      <td>20.843317</td>\n",
       "      <td>32.556906</td>\n",
       "    </tr>\n",
       "    <tr>\n",
       "      <th>hr</th>\n",
       "      <td>4892.0</td>\n",
       "      <td>71.466911</td>\n",
       "      <td>9.135588</td>\n",
       "      <td>18.000000</td>\n",
       "      <td>65.225547</td>\n",
       "      <td>70.853202</td>\n",
       "      <td>77.401692</td>\n",
       "      <td>99.609375</td>\n",
       "    </tr>\n",
       "  </tbody>\n",
       "</table>\n",
       "</div>"
      ],
      "text/plain": [
       "     count       mean       std        min        25%        50%        75%  \\\n",
       "rr  7062.0  18.851553  3.380852   0.152075  17.558291  19.252930  20.843317   \n",
       "hr  4892.0  71.466911  9.135588  18.000000  65.225547  70.853202  77.401692   \n",
       "\n",
       "          max  \n",
       "rr  32.556906  \n",
       "hr  99.609375  "
      ]
     },
     "execution_count": 143,
     "metadata": {},
     "output_type": "execute_result"
    }
   ],
   "source": [
    "df_4_plot.describe().transpose()"
   ]
  },
  {
   "cell_type": "markdown",
   "metadata": {},
   "source": [
    "### Summary:\n",
    "* This patient has two incidences where heart rate and respiration rate drop at the same time.\n",
    "* I would want the warning indicator model to alert attendees for a check-in at those times."
   ]
  },
  {
   "cell_type": "markdown",
   "metadata": {},
   "source": [
    "## Patient 5"
   ]
  },
  {
   "cell_type": "markdown",
   "metadata": {},
   "source": [
    "### Plot HR & RR for Patient 5"
   ]
  },
  {
   "cell_type": "markdown",
   "metadata": {},
   "source": [
    "#### Plot 5 Days"
   ]
  },
  {
   "cell_type": "code",
   "execution_count": 179,
   "metadata": {
    "ExecuteTime": {
     "end_time": "2022-07-18T18:33:15.861231Z",
     "start_time": "2022-07-18T18:33:15.249394Z"
    }
   },
   "outputs": [
    {
     "data": {
      "image/png": "[encoded data removed]",
      "text/plain": [
       "<Figure size 1080x576 with 1 Axes>"
      ]
     },
     "metadata": {
      "needs_background": "light"
     },
     "output_type": "display_data"
    }
   ],
   "source": [
    "# Select Patient 2\n",
    "df_5 = df_present.loc[df_present['user_id'] == 5]\n",
    "\n",
    "# Convert timestampe to datetime\n",
    "df_5['date_time'] = pd.to_datetime(df_5.ts)\n",
    "\n",
    "# Copy DataFrame and Select Heart Rate column\n",
    "df_5_plot = df_5.copy()\n",
    "df_5_plot = df_5_plot.iloc[:, [5,1,2]]\n",
    "\n",
    "# Plot the timeseries \n",
    "pd.plotting.register_matplotlib_converters()\n",
    "ax = df_5_plot.set_index('date_time').plot(figsize=(15, 8), linewidth=1)\n",
    "ax.set_ylabel('Heart Rate')\n",
    "ax.set_xlabel('Date')\n",
    "#ax.set_xticks(range(488))\n",
    "\n",
    "plt.show()"
   ]
  },
  {
   "cell_type": "markdown",
   "metadata": {},
   "source": [
    "### Investigate Limits of HR and RR"
   ]
  },
  {
   "cell_type": "markdown",
   "metadata": {},
   "source": [
    "#### Heart Rate"
   ]
  },
  {
   "cell_type": "markdown",
   "metadata": {},
   "source": [
    "##### Below 50 for heart rate"
   ]
  },
  {
   "cell_type": "code",
   "execution_count": 154,
   "metadata": {
    "ExecuteTime": {
     "end_time": "2022-07-18T18:20:36.432627Z",
     "start_time": "2022-07-18T18:20:36.425322Z"
    }
   },
   "outputs": [
    {
     "data": {
      "text/plain": [
       "30"
      ]
     },
     "execution_count": 154,
     "metadata": {},
     "output_type": "execute_result"
    }
   ],
   "source": [
    "# Number of data points with heart rate below 50\n",
    "len(df_5_plot[df_5_plot['hr']<50])"
   ]
  },
  {
   "cell_type": "code",
   "execution_count": 155,
   "metadata": {
    "ExecuteTime": {
     "end_time": "2022-07-18T18:20:37.075831Z",
     "start_time": "2022-07-18T18:20:37.058860Z"
    }
   },
   "outputs": [
    {
     "data": {
      "text/html": [
       "<div>\n",
       "<style scoped>\n",
       "    .dataframe tbody tr th:only-of-type {\n",
       "        vertical-align: middle;\n",
       "    }\n",
       "\n",
       "    .dataframe tbody tr th {\n",
       "        vertical-align: top;\n",
       "    }\n",
       "\n",
       "    .dataframe thead th {\n",
       "        text-align: right;\n",
       "    }\n",
       "</style>\n",
       "<table border=\"1\" class=\"dataframe\">\n",
       "  <thead>\n",
       "    <tr style=\"text-align: right;\">\n",
       "      <th></th>\n",
       "      <th>date_time</th>\n",
       "      <th>rr</th>\n",
       "      <th>hr</th>\n",
       "    </tr>\n",
       "  </thead>\n",
       "  <tbody>\n",
       "    <tr>\n",
       "      <th>29510</th>\n",
       "      <td>2019-09-12 16:02:00</td>\n",
       "      <td>2.000000</td>\n",
       "      <td>5.000000</td>\n",
       "    </tr>\n",
       "    <tr>\n",
       "      <th>29511</th>\n",
       "      <td>2019-09-12 16:03:00</td>\n",
       "      <td>2.000000</td>\n",
       "      <td>5.000000</td>\n",
       "    </tr>\n",
       "    <tr>\n",
       "      <th>29512</th>\n",
       "      <td>2019-09-12 16:04:00</td>\n",
       "      <td>2.000000</td>\n",
       "      <td>5.000000</td>\n",
       "    </tr>\n",
       "    <tr>\n",
       "      <th>29513</th>\n",
       "      <td>2019-09-12 16:05:00</td>\n",
       "      <td>2.000000</td>\n",
       "      <td>5.000000</td>\n",
       "    </tr>\n",
       "    <tr>\n",
       "      <th>29514</th>\n",
       "      <td>2019-09-12 16:06:00</td>\n",
       "      <td>2.000000</td>\n",
       "      <td>5.000000</td>\n",
       "    </tr>\n",
       "    <tr>\n",
       "      <th>29515</th>\n",
       "      <td>2019-09-12 16:07:00</td>\n",
       "      <td>2.000000</td>\n",
       "      <td>5.000000</td>\n",
       "    </tr>\n",
       "    <tr>\n",
       "      <th>29516</th>\n",
       "      <td>2019-09-12 16:08:00</td>\n",
       "      <td>2.000000</td>\n",
       "      <td>5.000000</td>\n",
       "    </tr>\n",
       "    <tr>\n",
       "      <th>29517</th>\n",
       "      <td>2019-09-12 16:09:00</td>\n",
       "      <td>2.000000</td>\n",
       "      <td>5.000000</td>\n",
       "    </tr>\n",
       "    <tr>\n",
       "      <th>29518</th>\n",
       "      <td>2019-09-12 16:10:00</td>\n",
       "      <td>2.000000</td>\n",
       "      <td>5.000000</td>\n",
       "    </tr>\n",
       "    <tr>\n",
       "      <th>29519</th>\n",
       "      <td>2019-09-12 16:11:00</td>\n",
       "      <td>2.000000</td>\n",
       "      <td>5.000000</td>\n",
       "    </tr>\n",
       "    <tr>\n",
       "      <th>29520</th>\n",
       "      <td>2019-09-12 16:12:00</td>\n",
       "      <td>2.000000</td>\n",
       "      <td>5.000000</td>\n",
       "    </tr>\n",
       "    <tr>\n",
       "      <th>29521</th>\n",
       "      <td>2019-09-12 16:13:00</td>\n",
       "      <td>2.000000</td>\n",
       "      <td>5.000000</td>\n",
       "    </tr>\n",
       "    <tr>\n",
       "      <th>29522</th>\n",
       "      <td>2019-09-12 16:14:00</td>\n",
       "      <td>2.000000</td>\n",
       "      <td>5.000000</td>\n",
       "    </tr>\n",
       "    <tr>\n",
       "      <th>29523</th>\n",
       "      <td>2019-09-12 16:15:00</td>\n",
       "      <td>2.000000</td>\n",
       "      <td>5.000000</td>\n",
       "    </tr>\n",
       "    <tr>\n",
       "      <th>29524</th>\n",
       "      <td>2019-09-12 16:16:00</td>\n",
       "      <td>2.000000</td>\n",
       "      <td>5.000000</td>\n",
       "    </tr>\n",
       "    <tr>\n",
       "      <th>29525</th>\n",
       "      <td>2019-09-12 16:17:00</td>\n",
       "      <td>2.000000</td>\n",
       "      <td>5.000000</td>\n",
       "    </tr>\n",
       "    <tr>\n",
       "      <th>29526</th>\n",
       "      <td>2019-09-12 16:18:00</td>\n",
       "      <td>2.000000</td>\n",
       "      <td>5.000000</td>\n",
       "    </tr>\n",
       "    <tr>\n",
       "      <th>29527</th>\n",
       "      <td>2019-09-12 16:19:00</td>\n",
       "      <td>2.000000</td>\n",
       "      <td>5.000000</td>\n",
       "    </tr>\n",
       "    <tr>\n",
       "      <th>29528</th>\n",
       "      <td>2019-09-12 16:20:00</td>\n",
       "      <td>2.000000</td>\n",
       "      <td>5.000000</td>\n",
       "    </tr>\n",
       "    <tr>\n",
       "      <th>29529</th>\n",
       "      <td>2019-09-12 16:21:00</td>\n",
       "      <td>2.000000</td>\n",
       "      <td>5.000000</td>\n",
       "    </tr>\n",
       "    <tr>\n",
       "      <th>29530</th>\n",
       "      <td>2019-09-12 16:22:00</td>\n",
       "      <td>2.000000</td>\n",
       "      <td>5.000000</td>\n",
       "    </tr>\n",
       "    <tr>\n",
       "      <th>29531</th>\n",
       "      <td>2019-09-12 16:23:00</td>\n",
       "      <td>2.000000</td>\n",
       "      <td>5.000000</td>\n",
       "    </tr>\n",
       "    <tr>\n",
       "      <th>29532</th>\n",
       "      <td>2019-09-12 16:24:00</td>\n",
       "      <td>2.000000</td>\n",
       "      <td>5.000000</td>\n",
       "    </tr>\n",
       "    <tr>\n",
       "      <th>29533</th>\n",
       "      <td>2019-09-12 16:25:00</td>\n",
       "      <td>2.000000</td>\n",
       "      <td>5.000000</td>\n",
       "    </tr>\n",
       "    <tr>\n",
       "      <th>29534</th>\n",
       "      <td>2019-09-12 16:26:00</td>\n",
       "      <td>2.000000</td>\n",
       "      <td>5.000000</td>\n",
       "    </tr>\n",
       "    <tr>\n",
       "      <th>31078</th>\n",
       "      <td>2019-09-13 18:10:00</td>\n",
       "      <td>1.000000</td>\n",
       "      <td>30.000000</td>\n",
       "    </tr>\n",
       "    <tr>\n",
       "      <th>31079</th>\n",
       "      <td>2019-09-13 18:11:00</td>\n",
       "      <td>1.000000</td>\n",
       "      <td>30.000000</td>\n",
       "    </tr>\n",
       "    <tr>\n",
       "      <th>31080</th>\n",
       "      <td>2019-09-13 18:12:00</td>\n",
       "      <td>1.000000</td>\n",
       "      <td>30.000000</td>\n",
       "    </tr>\n",
       "    <tr>\n",
       "      <th>31081</th>\n",
       "      <td>2019-09-13 18:13:00</td>\n",
       "      <td>1.000000</td>\n",
       "      <td>30.000000</td>\n",
       "    </tr>\n",
       "    <tr>\n",
       "      <th>33529</th>\n",
       "      <td>2019-09-15 11:01:00</td>\n",
       "      <td>32.802815</td>\n",
       "      <td>49.649729</td>\n",
       "    </tr>\n",
       "  </tbody>\n",
       "</table>\n",
       "</div>"
      ],
      "text/plain": [
       "                date_time         rr         hr\n",
       "29510 2019-09-12 16:02:00   2.000000   5.000000\n",
       "29511 2019-09-12 16:03:00   2.000000   5.000000\n",
       "29512 2019-09-12 16:04:00   2.000000   5.000000\n",
       "29513 2019-09-12 16:05:00   2.000000   5.000000\n",
       "29514 2019-09-12 16:06:00   2.000000   5.000000\n",
       "29515 2019-09-12 16:07:00   2.000000   5.000000\n",
       "29516 2019-09-12 16:08:00   2.000000   5.000000\n",
       "29517 2019-09-12 16:09:00   2.000000   5.000000\n",
       "29518 2019-09-12 16:10:00   2.000000   5.000000\n",
       "29519 2019-09-12 16:11:00   2.000000   5.000000\n",
       "29520 2019-09-12 16:12:00   2.000000   5.000000\n",
       "29521 2019-09-12 16:13:00   2.000000   5.000000\n",
       "29522 2019-09-12 16:14:00   2.000000   5.000000\n",
       "29523 2019-09-12 16:15:00   2.000000   5.000000\n",
       "29524 2019-09-12 16:16:00   2.000000   5.000000\n",
       "29525 2019-09-12 16:17:00   2.000000   5.000000\n",
       "29526 2019-09-12 16:18:00   2.000000   5.000000\n",
       "29527 2019-09-12 16:19:00   2.000000   5.000000\n",
       "29528 2019-09-12 16:20:00   2.000000   5.000000\n",
       "29529 2019-09-12 16:21:00   2.000000   5.000000\n",
       "29530 2019-09-12 16:22:00   2.000000   5.000000\n",
       "29531 2019-09-12 16:23:00   2.000000   5.000000\n",
       "29532 2019-09-12 16:24:00   2.000000   5.000000\n",
       "29533 2019-09-12 16:25:00   2.000000   5.000000\n",
       "29534 2019-09-12 16:26:00   2.000000   5.000000\n",
       "31078 2019-09-13 18:10:00   1.000000  30.000000\n",
       "31079 2019-09-13 18:11:00   1.000000  30.000000\n",
       "31080 2019-09-13 18:12:00   1.000000  30.000000\n",
       "31081 2019-09-13 18:13:00   1.000000  30.000000\n",
       "33529 2019-09-15 11:01:00  32.802815  49.649729"
      ]
     },
     "execution_count": 155,
     "metadata": {},
     "output_type": "execute_result"
    }
   ],
   "source": [
    "# Values of data points with heart rate below 50\n",
    "df_5_plot[df_5_plot['hr']<50]"
   ]
  },
  {
   "cell_type": "markdown",
   "metadata": {},
   "source": [
    "##### Above 120 for heart rate"
   ]
  },
  {
   "cell_type": "code",
   "execution_count": 156,
   "metadata": {
    "ExecuteTime": {
     "end_time": "2022-07-18T18:20:38.284277Z",
     "start_time": "2022-07-18T18:20:38.276112Z"
    }
   },
   "outputs": [
    {
     "data": {
      "text/plain": [
       "0"
      ]
     },
     "execution_count": 156,
     "metadata": {},
     "output_type": "execute_result"
    }
   ],
   "source": [
    "# Number of data points with heart rate above 120\n",
    "len(df_5_plot[df_5_plot['hr']>120])"
   ]
  },
  {
   "cell_type": "code",
   "execution_count": 157,
   "metadata": {
    "ExecuteTime": {
     "end_time": "2022-07-18T18:20:38.820319Z",
     "start_time": "2022-07-18T18:20:38.805431Z"
    },
    "scrolled": true
   },
   "outputs": [
    {
     "data": {
      "text/html": [
       "<div>\n",
       "<style scoped>\n",
       "    .dataframe tbody tr th:only-of-type {\n",
       "        vertical-align: middle;\n",
       "    }\n",
       "\n",
       "    .dataframe tbody tr th {\n",
       "        vertical-align: top;\n",
       "    }\n",
       "\n",
       "    .dataframe thead th {\n",
       "        text-align: right;\n",
       "    }\n",
       "</style>\n",
       "<table border=\"1\" class=\"dataframe\">\n",
       "  <thead>\n",
       "    <tr style=\"text-align: right;\">\n",
       "      <th></th>\n",
       "      <th>date_time</th>\n",
       "      <th>rr</th>\n",
       "      <th>hr</th>\n",
       "    </tr>\n",
       "  </thead>\n",
       "  <tbody>\n",
       "  </tbody>\n",
       "</table>\n",
       "</div>"
      ],
      "text/plain": [
       "Empty DataFrame\n",
       "Columns: [date_time, rr, hr]\n",
       "Index: []"
      ]
     },
     "execution_count": 157,
     "metadata": {},
     "output_type": "execute_result"
    }
   ],
   "source": [
    "# Values of data points with heart rate above 120\n",
    "df_5_plot[df_5_plot['hr']>120]"
   ]
  },
  {
   "cell_type": "markdown",
   "metadata": {},
   "source": [
    "#### Respiratory Rate"
   ]
  },
  {
   "cell_type": "markdown",
   "metadata": {},
   "source": [
    "##### Above 26 for respiratory rate"
   ]
  },
  {
   "cell_type": "code",
   "execution_count": 158,
   "metadata": {
    "ExecuteTime": {
     "end_time": "2022-07-18T18:20:39.583412Z",
     "start_time": "2022-07-18T18:20:39.575718Z"
    }
   },
   "outputs": [
    {
     "data": {
      "text/plain": [
       "6"
      ]
     },
     "execution_count": 158,
     "metadata": {},
     "output_type": "execute_result"
    }
   ],
   "source": [
    "# Number of data points with respiration rate above 26\n",
    "len(df_5_plot[df_5_plot['rr']>26])"
   ]
  },
  {
   "cell_type": "code",
   "execution_count": 159,
   "metadata": {
    "ExecuteTime": {
     "end_time": "2022-07-18T18:20:40.116083Z",
     "start_time": "2022-07-18T18:20:40.097347Z"
    },
    "scrolled": false
   },
   "outputs": [
    {
     "data": {
      "text/html": [
       "<div>\n",
       "<style scoped>\n",
       "    .dataframe tbody tr th:only-of-type {\n",
       "        vertical-align: middle;\n",
       "    }\n",
       "\n",
       "    .dataframe tbody tr th {\n",
       "        vertical-align: top;\n",
       "    }\n",
       "\n",
       "    .dataframe thead th {\n",
       "        text-align: right;\n",
       "    }\n",
       "</style>\n",
       "<table border=\"1\" class=\"dataframe\">\n",
       "  <thead>\n",
       "    <tr style=\"text-align: right;\">\n",
       "      <th></th>\n",
       "      <th>date_time</th>\n",
       "      <th>rr</th>\n",
       "      <th>hr</th>\n",
       "    </tr>\n",
       "  </thead>\n",
       "  <tbody>\n",
       "    <tr>\n",
       "      <th>30183</th>\n",
       "      <td>2019-09-13 03:15:00</td>\n",
       "      <td>27.195582</td>\n",
       "      <td>NaN</td>\n",
       "    </tr>\n",
       "    <tr>\n",
       "      <th>32634</th>\n",
       "      <td>2019-09-14 20:06:00</td>\n",
       "      <td>28.348537</td>\n",
       "      <td>57.448970</td>\n",
       "    </tr>\n",
       "    <tr>\n",
       "      <th>32699</th>\n",
       "      <td>2019-09-14 21:11:00</td>\n",
       "      <td>28.695913</td>\n",
       "      <td>NaN</td>\n",
       "    </tr>\n",
       "    <tr>\n",
       "      <th>33529</th>\n",
       "      <td>2019-09-15 11:01:00</td>\n",
       "      <td>32.802815</td>\n",
       "      <td>49.649729</td>\n",
       "    </tr>\n",
       "    <tr>\n",
       "      <th>35013</th>\n",
       "      <td>2019-09-16 11:45:00</td>\n",
       "      <td>28.913073</td>\n",
       "      <td>73.326624</td>\n",
       "    </tr>\n",
       "    <tr>\n",
       "      <th>35346</th>\n",
       "      <td>2019-09-16 17:18:00</td>\n",
       "      <td>28.309407</td>\n",
       "      <td>76.481202</td>\n",
       "    </tr>\n",
       "  </tbody>\n",
       "</table>\n",
       "</div>"
      ],
      "text/plain": [
       "                date_time         rr         hr\n",
       "30183 2019-09-13 03:15:00  27.195582        NaN\n",
       "32634 2019-09-14 20:06:00  28.348537  57.448970\n",
       "32699 2019-09-14 21:11:00  28.695913        NaN\n",
       "33529 2019-09-15 11:01:00  32.802815  49.649729\n",
       "35013 2019-09-16 11:45:00  28.913073  73.326624\n",
       "35346 2019-09-16 17:18:00  28.309407  76.481202"
      ]
     },
     "execution_count": 159,
     "metadata": {},
     "output_type": "execute_result"
    }
   ],
   "source": [
    "# Values of data points with respiration rate above 26\n",
    "df_5_plot[df_5_plot['rr']>26]"
   ]
  },
  {
   "cell_type": "markdown",
   "metadata": {},
   "source": [
    "##### Below 15 for respiratory rate"
   ]
  },
  {
   "cell_type": "code",
   "execution_count": 160,
   "metadata": {
    "ExecuteTime": {
     "end_time": "2022-07-18T18:20:48.102440Z",
     "start_time": "2022-07-18T18:20:48.090541Z"
    }
   },
   "outputs": [
    {
     "data": {
      "text/plain": [
       "536"
      ]
     },
     "execution_count": 160,
     "metadata": {},
     "output_type": "execute_result"
    }
   ],
   "source": [
    "# Number of data points with respiration rate below 15\n",
    "len(df_5_plot[df_5_plot['rr']<15])"
   ]
  },
  {
   "cell_type": "code",
   "execution_count": 161,
   "metadata": {
    "ExecuteTime": {
     "end_time": "2022-07-18T18:20:48.764997Z",
     "start_time": "2022-07-18T18:20:48.742807Z"
    },
    "scrolled": false
   },
   "outputs": [
    {
     "data": {
      "text/html": [
       "<div>\n",
       "<style scoped>\n",
       "    .dataframe tbody tr th:only-of-type {\n",
       "        vertical-align: middle;\n",
       "    }\n",
       "\n",
       "    .dataframe tbody tr th {\n",
       "        vertical-align: top;\n",
       "    }\n",
       "\n",
       "    .dataframe thead th {\n",
       "        text-align: right;\n",
       "    }\n",
       "</style>\n",
       "<table border=\"1\" class=\"dataframe\">\n",
       "  <thead>\n",
       "    <tr style=\"text-align: right;\">\n",
       "      <th></th>\n",
       "      <th>date_time</th>\n",
       "      <th>rr</th>\n",
       "      <th>hr</th>\n",
       "    </tr>\n",
       "  </thead>\n",
       "  <tbody>\n",
       "    <tr>\n",
       "      <th>29208</th>\n",
       "      <td>2019-09-12 11:00:00</td>\n",
       "      <td>13.953206</td>\n",
       "      <td>NaN</td>\n",
       "    </tr>\n",
       "    <tr>\n",
       "      <th>29210</th>\n",
       "      <td>2019-09-12 11:02:00</td>\n",
       "      <td>14.172207</td>\n",
       "      <td>69.050864</td>\n",
       "    </tr>\n",
       "    <tr>\n",
       "      <th>29224</th>\n",
       "      <td>2019-09-12 11:16:00</td>\n",
       "      <td>14.941406</td>\n",
       "      <td>NaN</td>\n",
       "    </tr>\n",
       "    <tr>\n",
       "      <th>29226</th>\n",
       "      <td>2019-09-12 11:18:00</td>\n",
       "      <td>14.891512</td>\n",
       "      <td>NaN</td>\n",
       "    </tr>\n",
       "    <tr>\n",
       "      <th>29227</th>\n",
       "      <td>2019-09-12 11:19:00</td>\n",
       "      <td>14.091675</td>\n",
       "      <td>70.808480</td>\n",
       "    </tr>\n",
       "    <tr>\n",
       "      <th>...</th>\n",
       "      <td>...</td>\n",
       "      <td>...</td>\n",
       "      <td>...</td>\n",
       "    </tr>\n",
       "    <tr>\n",
       "      <th>35870</th>\n",
       "      <td>2019-09-17 02:02:00</td>\n",
       "      <td>2.876420</td>\n",
       "      <td>NaN</td>\n",
       "    </tr>\n",
       "    <tr>\n",
       "      <th>35872</th>\n",
       "      <td>2019-09-17 02:04:00</td>\n",
       "      <td>9.996945</td>\n",
       "      <td>NaN</td>\n",
       "    </tr>\n",
       "    <tr>\n",
       "      <th>35874</th>\n",
       "      <td>2019-09-17 02:06:00</td>\n",
       "      <td>13.190569</td>\n",
       "      <td>78.473772</td>\n",
       "    </tr>\n",
       "    <tr>\n",
       "      <th>35875</th>\n",
       "      <td>2019-09-17 02:07:00</td>\n",
       "      <td>10.667067</td>\n",
       "      <td>73.873197</td>\n",
       "    </tr>\n",
       "    <tr>\n",
       "      <th>35876</th>\n",
       "      <td>2019-09-17 02:08:00</td>\n",
       "      <td>8.311632</td>\n",
       "      <td>63.986545</td>\n",
       "    </tr>\n",
       "  </tbody>\n",
       "</table>\n",
       "<p>536 rows × 3 columns</p>\n",
       "</div>"
      ],
      "text/plain": [
       "                date_time         rr         hr\n",
       "29208 2019-09-12 11:00:00  13.953206        NaN\n",
       "29210 2019-09-12 11:02:00  14.172207  69.050864\n",
       "29224 2019-09-12 11:16:00  14.941406        NaN\n",
       "29226 2019-09-12 11:18:00  14.891512        NaN\n",
       "29227 2019-09-12 11:19:00  14.091675  70.808480\n",
       "...                   ...        ...        ...\n",
       "35870 2019-09-17 02:02:00   2.876420        NaN\n",
       "35872 2019-09-17 02:04:00   9.996945        NaN\n",
       "35874 2019-09-17 02:06:00  13.190569  78.473772\n",
       "35875 2019-09-17 02:07:00  10.667067  73.873197\n",
       "35876 2019-09-17 02:08:00   8.311632  63.986545\n",
       "\n",
       "[536 rows x 3 columns]"
      ]
     },
     "execution_count": 161,
     "metadata": {},
     "output_type": "execute_result"
    }
   ],
   "source": [
    "# Number of data points with respiration rate below 15\n",
    "df_5_plot[df_5_plot['rr']<15]"
   ]
  },
  {
   "cell_type": "markdown",
   "metadata": {},
   "source": [
    "### Mean Values"
   ]
  },
  {
   "cell_type": "code",
   "execution_count": 162,
   "metadata": {
    "ExecuteTime": {
     "end_time": "2022-07-18T18:20:49.869165Z",
     "start_time": "2022-07-18T18:20:49.833046Z"
    },
    "scrolled": true
   },
   "outputs": [
    {
     "data": {
      "text/html": [
       "<div>\n",
       "<style scoped>\n",
       "    .dataframe tbody tr th:only-of-type {\n",
       "        vertical-align: middle;\n",
       "    }\n",
       "\n",
       "    .dataframe tbody tr th {\n",
       "        vertical-align: top;\n",
       "    }\n",
       "\n",
       "    .dataframe thead th {\n",
       "        text-align: right;\n",
       "    }\n",
       "</style>\n",
       "<table border=\"1\" class=\"dataframe\">\n",
       "  <thead>\n",
       "    <tr style=\"text-align: right;\">\n",
       "      <th></th>\n",
       "      <th>count</th>\n",
       "      <th>mean</th>\n",
       "      <th>std</th>\n",
       "      <th>min</th>\n",
       "      <th>25%</th>\n",
       "      <th>50%</th>\n",
       "      <th>75%</th>\n",
       "      <th>max</th>\n",
       "    </tr>\n",
       "  </thead>\n",
       "  <tbody>\n",
       "    <tr>\n",
       "      <th>rr</th>\n",
       "      <td>3080.0</td>\n",
       "      <td>17.600789</td>\n",
       "      <td>4.111022</td>\n",
       "      <td>0.077388</td>\n",
       "      <td>16.398954</td>\n",
       "      <td>18.583287</td>\n",
       "      <td>19.840082</td>\n",
       "      <td>32.802815</td>\n",
       "    </tr>\n",
       "    <tr>\n",
       "      <th>hr</th>\n",
       "      <td>2336.0</td>\n",
       "      <td>69.102142</td>\n",
       "      <td>11.155356</td>\n",
       "      <td>5.000000</td>\n",
       "      <td>63.323743</td>\n",
       "      <td>68.780616</td>\n",
       "      <td>74.414714</td>\n",
       "      <td>97.349330</td>\n",
       "    </tr>\n",
       "  </tbody>\n",
       "</table>\n",
       "</div>"
      ],
      "text/plain": [
       "     count       mean        std       min        25%        50%        75%  \\\n",
       "rr  3080.0  17.600789   4.111022  0.077388  16.398954  18.583287  19.840082   \n",
       "hr  2336.0  69.102142  11.155356  5.000000  63.323743  68.780616  74.414714   \n",
       "\n",
       "          max  \n",
       "rr  32.802815  \n",
       "hr  97.349330  "
      ]
     },
     "execution_count": 162,
     "metadata": {},
     "output_type": "execute_result"
    }
   ],
   "source": [
    "df_5_plot.describe().transpose()"
   ]
  },
  {
   "cell_type": "markdown",
   "metadata": {},
   "source": [
    "#### Summary:\n",
    "* This patient has a one incidence where heart rate and respiration rate drop at the same time.\n",
    "* I would want the warning indicator model to alert attendees for a check-in at that time."
   ]
  },
  {
   "cell_type": "markdown",
   "metadata": {},
   "source": [
    "# Test Alert Options"
   ]
  },
  {
   "cell_type": "markdown",
   "metadata": {},
   "source": [
    "## Moving Average Data Frame"
   ]
  },
  {
   "cell_type": "code",
   "execution_count": 274,
   "metadata": {
    "ExecuteTime": {
     "end_time": "2022-07-18T20:19:12.270990Z",
     "start_time": "2022-07-18T20:19:12.264753Z"
    }
   },
   "outputs": [],
   "source": [
    "# Make copy of df_present\n",
    "df_MA = df_present.copy()"
   ]
  },
  {
   "cell_type": "markdown",
   "metadata": {},
   "source": [
    "### Immediate Danger Indicators\n",
    "* Resuscitation possible in this scenario"
   ]
  },
  {
   "cell_type": "code",
   "execution_count": 275,
   "metadata": {
    "ExecuteTime": {
     "end_time": "2022-07-18T20:19:13.348655Z",
     "start_time": "2022-07-18T20:19:13.327208Z"
    }
   },
   "outputs": [],
   "source": [
    "# 3 Minute moving average for rr and hr\n",
    "df_MA['rr_MA_3_min'] = df_MA['rr'].rolling(window=3,min_periods=3).mean()\n",
    "df_MA['hr_MA_3_min'] = df_MA['hr'].rolling(window=3,min_periods=3).mean()"
   ]
  },
  {
   "cell_type": "markdown",
   "metadata": {},
   "source": [
    "### Recommend Doctor's Visit\n",
    "* Respiratory rate too high or too low over 1 day period.\n",
    "    * Likelihood of respiratory, urinary, or other infection higher than normal."
   ]
  },
  {
   "cell_type": "code",
   "execution_count": 294,
   "metadata": {
    "ExecuteTime": {
     "end_time": "2022-07-18T20:24:04.334450Z",
     "start_time": "2022-07-18T20:24:04.291117Z"
    }
   },
   "outputs": [
    {
     "data": {
      "text/html": [
       "<div>\n",
       "<style scoped>\n",
       "    .dataframe tbody tr th:only-of-type {\n",
       "        vertical-align: middle;\n",
       "    }\n",
       "\n",
       "    .dataframe tbody tr th {\n",
       "        vertical-align: top;\n",
       "    }\n",
       "\n",
       "    .dataframe thead th {\n",
       "        text-align: right;\n",
       "    }\n",
       "</style>\n",
       "<table border=\"1\" class=\"dataframe\">\n",
       "  <thead>\n",
       "    <tr style=\"text-align: right;\">\n",
       "      <th></th>\n",
       "      <th>in_room</th>\n",
       "      <th>rr</th>\n",
       "      <th>hr</th>\n",
       "      <th>ts</th>\n",
       "      <th>user_id</th>\n",
       "      <th>rr_MA_3_min</th>\n",
       "      <th>hr_MA_3_min</th>\n",
       "      <th>rr_MA_1_day</th>\n",
       "    </tr>\n",
       "  </thead>\n",
       "  <tbody>\n",
       "    <tr>\n",
       "      <th>314</th>\n",
       "      <td>1</td>\n",
       "      <td>5.252827</td>\n",
       "      <td>92.413238</td>\n",
       "      <td>2019-03-20 08:14:00</td>\n",
       "      <td>1</td>\n",
       "      <td>NaN</td>\n",
       "      <td>NaN</td>\n",
       "      <td>NaN</td>\n",
       "    </tr>\n",
       "    <tr>\n",
       "      <th>315</th>\n",
       "      <td>1</td>\n",
       "      <td>NaN</td>\n",
       "      <td>90.451836</td>\n",
       "      <td>2019-03-20 08:15:00</td>\n",
       "      <td>1</td>\n",
       "      <td>NaN</td>\n",
       "      <td>NaN</td>\n",
       "      <td>NaN</td>\n",
       "    </tr>\n",
       "    <tr>\n",
       "      <th>316</th>\n",
       "      <td>1</td>\n",
       "      <td>NaN</td>\n",
       "      <td>NaN</td>\n",
       "      <td>2019-03-20 08:16:00</td>\n",
       "      <td>1</td>\n",
       "      <td>NaN</td>\n",
       "      <td>NaN</td>\n",
       "      <td>NaN</td>\n",
       "    </tr>\n",
       "    <tr>\n",
       "      <th>318</th>\n",
       "      <td>1</td>\n",
       "      <td>8.180480</td>\n",
       "      <td>NaN</td>\n",
       "      <td>2019-03-20 08:18:00</td>\n",
       "      <td>1</td>\n",
       "      <td>NaN</td>\n",
       "      <td>NaN</td>\n",
       "      <td>NaN</td>\n",
       "    </tr>\n",
       "    <tr>\n",
       "      <th>319</th>\n",
       "      <td>1</td>\n",
       "      <td>18.764710</td>\n",
       "      <td>NaN</td>\n",
       "      <td>2019-03-20 08:19:00</td>\n",
       "      <td>1</td>\n",
       "      <td>NaN</td>\n",
       "      <td>NaN</td>\n",
       "      <td>NaN</td>\n",
       "    </tr>\n",
       "    <tr>\n",
       "      <th>...</th>\n",
       "      <td>...</td>\n",
       "      <td>...</td>\n",
       "      <td>...</td>\n",
       "      <td>...</td>\n",
       "      <td>...</td>\n",
       "      <td>...</td>\n",
       "      <td>...</td>\n",
       "      <td>...</td>\n",
       "    </tr>\n",
       "    <tr>\n",
       "      <th>35875</th>\n",
       "      <td>1</td>\n",
       "      <td>10.667067</td>\n",
       "      <td>73.873197</td>\n",
       "      <td>2019-09-17 02:07:00</td>\n",
       "      <td>5</td>\n",
       "      <td>15.833669</td>\n",
       "      <td>NaN</td>\n",
       "      <td>17.333498</td>\n",
       "    </tr>\n",
       "    <tr>\n",
       "      <th>35876</th>\n",
       "      <td>1</td>\n",
       "      <td>8.311632</td>\n",
       "      <td>63.986545</td>\n",
       "      <td>2019-09-17 02:08:00</td>\n",
       "      <td>5</td>\n",
       "      <td>10.723089</td>\n",
       "      <td>72.111172</td>\n",
       "      <td>17.326064</td>\n",
       "    </tr>\n",
       "    <tr>\n",
       "      <th>35877</th>\n",
       "      <td>1</td>\n",
       "      <td>NaN</td>\n",
       "      <td>NaN</td>\n",
       "      <td>2019-09-17 02:09:00</td>\n",
       "      <td>5</td>\n",
       "      <td>NaN</td>\n",
       "      <td>NaN</td>\n",
       "      <td>17.324765</td>\n",
       "    </tr>\n",
       "    <tr>\n",
       "      <th>35878</th>\n",
       "      <td>1</td>\n",
       "      <td>NaN</td>\n",
       "      <td>NaN</td>\n",
       "      <td>2019-09-17 02:10:00</td>\n",
       "      <td>5</td>\n",
       "      <td>NaN</td>\n",
       "      <td>NaN</td>\n",
       "      <td>17.324017</td>\n",
       "    </tr>\n",
       "    <tr>\n",
       "      <th>35879</th>\n",
       "      <td>1</td>\n",
       "      <td>NaN</td>\n",
       "      <td>93.320312</td>\n",
       "      <td>2019-09-17 02:11:00</td>\n",
       "      <td>5</td>\n",
       "      <td>NaN</td>\n",
       "      <td>NaN</td>\n",
       "      <td>17.322458</td>\n",
       "    </tr>\n",
       "  </tbody>\n",
       "</table>\n",
       "<p>22004 rows × 8 columns</p>\n",
       "</div>"
      ],
      "text/plain": [
       "       in_room         rr         hr                   ts  user_id  \\\n",
       "314          1   5.252827  92.413238  2019-03-20 08:14:00        1   \n",
       "315          1        NaN  90.451836  2019-03-20 08:15:00        1   \n",
       "316          1        NaN        NaN  2019-03-20 08:16:00        1   \n",
       "318          1   8.180480        NaN  2019-03-20 08:18:00        1   \n",
       "319          1  18.764710        NaN  2019-03-20 08:19:00        1   \n",
       "...        ...        ...        ...                  ...      ...   \n",
       "35875        1  10.667067  73.873197  2019-09-17 02:07:00        5   \n",
       "35876        1   8.311632  63.986545  2019-09-17 02:08:00        5   \n",
       "35877        1        NaN        NaN  2019-09-17 02:09:00        5   \n",
       "35878        1        NaN        NaN  2019-09-17 02:10:00        5   \n",
       "35879        1        NaN  93.320312  2019-09-17 02:11:00        5   \n",
       "\n",
       "       rr_MA_3_min  hr_MA_3_min  rr_MA_1_day  \n",
       "314            NaN          NaN          NaN  \n",
       "315            NaN          NaN          NaN  \n",
       "316            NaN          NaN          NaN  \n",
       "318            NaN          NaN          NaN  \n",
       "319            NaN          NaN          NaN  \n",
       "...            ...          ...          ...  \n",
       "35875    15.833669          NaN    17.333498  \n",
       "35876    10.723089    72.111172    17.326064  \n",
       "35877          NaN          NaN    17.324765  \n",
       "35878          NaN          NaN    17.324017  \n",
       "35879          NaN          NaN    17.322458  \n",
       "\n",
       "[22004 rows x 8 columns]"
      ]
     },
     "execution_count": 294,
     "metadata": {},
     "output_type": "execute_result"
    }
   ],
   "source": [
    "# Check dataframe\n",
    "df_MA"
   ]
  },
  {
   "cell_type": "markdown",
   "metadata": {},
   "source": [
    "### Define rolling function\n",
    "* To allow application with groupby()"
   ]
  },
  {
   "cell_type": "code",
   "execution_count": 304,
   "metadata": {
    "ExecuteTime": {
     "end_time": "2022-07-18T20:26:53.231063Z",
     "start_time": "2022-07-18T20:26:53.214885Z"
    }
   },
   "outputs": [],
   "source": [
    "# Define rolling function\n",
    "def day_rolling(df):\n",
    "    df['rr_MA_1_day'] = df['rr'].rolling(window=1440,min_periods=1000).mean()\n",
    "    return df"
   ]
  },
  {
   "cell_type": "markdown",
   "metadata": {},
   "source": [
    "### Group by User ID for Rolling Mean"
   ]
  },
  {
   "cell_type": "code",
   "execution_count": 305,
   "metadata": {
    "ExecuteTime": {
     "end_time": "2022-07-18T20:26:53.853000Z",
     "start_time": "2022-07-18T20:26:53.814375Z"
    }
   },
   "outputs": [],
   "source": [
    "# Apply function with groupby \n",
    "df_MA = df_MA.groupby(\"user_id\").apply(day_rolling)\n",
    "#df_MA"
   ]
  },
  {
   "cell_type": "code",
   "execution_count": 306,
   "metadata": {
    "ExecuteTime": {
     "end_time": "2022-07-18T20:26:54.233098Z",
     "start_time": "2022-07-18T20:26:54.193147Z"
    }
   },
   "outputs": [
    {
     "data": {
      "text/html": [
       "<div>\n",
       "<style scoped>\n",
       "    .dataframe tbody tr th:only-of-type {\n",
       "        vertical-align: middle;\n",
       "    }\n",
       "\n",
       "    .dataframe tbody tr th {\n",
       "        vertical-align: top;\n",
       "    }\n",
       "\n",
       "    .dataframe thead th {\n",
       "        text-align: right;\n",
       "    }\n",
       "</style>\n",
       "<table border=\"1\" class=\"dataframe\">\n",
       "  <thead>\n",
       "    <tr style=\"text-align: right;\">\n",
       "      <th></th>\n",
       "      <th>in_room</th>\n",
       "      <th>rr</th>\n",
       "      <th>hr</th>\n",
       "      <th>ts</th>\n",
       "      <th>user_id</th>\n",
       "      <th>rr_MA_3_min</th>\n",
       "      <th>hr_MA_3_min</th>\n",
       "      <th>rr_MA_1_day</th>\n",
       "    </tr>\n",
       "  </thead>\n",
       "  <tbody>\n",
       "    <tr>\n",
       "      <th>2472</th>\n",
       "      <td>1</td>\n",
       "      <td>14.529305</td>\n",
       "      <td>60.767311</td>\n",
       "      <td>2019-03-21 20:12:00</td>\n",
       "      <td>1</td>\n",
       "      <td>14.693159</td>\n",
       "      <td>NaN</td>\n",
       "      <td>15.241935</td>\n",
       "    </tr>\n",
       "    <tr>\n",
       "      <th>2473</th>\n",
       "      <td>1</td>\n",
       "      <td>16.631799</td>\n",
       "      <td>71.249019</td>\n",
       "      <td>2019-03-21 20:13:00</td>\n",
       "      <td>1</td>\n",
       "      <td>15.077586</td>\n",
       "      <td>NaN</td>\n",
       "      <td>15.243324</td>\n",
       "    </tr>\n",
       "    <tr>\n",
       "      <th>2474</th>\n",
       "      <td>1</td>\n",
       "      <td>13.853410</td>\n",
       "      <td>64.929655</td>\n",
       "      <td>2019-03-21 20:14:00</td>\n",
       "      <td>1</td>\n",
       "      <td>15.004838</td>\n",
       "      <td>65.648662</td>\n",
       "      <td>15.241936</td>\n",
       "    </tr>\n",
       "    <tr>\n",
       "      <th>2475</th>\n",
       "      <td>1</td>\n",
       "      <td>16.151281</td>\n",
       "      <td>63.541122</td>\n",
       "      <td>2019-03-21 20:15:00</td>\n",
       "      <td>1</td>\n",
       "      <td>15.545497</td>\n",
       "      <td>66.573265</td>\n",
       "      <td>15.242843</td>\n",
       "    </tr>\n",
       "    <tr>\n",
       "      <th>2476</th>\n",
       "      <td>1</td>\n",
       "      <td>19.698424</td>\n",
       "      <td>NaN</td>\n",
       "      <td>2019-03-21 20:16:00</td>\n",
       "      <td>1</td>\n",
       "      <td>16.567705</td>\n",
       "      <td>NaN</td>\n",
       "      <td>15.247281</td>\n",
       "    </tr>\n",
       "    <tr>\n",
       "      <th>...</th>\n",
       "      <td>...</td>\n",
       "      <td>...</td>\n",
       "      <td>...</td>\n",
       "      <td>...</td>\n",
       "      <td>...</td>\n",
       "      <td>...</td>\n",
       "      <td>...</td>\n",
       "      <td>...</td>\n",
       "    </tr>\n",
       "    <tr>\n",
       "      <th>35875</th>\n",
       "      <td>1</td>\n",
       "      <td>10.667067</td>\n",
       "      <td>73.873197</td>\n",
       "      <td>2019-09-17 02:07:00</td>\n",
       "      <td>5</td>\n",
       "      <td>15.833669</td>\n",
       "      <td>NaN</td>\n",
       "      <td>17.333498</td>\n",
       "    </tr>\n",
       "    <tr>\n",
       "      <th>35876</th>\n",
       "      <td>1</td>\n",
       "      <td>8.311632</td>\n",
       "      <td>63.986545</td>\n",
       "      <td>2019-09-17 02:08:00</td>\n",
       "      <td>5</td>\n",
       "      <td>10.723089</td>\n",
       "      <td>72.111172</td>\n",
       "      <td>17.326064</td>\n",
       "    </tr>\n",
       "    <tr>\n",
       "      <th>35877</th>\n",
       "      <td>1</td>\n",
       "      <td>NaN</td>\n",
       "      <td>NaN</td>\n",
       "      <td>2019-09-17 02:09:00</td>\n",
       "      <td>5</td>\n",
       "      <td>NaN</td>\n",
       "      <td>NaN</td>\n",
       "      <td>17.324765</td>\n",
       "    </tr>\n",
       "    <tr>\n",
       "      <th>35878</th>\n",
       "      <td>1</td>\n",
       "      <td>NaN</td>\n",
       "      <td>NaN</td>\n",
       "      <td>2019-09-17 02:10:00</td>\n",
       "      <td>5</td>\n",
       "      <td>NaN</td>\n",
       "      <td>NaN</td>\n",
       "      <td>17.324017</td>\n",
       "    </tr>\n",
       "    <tr>\n",
       "      <th>35879</th>\n",
       "      <td>1</td>\n",
       "      <td>NaN</td>\n",
       "      <td>93.320312</td>\n",
       "      <td>2019-09-17 02:11:00</td>\n",
       "      <td>5</td>\n",
       "      <td>NaN</td>\n",
       "      <td>NaN</td>\n",
       "      <td>17.322458</td>\n",
       "    </tr>\n",
       "  </tbody>\n",
       "</table>\n",
       "<p>16568 rows × 8 columns</p>\n",
       "</div>"
      ],
      "text/plain": [
       "       in_room         rr         hr                   ts  user_id  \\\n",
       "2472         1  14.529305  60.767311  2019-03-21 20:12:00        1   \n",
       "2473         1  16.631799  71.249019  2019-03-21 20:13:00        1   \n",
       "2474         1  13.853410  64.929655  2019-03-21 20:14:00        1   \n",
       "2475         1  16.151281  63.541122  2019-03-21 20:15:00        1   \n",
       "2476         1  19.698424        NaN  2019-03-21 20:16:00        1   \n",
       "...        ...        ...        ...                  ...      ...   \n",
       "35875        1  10.667067  73.873197  2019-09-17 02:07:00        5   \n",
       "35876        1   8.311632  63.986545  2019-09-17 02:08:00        5   \n",
       "35877        1        NaN        NaN  2019-09-17 02:09:00        5   \n",
       "35878        1        NaN        NaN  2019-09-17 02:10:00        5   \n",
       "35879        1        NaN  93.320312  2019-09-17 02:11:00        5   \n",
       "\n",
       "       rr_MA_3_min  hr_MA_3_min  rr_MA_1_day  \n",
       "2472     14.693159          NaN    15.241935  \n",
       "2473     15.077586          NaN    15.243324  \n",
       "2474     15.004838    65.648662    15.241936  \n",
       "2475     15.545497    66.573265    15.242843  \n",
       "2476     16.567705          NaN    15.247281  \n",
       "...            ...          ...          ...  \n",
       "35875    15.833669          NaN    17.333498  \n",
       "35876    10.723089    72.111172    17.326064  \n",
       "35877          NaN          NaN    17.324765  \n",
       "35878          NaN          NaN    17.324017  \n",
       "35879          NaN          NaN    17.322458  \n",
       "\n",
       "[16568 rows x 8 columns]"
      ]
     },
     "execution_count": 306,
     "metadata": {},
     "output_type": "execute_result"
    }
   ],
   "source": [
    "df_MA[df_MA['rr_MA_1_day']>0]"
   ]
  },
  {
   "cell_type": "markdown",
   "metadata": {},
   "source": [
    "## Check Plot of Moving Averages"
   ]
  },
  {
   "cell_type": "code",
   "execution_count": 324,
   "metadata": {
    "ExecuteTime": {
     "end_time": "2022-07-18T20:32:19.019826Z",
     "start_time": "2022-07-18T20:32:18.530576Z"
    }
   },
   "outputs": [
    {
     "data": {
      "image/png": "[encoded data removed]",
      "text/plain": [
       "<Figure size 1080x576 with 1 Axes>"
      ]
     },
     "metadata": {
      "needs_background": "light"
     },
     "output_type": "display_data"
    }
   ],
   "source": [
    "# Select Patient 2\n",
    "df_MA_plot = df_MA.loc[df_MA['user_id'] == 1]\n",
    "\n",
    "# Convert timestampe to datetime\n",
    "df_MA_plot['date_time'] = pd.to_datetime(df_MA_plot.ts)\n",
    "\n",
    "df_MA_plot = df_MA_plot.set_index('date_time')\n",
    "\n",
    "# Copy DataFrame and Select Heart Rate column\n",
    "df_MA_plot = df_MA_plot.iloc[:, [1,5,7]]\n",
    "\n",
    "# Plot the timeseries \n",
    "pd.plotting.register_matplotlib_converters()\n",
    "ax = df_MA_plot.plot(figsize=(15, 8), linewidth=1, alpha=0.5)\n",
    "ax.set_ylabel('Heart Rate')\n",
    "ax.set_xlabel('Date')\n",
    "\n",
    "plt.show()"
   ]
  },
  {
   "cell_type": "markdown",
   "metadata": {},
   "source": [
    "## Alert Features"
   ]
  },
  {
   "cell_type": "markdown",
   "metadata": {},
   "source": [
    "### Emergency Alert"
   ]
  },
  {
   "cell_type": "code",
   "execution_count": 311,
   "metadata": {
    "ExecuteTime": {
     "end_time": "2022-07-18T20:28:26.274382Z",
     "start_time": "2022-07-18T20:28:26.258664Z"
    }
   },
   "outputs": [],
   "source": [
    "df_MA_Alert = df_MA.copy()"
   ]
  },
  {
   "cell_type": "code",
   "execution_count": 312,
   "metadata": {
    "ExecuteTime": {
     "end_time": "2022-07-18T20:28:26.818367Z",
     "start_time": "2022-07-18T20:28:26.791412Z"
    }
   },
   "outputs": [
    {
     "data": {
      "text/html": [
       "<div>\n",
       "<style scoped>\n",
       "    .dataframe tbody tr th:only-of-type {\n",
       "        vertical-align: middle;\n",
       "    }\n",
       "\n",
       "    .dataframe tbody tr th {\n",
       "        vertical-align: top;\n",
       "    }\n",
       "\n",
       "    .dataframe thead th {\n",
       "        text-align: right;\n",
       "    }\n",
       "</style>\n",
       "<table border=\"1\" class=\"dataframe\">\n",
       "  <thead>\n",
       "    <tr style=\"text-align: right;\">\n",
       "      <th></th>\n",
       "      <th>in_room</th>\n",
       "      <th>rr</th>\n",
       "      <th>hr</th>\n",
       "      <th>ts</th>\n",
       "      <th>user_id</th>\n",
       "      <th>rr_MA_3_min</th>\n",
       "      <th>hr_MA_3_min</th>\n",
       "      <th>rr_MA_1_day</th>\n",
       "    </tr>\n",
       "  </thead>\n",
       "  <tbody>\n",
       "    <tr>\n",
       "      <th>314</th>\n",
       "      <td>1</td>\n",
       "      <td>5.252827</td>\n",
       "      <td>92.413238</td>\n",
       "      <td>2019-03-20 08:14:00</td>\n",
       "      <td>1</td>\n",
       "      <td>NaN</td>\n",
       "      <td>NaN</td>\n",
       "      <td>NaN</td>\n",
       "    </tr>\n",
       "    <tr>\n",
       "      <th>315</th>\n",
       "      <td>1</td>\n",
       "      <td>NaN</td>\n",
       "      <td>90.451836</td>\n",
       "      <td>2019-03-20 08:15:00</td>\n",
       "      <td>1</td>\n",
       "      <td>NaN</td>\n",
       "      <td>NaN</td>\n",
       "      <td>NaN</td>\n",
       "    </tr>\n",
       "    <tr>\n",
       "      <th>316</th>\n",
       "      <td>1</td>\n",
       "      <td>NaN</td>\n",
       "      <td>NaN</td>\n",
       "      <td>2019-03-20 08:16:00</td>\n",
       "      <td>1</td>\n",
       "      <td>NaN</td>\n",
       "      <td>NaN</td>\n",
       "      <td>NaN</td>\n",
       "    </tr>\n",
       "    <tr>\n",
       "      <th>318</th>\n",
       "      <td>1</td>\n",
       "      <td>8.180480</td>\n",
       "      <td>NaN</td>\n",
       "      <td>2019-03-20 08:18:00</td>\n",
       "      <td>1</td>\n",
       "      <td>NaN</td>\n",
       "      <td>NaN</td>\n",
       "      <td>NaN</td>\n",
       "    </tr>\n",
       "    <tr>\n",
       "      <th>319</th>\n",
       "      <td>1</td>\n",
       "      <td>18.764710</td>\n",
       "      <td>NaN</td>\n",
       "      <td>2019-03-20 08:19:00</td>\n",
       "      <td>1</td>\n",
       "      <td>NaN</td>\n",
       "      <td>NaN</td>\n",
       "      <td>NaN</td>\n",
       "    </tr>\n",
       "    <tr>\n",
       "      <th>...</th>\n",
       "      <td>...</td>\n",
       "      <td>...</td>\n",
       "      <td>...</td>\n",
       "      <td>...</td>\n",
       "      <td>...</td>\n",
       "      <td>...</td>\n",
       "      <td>...</td>\n",
       "      <td>...</td>\n",
       "    </tr>\n",
       "    <tr>\n",
       "      <th>35875</th>\n",
       "      <td>1</td>\n",
       "      <td>10.667067</td>\n",
       "      <td>73.873197</td>\n",
       "      <td>2019-09-17 02:07:00</td>\n",
       "      <td>5</td>\n",
       "      <td>15.833669</td>\n",
       "      <td>NaN</td>\n",
       "      <td>17.333498</td>\n",
       "    </tr>\n",
       "    <tr>\n",
       "      <th>35876</th>\n",
       "      <td>1</td>\n",
       "      <td>8.311632</td>\n",
       "      <td>63.986545</td>\n",
       "      <td>2019-09-17 02:08:00</td>\n",
       "      <td>5</td>\n",
       "      <td>10.723089</td>\n",
       "      <td>72.111172</td>\n",
       "      <td>17.326064</td>\n",
       "    </tr>\n",
       "    <tr>\n",
       "      <th>35877</th>\n",
       "      <td>1</td>\n",
       "      <td>NaN</td>\n",
       "      <td>NaN</td>\n",
       "      <td>2019-09-17 02:09:00</td>\n",
       "      <td>5</td>\n",
       "      <td>NaN</td>\n",
       "      <td>NaN</td>\n",
       "      <td>17.324765</td>\n",
       "    </tr>\n",
       "    <tr>\n",
       "      <th>35878</th>\n",
       "      <td>1</td>\n",
       "      <td>NaN</td>\n",
       "      <td>NaN</td>\n",
       "      <td>2019-09-17 02:10:00</td>\n",
       "      <td>5</td>\n",
       "      <td>NaN</td>\n",
       "      <td>NaN</td>\n",
       "      <td>17.324017</td>\n",
       "    </tr>\n",
       "    <tr>\n",
       "      <th>35879</th>\n",
       "      <td>1</td>\n",
       "      <td>NaN</td>\n",
       "      <td>93.320312</td>\n",
       "      <td>2019-09-17 02:11:00</td>\n",
       "      <td>5</td>\n",
       "      <td>NaN</td>\n",
       "      <td>NaN</td>\n",
       "      <td>17.322458</td>\n",
       "    </tr>\n",
       "  </tbody>\n",
       "</table>\n",
       "<p>22004 rows × 8 columns</p>\n",
       "</div>"
      ],
      "text/plain": [
       "       in_room         rr         hr                   ts  user_id  \\\n",
       "314          1   5.252827  92.413238  2019-03-20 08:14:00        1   \n",
       "315          1        NaN  90.451836  2019-03-20 08:15:00        1   \n",
       "316          1        NaN        NaN  2019-03-20 08:16:00        1   \n",
       "318          1   8.180480        NaN  2019-03-20 08:18:00        1   \n",
       "319          1  18.764710        NaN  2019-03-20 08:19:00        1   \n",
       "...        ...        ...        ...                  ...      ...   \n",
       "35875        1  10.667067  73.873197  2019-09-17 02:07:00        5   \n",
       "35876        1   8.311632  63.986545  2019-09-17 02:08:00        5   \n",
       "35877        1        NaN        NaN  2019-09-17 02:09:00        5   \n",
       "35878        1        NaN        NaN  2019-09-17 02:10:00        5   \n",
       "35879        1        NaN  93.320312  2019-09-17 02:11:00        5   \n",
       "\n",
       "       rr_MA_3_min  hr_MA_3_min  rr_MA_1_day  \n",
       "314            NaN          NaN          NaN  \n",
       "315            NaN          NaN          NaN  \n",
       "316            NaN          NaN          NaN  \n",
       "318            NaN          NaN          NaN  \n",
       "319            NaN          NaN          NaN  \n",
       "...            ...          ...          ...  \n",
       "35875    15.833669          NaN    17.333498  \n",
       "35876    10.723089    72.111172    17.326064  \n",
       "35877          NaN          NaN    17.324765  \n",
       "35878          NaN          NaN    17.324017  \n",
       "35879          NaN          NaN    17.322458  \n",
       "\n",
       "[22004 rows x 8 columns]"
      ]
     },
     "execution_count": 312,
     "metadata": {},
     "output_type": "execute_result"
    }
   ],
   "source": [
    "df_MA_Alert"
   ]
  },
  {
   "cell_type": "code",
   "execution_count": 313,
   "metadata": {
    "ExecuteTime": {
     "end_time": "2022-07-18T20:28:29.306204Z",
     "start_time": "2022-07-18T20:28:29.248932Z"
    }
   },
   "outputs": [],
   "source": [
    "conditions = [\n",
    "    (df_MA_Alert['rr_MA_3_min'] > 32),\n",
    "    (df_MA_Alert['rr_MA_3_min'] < 12),\n",
    "    ]\n",
    "\n",
    "values = ['Orange', 'Orange']\n",
    "\n",
    "df_MA_Alert['RR_Alert'] = np.select(conditions, values)"
   ]
  },
  {
   "cell_type": "code",
   "execution_count": 314,
   "metadata": {
    "ExecuteTime": {
     "end_time": "2022-07-18T20:28:29.601829Z",
     "start_time": "2022-07-18T20:28:29.588530Z"
    }
   },
   "outputs": [],
   "source": [
    "conditions = [\n",
    "    (df_MA_Alert['hr_MA_3_min'] > 110),\n",
    "    (df_MA_Alert['hr_MA_3_min'] < 50)\n",
    "    ]\n",
    "\n",
    "values = ['Orange', 'Orange']\n",
    "\n",
    "df_MA_Alert['HR_Alert'] = np.select(conditions, values)"
   ]
  },
  {
   "cell_type": "code",
   "execution_count": 315,
   "metadata": {
    "ExecuteTime": {
     "end_time": "2022-07-18T20:28:29.906658Z",
     "start_time": "2022-07-18T20:28:29.891232Z"
    }
   },
   "outputs": [],
   "source": [
    "conditions = [\n",
    "    (df_MA_Alert['RR_Alert'] == 'Orange') & (df_MA_Alert['HR_Alert'] == 'Orange'),\n",
    "    ]\n",
    "\n",
    "values = ['Red']\n",
    "\n",
    "df_MA_Alert['Red_Alert'] = np.select(conditions, values)"
   ]
  },
  {
   "cell_type": "code",
   "execution_count": 316,
   "metadata": {
    "ExecuteTime": {
     "end_time": "2022-07-18T20:28:30.263356Z",
     "start_time": "2022-07-18T20:28:30.218230Z"
    }
   },
   "outputs": [
    {
     "data": {
      "text/html": [
       "<div>\n",
       "<style scoped>\n",
       "    .dataframe tbody tr th:only-of-type {\n",
       "        vertical-align: middle;\n",
       "    }\n",
       "\n",
       "    .dataframe tbody tr th {\n",
       "        vertical-align: top;\n",
       "    }\n",
       "\n",
       "    .dataframe thead th {\n",
       "        text-align: right;\n",
       "    }\n",
       "</style>\n",
       "<table border=\"1\" class=\"dataframe\">\n",
       "  <thead>\n",
       "    <tr style=\"text-align: right;\">\n",
       "      <th></th>\n",
       "      <th>in_room</th>\n",
       "      <th>rr</th>\n",
       "      <th>hr</th>\n",
       "      <th>ts</th>\n",
       "      <th>user_id</th>\n",
       "      <th>rr_MA_3_min</th>\n",
       "      <th>hr_MA_3_min</th>\n",
       "      <th>rr_MA_1_day</th>\n",
       "      <th>RR_Alert</th>\n",
       "      <th>HR_Alert</th>\n",
       "      <th>Red_Alert</th>\n",
       "    </tr>\n",
       "  </thead>\n",
       "  <tbody>\n",
       "    <tr>\n",
       "      <th>841</th>\n",
       "      <td>1</td>\n",
       "      <td>5.000000</td>\n",
       "      <td>30.00000</td>\n",
       "      <td>2019-03-20 17:01:00</td>\n",
       "      <td>1</td>\n",
       "      <td>8.436181</td>\n",
       "      <td>40.863001</td>\n",
       "      <td>NaN</td>\n",
       "      <td>Orange</td>\n",
       "      <td>Orange</td>\n",
       "      <td>Red</td>\n",
       "    </tr>\n",
       "    <tr>\n",
       "      <th>842</th>\n",
       "      <td>1</td>\n",
       "      <td>5.000000</td>\n",
       "      <td>30.00000</td>\n",
       "      <td>2019-03-20 17:02:00</td>\n",
       "      <td>1</td>\n",
       "      <td>5.000000</td>\n",
       "      <td>30.000000</td>\n",
       "      <td>NaN</td>\n",
       "      <td>Orange</td>\n",
       "      <td>Orange</td>\n",
       "      <td>Red</td>\n",
       "    </tr>\n",
       "    <tr>\n",
       "      <th>843</th>\n",
       "      <td>1</td>\n",
       "      <td>5.000000</td>\n",
       "      <td>30.00000</td>\n",
       "      <td>2019-03-20 17:03:00</td>\n",
       "      <td>1</td>\n",
       "      <td>5.000000</td>\n",
       "      <td>30.000000</td>\n",
       "      <td>NaN</td>\n",
       "      <td>Orange</td>\n",
       "      <td>Orange</td>\n",
       "      <td>Red</td>\n",
       "    </tr>\n",
       "    <tr>\n",
       "      <th>844</th>\n",
       "      <td>1</td>\n",
       "      <td>5.000000</td>\n",
       "      <td>30.00000</td>\n",
       "      <td>2019-03-20 17:04:00</td>\n",
       "      <td>1</td>\n",
       "      <td>5.000000</td>\n",
       "      <td>30.000000</td>\n",
       "      <td>NaN</td>\n",
       "      <td>Orange</td>\n",
       "      <td>Orange</td>\n",
       "      <td>Red</td>\n",
       "    </tr>\n",
       "    <tr>\n",
       "      <th>845</th>\n",
       "      <td>1</td>\n",
       "      <td>5.000000</td>\n",
       "      <td>30.00000</td>\n",
       "      <td>2019-03-20 17:05:00</td>\n",
       "      <td>1</td>\n",
       "      <td>5.000000</td>\n",
       "      <td>30.000000</td>\n",
       "      <td>NaN</td>\n",
       "      <td>Orange</td>\n",
       "      <td>Orange</td>\n",
       "      <td>Red</td>\n",
       "    </tr>\n",
       "    <tr>\n",
       "      <th>...</th>\n",
       "      <td>...</td>\n",
       "      <td>...</td>\n",
       "      <td>...</td>\n",
       "      <td>...</td>\n",
       "      <td>...</td>\n",
       "      <td>...</td>\n",
       "      <td>...</td>\n",
       "      <td>...</td>\n",
       "      <td>...</td>\n",
       "      <td>...</td>\n",
       "      <td>...</td>\n",
       "    </tr>\n",
       "    <tr>\n",
       "      <th>29534</th>\n",
       "      <td>1</td>\n",
       "      <td>2.000000</td>\n",
       "      <td>5.00000</td>\n",
       "      <td>2019-09-12 16:26:00</td>\n",
       "      <td>5</td>\n",
       "      <td>2.000000</td>\n",
       "      <td>5.000000</td>\n",
       "      <td>NaN</td>\n",
       "      <td>Orange</td>\n",
       "      <td>Orange</td>\n",
       "      <td>Red</td>\n",
       "    </tr>\n",
       "    <tr>\n",
       "      <th>31079</th>\n",
       "      <td>1</td>\n",
       "      <td>1.000000</td>\n",
       "      <td>30.00000</td>\n",
       "      <td>2019-09-13 18:11:00</td>\n",
       "      <td>5</td>\n",
       "      <td>6.967465</td>\n",
       "      <td>42.318175</td>\n",
       "      <td>NaN</td>\n",
       "      <td>Orange</td>\n",
       "      <td>Orange</td>\n",
       "      <td>Red</td>\n",
       "    </tr>\n",
       "    <tr>\n",
       "      <th>31080</th>\n",
       "      <td>1</td>\n",
       "      <td>1.000000</td>\n",
       "      <td>30.00000</td>\n",
       "      <td>2019-09-13 18:12:00</td>\n",
       "      <td>5</td>\n",
       "      <td>1.000000</td>\n",
       "      <td>30.000000</td>\n",
       "      <td>NaN</td>\n",
       "      <td>Orange</td>\n",
       "      <td>Orange</td>\n",
       "      <td>Red</td>\n",
       "    </tr>\n",
       "    <tr>\n",
       "      <th>31081</th>\n",
       "      <td>1</td>\n",
       "      <td>1.000000</td>\n",
       "      <td>30.00000</td>\n",
       "      <td>2019-09-13 18:13:00</td>\n",
       "      <td>5</td>\n",
       "      <td>1.000000</td>\n",
       "      <td>30.000000</td>\n",
       "      <td>NaN</td>\n",
       "      <td>Orange</td>\n",
       "      <td>Orange</td>\n",
       "      <td>Red</td>\n",
       "    </tr>\n",
       "    <tr>\n",
       "      <th>31082</th>\n",
       "      <td>1</td>\n",
       "      <td>18.443659</td>\n",
       "      <td>70.97867</td>\n",
       "      <td>2019-09-13 18:14:00</td>\n",
       "      <td>5</td>\n",
       "      <td>6.814553</td>\n",
       "      <td>43.659557</td>\n",
       "      <td>NaN</td>\n",
       "      <td>Orange</td>\n",
       "      <td>Orange</td>\n",
       "      <td>Red</td>\n",
       "    </tr>\n",
       "  </tbody>\n",
       "</table>\n",
       "<p>65 rows × 11 columns</p>\n",
       "</div>"
      ],
      "text/plain": [
       "       in_room         rr        hr                   ts  user_id  \\\n",
       "841          1   5.000000  30.00000  2019-03-20 17:01:00        1   \n",
       "842          1   5.000000  30.00000  2019-03-20 17:02:00        1   \n",
       "843          1   5.000000  30.00000  2019-03-20 17:03:00        1   \n",
       "844          1   5.000000  30.00000  2019-03-20 17:04:00        1   \n",
       "845          1   5.000000  30.00000  2019-03-20 17:05:00        1   \n",
       "...        ...        ...       ...                  ...      ...   \n",
       "29534        1   2.000000   5.00000  2019-09-12 16:26:00        5   \n",
       "31079        1   1.000000  30.00000  2019-09-13 18:11:00        5   \n",
       "31080        1   1.000000  30.00000  2019-09-13 18:12:00        5   \n",
       "31081        1   1.000000  30.00000  2019-09-13 18:13:00        5   \n",
       "31082        1  18.443659  70.97867  2019-09-13 18:14:00        5   \n",
       "\n",
       "       rr_MA_3_min  hr_MA_3_min  rr_MA_1_day RR_Alert HR_Alert Red_Alert  \n",
       "841       8.436181    40.863001          NaN   Orange   Orange       Red  \n",
       "842       5.000000    30.000000          NaN   Orange   Orange       Red  \n",
       "843       5.000000    30.000000          NaN   Orange   Orange       Red  \n",
       "844       5.000000    30.000000          NaN   Orange   Orange       Red  \n",
       "845       5.000000    30.000000          NaN   Orange   Orange       Red  \n",
       "...            ...          ...          ...      ...      ...       ...  \n",
       "29534     2.000000     5.000000          NaN   Orange   Orange       Red  \n",
       "31079     6.967465    42.318175          NaN   Orange   Orange       Red  \n",
       "31080     1.000000    30.000000          NaN   Orange   Orange       Red  \n",
       "31081     1.000000    30.000000          NaN   Orange   Orange       Red  \n",
       "31082     6.814553    43.659557          NaN   Orange   Orange       Red  \n",
       "\n",
       "[65 rows x 11 columns]"
      ]
     },
     "execution_count": 316,
     "metadata": {},
     "output_type": "execute_result"
    }
   ],
   "source": [
    "df_MA_Alert[df_MA_Alert['Red_Alert'] == 'Red']"
   ]
  },
  {
   "cell_type": "code",
   "execution_count": 317,
   "metadata": {
    "ExecuteTime": {
     "end_time": "2022-07-18T20:28:30.514078Z",
     "start_time": "2022-07-18T20:28:30.482421Z"
    }
   },
   "outputs": [
    {
     "data": {
      "text/html": [
       "<div>\n",
       "<style scoped>\n",
       "    .dataframe tbody tr th:only-of-type {\n",
       "        vertical-align: middle;\n",
       "    }\n",
       "\n",
       "    .dataframe tbody tr th {\n",
       "        vertical-align: top;\n",
       "    }\n",
       "\n",
       "    .dataframe thead th {\n",
       "        text-align: right;\n",
       "    }\n",
       "</style>\n",
       "<table border=\"1\" class=\"dataframe\">\n",
       "  <thead>\n",
       "    <tr style=\"text-align: right;\">\n",
       "      <th></th>\n",
       "      <th>in_room</th>\n",
       "      <th>rr</th>\n",
       "      <th>hr</th>\n",
       "      <th>ts</th>\n",
       "      <th>user_id</th>\n",
       "      <th>rr_MA_3_min</th>\n",
       "      <th>hr_MA_3_min</th>\n",
       "      <th>rr_MA_1_day</th>\n",
       "      <th>RR_Alert</th>\n",
       "      <th>HR_Alert</th>\n",
       "      <th>Red_Alert</th>\n",
       "    </tr>\n",
       "  </thead>\n",
       "  <tbody>\n",
       "    <tr>\n",
       "      <th>314</th>\n",
       "      <td>1</td>\n",
       "      <td>5.252827</td>\n",
       "      <td>92.413238</td>\n",
       "      <td>2019-03-20 08:14:00</td>\n",
       "      <td>1</td>\n",
       "      <td>NaN</td>\n",
       "      <td>NaN</td>\n",
       "      <td>NaN</td>\n",
       "      <td>0</td>\n",
       "      <td>0</td>\n",
       "      <td>0</td>\n",
       "    </tr>\n",
       "    <tr>\n",
       "      <th>315</th>\n",
       "      <td>1</td>\n",
       "      <td>NaN</td>\n",
       "      <td>90.451836</td>\n",
       "      <td>2019-03-20 08:15:00</td>\n",
       "      <td>1</td>\n",
       "      <td>NaN</td>\n",
       "      <td>NaN</td>\n",
       "      <td>NaN</td>\n",
       "      <td>0</td>\n",
       "      <td>0</td>\n",
       "      <td>0</td>\n",
       "    </tr>\n",
       "    <tr>\n",
       "      <th>316</th>\n",
       "      <td>1</td>\n",
       "      <td>NaN</td>\n",
       "      <td>NaN</td>\n",
       "      <td>2019-03-20 08:16:00</td>\n",
       "      <td>1</td>\n",
       "      <td>NaN</td>\n",
       "      <td>NaN</td>\n",
       "      <td>NaN</td>\n",
       "      <td>0</td>\n",
       "      <td>0</td>\n",
       "      <td>0</td>\n",
       "    </tr>\n",
       "    <tr>\n",
       "      <th>318</th>\n",
       "      <td>1</td>\n",
       "      <td>8.180480</td>\n",
       "      <td>NaN</td>\n",
       "      <td>2019-03-20 08:18:00</td>\n",
       "      <td>1</td>\n",
       "      <td>NaN</td>\n",
       "      <td>NaN</td>\n",
       "      <td>NaN</td>\n",
       "      <td>0</td>\n",
       "      <td>0</td>\n",
       "      <td>0</td>\n",
       "    </tr>\n",
       "    <tr>\n",
       "      <th>319</th>\n",
       "      <td>1</td>\n",
       "      <td>18.764710</td>\n",
       "      <td>NaN</td>\n",
       "      <td>2019-03-20 08:19:00</td>\n",
       "      <td>1</td>\n",
       "      <td>NaN</td>\n",
       "      <td>NaN</td>\n",
       "      <td>NaN</td>\n",
       "      <td>0</td>\n",
       "      <td>0</td>\n",
       "      <td>0</td>\n",
       "    </tr>\n",
       "    <tr>\n",
       "      <th>...</th>\n",
       "      <td>...</td>\n",
       "      <td>...</td>\n",
       "      <td>...</td>\n",
       "      <td>...</td>\n",
       "      <td>...</td>\n",
       "      <td>...</td>\n",
       "      <td>...</td>\n",
       "      <td>...</td>\n",
       "      <td>...</td>\n",
       "      <td>...</td>\n",
       "      <td>...</td>\n",
       "    </tr>\n",
       "    <tr>\n",
       "      <th>35875</th>\n",
       "      <td>1</td>\n",
       "      <td>10.667067</td>\n",
       "      <td>73.873197</td>\n",
       "      <td>2019-09-17 02:07:00</td>\n",
       "      <td>5</td>\n",
       "      <td>15.833669</td>\n",
       "      <td>NaN</td>\n",
       "      <td>17.333498</td>\n",
       "      <td>0</td>\n",
       "      <td>0</td>\n",
       "      <td>0</td>\n",
       "    </tr>\n",
       "    <tr>\n",
       "      <th>35876</th>\n",
       "      <td>1</td>\n",
       "      <td>8.311632</td>\n",
       "      <td>63.986545</td>\n",
       "      <td>2019-09-17 02:08:00</td>\n",
       "      <td>5</td>\n",
       "      <td>10.723089</td>\n",
       "      <td>72.111172</td>\n",
       "      <td>17.326064</td>\n",
       "      <td>Orange</td>\n",
       "      <td>0</td>\n",
       "      <td>0</td>\n",
       "    </tr>\n",
       "    <tr>\n",
       "      <th>35877</th>\n",
       "      <td>1</td>\n",
       "      <td>NaN</td>\n",
       "      <td>NaN</td>\n",
       "      <td>2019-09-17 02:09:00</td>\n",
       "      <td>5</td>\n",
       "      <td>NaN</td>\n",
       "      <td>NaN</td>\n",
       "      <td>17.324765</td>\n",
       "      <td>0</td>\n",
       "      <td>0</td>\n",
       "      <td>0</td>\n",
       "    </tr>\n",
       "    <tr>\n",
       "      <th>35878</th>\n",
       "      <td>1</td>\n",
       "      <td>NaN</td>\n",
       "      <td>NaN</td>\n",
       "      <td>2019-09-17 02:10:00</td>\n",
       "      <td>5</td>\n",
       "      <td>NaN</td>\n",
       "      <td>NaN</td>\n",
       "      <td>17.324017</td>\n",
       "      <td>0</td>\n",
       "      <td>0</td>\n",
       "      <td>0</td>\n",
       "    </tr>\n",
       "    <tr>\n",
       "      <th>35879</th>\n",
       "      <td>1</td>\n",
       "      <td>NaN</td>\n",
       "      <td>93.320312</td>\n",
       "      <td>2019-09-17 02:11:00</td>\n",
       "      <td>5</td>\n",
       "      <td>NaN</td>\n",
       "      <td>NaN</td>\n",
       "      <td>17.322458</td>\n",
       "      <td>0</td>\n",
       "      <td>0</td>\n",
       "      <td>0</td>\n",
       "    </tr>\n",
       "  </tbody>\n",
       "</table>\n",
       "<p>22004 rows × 11 columns</p>\n",
       "</div>"
      ],
      "text/plain": [
       "       in_room         rr         hr                   ts  user_id  \\\n",
       "314          1   5.252827  92.413238  2019-03-20 08:14:00        1   \n",
       "315          1        NaN  90.451836  2019-03-20 08:15:00        1   \n",
       "316          1        NaN        NaN  2019-03-20 08:16:00        1   \n",
       "318          1   8.180480        NaN  2019-03-20 08:18:00        1   \n",
       "319          1  18.764710        NaN  2019-03-20 08:19:00        1   \n",
       "...        ...        ...        ...                  ...      ...   \n",
       "35875        1  10.667067  73.873197  2019-09-17 02:07:00        5   \n",
       "35876        1   8.311632  63.986545  2019-09-17 02:08:00        5   \n",
       "35877        1        NaN        NaN  2019-09-17 02:09:00        5   \n",
       "35878        1        NaN        NaN  2019-09-17 02:10:00        5   \n",
       "35879        1        NaN  93.320312  2019-09-17 02:11:00        5   \n",
       "\n",
       "       rr_MA_3_min  hr_MA_3_min  rr_MA_1_day RR_Alert HR_Alert Red_Alert  \n",
       "314            NaN          NaN          NaN        0        0         0  \n",
       "315            NaN          NaN          NaN        0        0         0  \n",
       "316            NaN          NaN          NaN        0        0         0  \n",
       "318            NaN          NaN          NaN        0        0         0  \n",
       "319            NaN          NaN          NaN        0        0         0  \n",
       "...            ...          ...          ...      ...      ...       ...  \n",
       "35875    15.833669          NaN    17.333498        0        0         0  \n",
       "35876    10.723089    72.111172    17.326064   Orange        0         0  \n",
       "35877          NaN          NaN    17.324765        0        0         0  \n",
       "35878          NaN          NaN    17.324017        0        0         0  \n",
       "35879          NaN          NaN    17.322458        0        0         0  \n",
       "\n",
       "[22004 rows x 11 columns]"
      ]
     },
     "execution_count": 317,
     "metadata": {},
     "output_type": "execute_result"
    }
   ],
   "source": [
    "df_MA_Alert"
   ]
  },
  {
   "cell_type": "markdown",
   "metadata": {},
   "source": [
    "### Doctor's visit Alert"
   ]
  },
  {
   "cell_type": "code",
   "execution_count": 325,
   "metadata": {
    "ExecuteTime": {
     "end_time": "2022-07-18T20:32:38.949259Z",
     "start_time": "2022-07-18T20:32:38.929351Z"
    }
   },
   "outputs": [],
   "source": [
    "conditions = [\n",
    "    (df_MA_Alert['rr_MA_1_day'] > 26),\n",
    "    (df_MA_Alert['rr_MA_1_day'] < 17)\n",
    "    ]\n",
    "\n",
    "values = ['Yellow', 'Yellow']\n",
    "\n",
    "df_MA_Alert['Infection_Alert'] = np.select(conditions, values)"
   ]
  },
  {
   "cell_type": "code",
   "execution_count": 326,
   "metadata": {
    "ExecuteTime": {
     "end_time": "2022-07-18T20:32:39.678687Z",
     "start_time": "2022-07-18T20:32:39.624977Z"
    }
   },
   "outputs": [
    {
     "data": {
      "text/html": [
       "<div>\n",
       "<style scoped>\n",
       "    .dataframe tbody tr th:only-of-type {\n",
       "        vertical-align: middle;\n",
       "    }\n",
       "\n",
       "    .dataframe tbody tr th {\n",
       "        vertical-align: top;\n",
       "    }\n",
       "\n",
       "    .dataframe thead th {\n",
       "        text-align: right;\n",
       "    }\n",
       "</style>\n",
       "<table border=\"1\" class=\"dataframe\">\n",
       "  <thead>\n",
       "    <tr style=\"text-align: right;\">\n",
       "      <th></th>\n",
       "      <th>in_room</th>\n",
       "      <th>rr</th>\n",
       "      <th>hr</th>\n",
       "      <th>ts</th>\n",
       "      <th>user_id</th>\n",
       "      <th>rr_MA_3_min</th>\n",
       "      <th>hr_MA_3_min</th>\n",
       "      <th>rr_MA_1_day</th>\n",
       "      <th>RR_Alert</th>\n",
       "      <th>HR_Alert</th>\n",
       "      <th>Red_Alert</th>\n",
       "      <th>Infection_Alert</th>\n",
       "    </tr>\n",
       "  </thead>\n",
       "  <tbody>\n",
       "    <tr>\n",
       "      <th>2472</th>\n",
       "      <td>1</td>\n",
       "      <td>14.529305</td>\n",
       "      <td>60.767311</td>\n",
       "      <td>2019-03-21 20:12:00</td>\n",
       "      <td>1</td>\n",
       "      <td>14.693159</td>\n",
       "      <td>NaN</td>\n",
       "      <td>15.241935</td>\n",
       "      <td>0</td>\n",
       "      <td>0</td>\n",
       "      <td>0</td>\n",
       "      <td>Yellow</td>\n",
       "    </tr>\n",
       "    <tr>\n",
       "      <th>2473</th>\n",
       "      <td>1</td>\n",
       "      <td>16.631799</td>\n",
       "      <td>71.249019</td>\n",
       "      <td>2019-03-21 20:13:00</td>\n",
       "      <td>1</td>\n",
       "      <td>15.077586</td>\n",
       "      <td>NaN</td>\n",
       "      <td>15.243324</td>\n",
       "      <td>0</td>\n",
       "      <td>0</td>\n",
       "      <td>0</td>\n",
       "      <td>Yellow</td>\n",
       "    </tr>\n",
       "    <tr>\n",
       "      <th>2474</th>\n",
       "      <td>1</td>\n",
       "      <td>13.853410</td>\n",
       "      <td>64.929655</td>\n",
       "      <td>2019-03-21 20:14:00</td>\n",
       "      <td>1</td>\n",
       "      <td>15.004838</td>\n",
       "      <td>65.648662</td>\n",
       "      <td>15.241936</td>\n",
       "      <td>0</td>\n",
       "      <td>0</td>\n",
       "      <td>0</td>\n",
       "      <td>Yellow</td>\n",
       "    </tr>\n",
       "    <tr>\n",
       "      <th>2475</th>\n",
       "      <td>1</td>\n",
       "      <td>16.151281</td>\n",
       "      <td>63.541122</td>\n",
       "      <td>2019-03-21 20:15:00</td>\n",
       "      <td>1</td>\n",
       "      <td>15.545497</td>\n",
       "      <td>66.573265</td>\n",
       "      <td>15.242843</td>\n",
       "      <td>0</td>\n",
       "      <td>0</td>\n",
       "      <td>0</td>\n",
       "      <td>Yellow</td>\n",
       "    </tr>\n",
       "    <tr>\n",
       "      <th>2476</th>\n",
       "      <td>1</td>\n",
       "      <td>19.698424</td>\n",
       "      <td>NaN</td>\n",
       "      <td>2019-03-21 20:16:00</td>\n",
       "      <td>1</td>\n",
       "      <td>16.567705</td>\n",
       "      <td>NaN</td>\n",
       "      <td>15.247281</td>\n",
       "      <td>0</td>\n",
       "      <td>0</td>\n",
       "      <td>0</td>\n",
       "      <td>Yellow</td>\n",
       "    </tr>\n",
       "    <tr>\n",
       "      <th>...</th>\n",
       "      <td>...</td>\n",
       "      <td>...</td>\n",
       "      <td>...</td>\n",
       "      <td>...</td>\n",
       "      <td>...</td>\n",
       "      <td>...</td>\n",
       "      <td>...</td>\n",
       "      <td>...</td>\n",
       "      <td>...</td>\n",
       "      <td>...</td>\n",
       "      <td>...</td>\n",
       "      <td>...</td>\n",
       "    </tr>\n",
       "    <tr>\n",
       "      <th>21103</th>\n",
       "      <td>1</td>\n",
       "      <td>25.259182</td>\n",
       "      <td>NaN</td>\n",
       "      <td>2019-07-01 19:59:00</td>\n",
       "      <td>3</td>\n",
       "      <td>23.759518</td>\n",
       "      <td>NaN</td>\n",
       "      <td>16.976118</td>\n",
       "      <td>0</td>\n",
       "      <td>0</td>\n",
       "      <td>0</td>\n",
       "      <td>Yellow</td>\n",
       "    </tr>\n",
       "    <tr>\n",
       "      <th>21104</th>\n",
       "      <td>1</td>\n",
       "      <td>25.386002</td>\n",
       "      <td>NaN</td>\n",
       "      <td>2019-07-01 20:00:00</td>\n",
       "      <td>3</td>\n",
       "      <td>25.584921</td>\n",
       "      <td>NaN</td>\n",
       "      <td>16.983691</td>\n",
       "      <td>0</td>\n",
       "      <td>0</td>\n",
       "      <td>0</td>\n",
       "      <td>Yellow</td>\n",
       "    </tr>\n",
       "    <tr>\n",
       "      <th>21105</th>\n",
       "      <td>1</td>\n",
       "      <td>23.705507</td>\n",
       "      <td>66.145249</td>\n",
       "      <td>2019-07-01 20:01:00</td>\n",
       "      <td>3</td>\n",
       "      <td>24.783564</td>\n",
       "      <td>NaN</td>\n",
       "      <td>16.989980</td>\n",
       "      <td>0</td>\n",
       "      <td>0</td>\n",
       "      <td>0</td>\n",
       "      <td>Yellow</td>\n",
       "    </tr>\n",
       "    <tr>\n",
       "      <th>21106</th>\n",
       "      <td>1</td>\n",
       "      <td>23.681992</td>\n",
       "      <td>65.296201</td>\n",
       "      <td>2019-07-01 20:02:00</td>\n",
       "      <td>3</td>\n",
       "      <td>24.257834</td>\n",
       "      <td>NaN</td>\n",
       "      <td>16.996043</td>\n",
       "      <td>0</td>\n",
       "      <td>0</td>\n",
       "      <td>0</td>\n",
       "      <td>Yellow</td>\n",
       "    </tr>\n",
       "    <tr>\n",
       "      <th>21107</th>\n",
       "      <td>1</td>\n",
       "      <td>17.104492</td>\n",
       "      <td>64.843750</td>\n",
       "      <td>2019-07-01 20:03:00</td>\n",
       "      <td>3</td>\n",
       "      <td>21.497330</td>\n",
       "      <td>65.428400</td>\n",
       "      <td>16.998508</td>\n",
       "      <td>0</td>\n",
       "      <td>0</td>\n",
       "      <td>0</td>\n",
       "      <td>Yellow</td>\n",
       "    </tr>\n",
       "  </tbody>\n",
       "</table>\n",
       "<p>7931 rows × 12 columns</p>\n",
       "</div>"
      ],
      "text/plain": [
       "       in_room         rr         hr                   ts  user_id  \\\n",
       "2472         1  14.529305  60.767311  2019-03-21 20:12:00        1   \n",
       "2473         1  16.631799  71.249019  2019-03-21 20:13:00        1   \n",
       "2474         1  13.853410  64.929655  2019-03-21 20:14:00        1   \n",
       "2475         1  16.151281  63.541122  2019-03-21 20:15:00        1   \n",
       "2476         1  19.698424        NaN  2019-03-21 20:16:00        1   \n",
       "...        ...        ...        ...                  ...      ...   \n",
       "21103        1  25.259182        NaN  2019-07-01 19:59:00        3   \n",
       "21104        1  25.386002        NaN  2019-07-01 20:00:00        3   \n",
       "21105        1  23.705507  66.145249  2019-07-01 20:01:00        3   \n",
       "21106        1  23.681992  65.296201  2019-07-01 20:02:00        3   \n",
       "21107        1  17.104492  64.843750  2019-07-01 20:03:00        3   \n",
       "\n",
       "       rr_MA_3_min  hr_MA_3_min  rr_MA_1_day RR_Alert HR_Alert Red_Alert  \\\n",
       "2472     14.693159          NaN    15.241935        0        0         0   \n",
       "2473     15.077586          NaN    15.243324        0        0         0   \n",
       "2474     15.004838    65.648662    15.241936        0        0         0   \n",
       "2475     15.545497    66.573265    15.242843        0        0         0   \n",
       "2476     16.567705          NaN    15.247281        0        0         0   \n",
       "...            ...          ...          ...      ...      ...       ...   \n",
       "21103    23.759518          NaN    16.976118        0        0         0   \n",
       "21104    25.584921          NaN    16.983691        0        0         0   \n",
       "21105    24.783564          NaN    16.989980        0        0         0   \n",
       "21106    24.257834          NaN    16.996043        0        0         0   \n",
       "21107    21.497330    65.428400    16.998508        0        0         0   \n",
       "\n",
       "      Infection_Alert  \n",
       "2472           Yellow  \n",
       "2473           Yellow  \n",
       "2474           Yellow  \n",
       "2475           Yellow  \n",
       "2476           Yellow  \n",
       "...               ...  \n",
       "21103          Yellow  \n",
       "21104          Yellow  \n",
       "21105          Yellow  \n",
       "21106          Yellow  \n",
       "21107          Yellow  \n",
       "\n",
       "[7931 rows x 12 columns]"
      ]
     },
     "execution_count": 326,
     "metadata": {},
     "output_type": "execute_result"
    }
   ],
   "source": [
    "df_MA_Alert[df_MA_Alert['Infection_Alert'] == 'Yellow']"
   ]
  },
  {
   "cell_type": "markdown",
   "metadata": {},
   "source": [
    "### Alert Compilation Feature"
   ]
  },
  {
   "cell_type": "code",
   "execution_count": 331,
   "metadata": {
    "ExecuteTime": {
     "end_time": "2022-07-18T20:38:55.644527Z",
     "start_time": "2022-07-18T20:38:55.616978Z"
    }
   },
   "outputs": [],
   "source": [
    "conditions = [\n",
    "    ((df_MA_Alert['RR_Alert'] == 'Orange') & (df_MA_Alert['HR_Alert'] != 'Orange')),\n",
    "    ((df_MA_Alert['RR_Alert'] != 'Orange') & (df_MA_Alert['HR_Alert'] == 'Orange')),\n",
    "    (df_MA_Alert['Infection_Alert'] == 'Yellow'),\n",
    "    (df_MA_Alert['Red_Alert'] == 'Red')\n",
    "    ]\n",
    "\n",
    "values = ['Orange', 'Orange', 'Yellow', 'Red']\n",
    "\n",
    "df_MA_Alert['Alert'] = np.select(conditions, values)"
   ]
  },
  {
   "cell_type": "code",
   "execution_count": 334,
   "metadata": {
    "ExecuteTime": {
     "end_time": "2022-07-18T20:39:17.930084Z",
     "start_time": "2022-07-18T20:39:17.918502Z"
    }
   },
   "outputs": [
    {
     "data": {
      "text/plain": [
       "0         13668\n",
       "Yellow     7621\n",
       "Orange      650\n",
       "Red          65\n",
       "Name: Alert, dtype: int64"
      ]
     },
     "execution_count": 334,
     "metadata": {},
     "output_type": "execute_result"
    }
   ],
   "source": [
    "df_MA_Alert['Alert'].value_counts()"
   ]
  },
  {
   "cell_type": "markdown",
   "metadata": {},
   "source": [
    "# Conclusion\n",
    "* Patients who exhibit abnormal heart rate or respiratory rate, but not both simultaneously, can be monitored with less intensity and true emergency situations can be identified more accurately.\n",
    "    * Measurements of heart and respiratory rate, when measured together allow us to address potential emergency situations, including resuscitation.\n",
    " \n",
    " <br>\n",
    "* Measurements of respiratory rate over a day allow us to recommend doctor visits for patients with increased likelihood of having or developing an infection.  \n",
    "    * Common infections for nursing home patients include lower respiratory and urinary tract infections.\n",
    "        * Urinary tract infections typically cause lower respiratory rates and lower respiratory infections typically cause higher respiratory rates.\n",
    "        * See this source for more information: [Cardiopulmonary Resuscitation in Adults Over 80: Outcome and the Perception of Appropriateness by Clinicians](https://agsjournals.onlinelibrary.wiley.com/doi/full/10.1111/jgs.16270)\n"
   ]
  },
  {
   "cell_type": "markdown",
   "metadata": {},
   "source": [
    "# Future Work"
   ]
  },
  {
   "cell_type": "markdown",
   "metadata": {},
   "source": [
    "## Awake at night Indicators:\n",
    "* Determine if these indicators can tell us when a person is awake at night, then recommend a check-in if they aren't sleeping for more than 30 minutes between 10 pm and 5 am."
   ]
  },
  {
   "cell_type": "markdown",
   "metadata": {},
   "source": [
    "## Understanding Repititious Data\n",
    "* Need to know why there are periods of many minutes with the same measurement for both heart and respiratory rate at concerning levels."
   ]
  }
 ],
 "metadata": {
  "kernelspec": {
   "display_name": "Python 3",
   "language": "python",
   "name": "python3"
  },
  "language_info": {
   "codemirror_mode": {
    "name": "ipython",
    "version": 3
   },
   "file_extension": ".py",
   "mimetype": "text/x-python",
   "name": "python",
   "nbconvert_exporter": "python",
   "pygments_lexer": "ipython3",
   "version": "3.8.5"
  },
  "toc": {
   "base_numbering": 1,
   "nav_menu": {},
   "number_sections": true,
   "sideBar": true,
   "skip_h1_title": false,
   "title_cell": "Table of Contents",
   "title_sidebar": "Contents",
   "toc_cell": true,
   "toc_position": {
    "height": "calc(100% - 180px)",
    "left": "10px",
    "top": "150px",
    "width": "315.188px"
   },
   "toc_section_display": true,
   "toc_window_display": true
  }
 },
 "nbformat": 4,
 "nbformat_minor": 4
}
